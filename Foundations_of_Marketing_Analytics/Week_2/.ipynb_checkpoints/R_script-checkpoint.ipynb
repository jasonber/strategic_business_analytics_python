{
 "cells": [
  {
   "cell_type": "markdown",
   "metadata": {},
   "source": [
    "#    MODULE 0 - INTRODUCTION"
   ]
  },
  {
   "cell_type": "markdown",
   "metadata": {},
   "source": [
    "# --- EXPLORE THE DATA -------------------------------------"
   ]
  },
  {
   "cell_type": "code",
   "execution_count": null,
   "metadata": {},
   "outputs": [],
   "source": [
    "# Load text file into local variable called 'data'\n",
    "data = read.delim(file = 'purchases.txt', header = FALSE, sep = '\\t', dec = '.')"
   ]
  },
  {
   "cell_type": "code",
   "execution_count": null,
   "metadata": {},
   "outputs": [],
   "source": [
    "# Display what has been loaded\n",
    "head(data)\n",
    "summary(data)"
   ]
  },
  {
   "cell_type": "code",
   "execution_count": null,
   "metadata": {},
   "outputs": [],
   "source": [
    "# Add headers and interpret the last column as a date, extract year of purchase\n",
    "colnames(data) = c('customer_id', 'purchase_amount', 'date_of_purchase')\n",
    "data$date_of_purchase = as.Date(data$date_of_purchase, \"%Y-%m-%d\")\n",
    "data$year_of_purchase = as.numeric(format(data$date_of_purchase, \"%Y\"))"
   ]
  },
  {
   "cell_type": "code",
   "execution_count": null,
   "metadata": {},
   "outputs": [],
   "source": [
    "# Display the data set after transformation\n",
    "head(data)\n",
    "summary(data)"
   ]
  },
  {
   "cell_type": "code",
   "execution_count": null,
   "metadata": {},
   "outputs": [],
   "source": [
    "# Explore the data using simple SQL statements\n",
    "library(sqldf)"
   ]
  },
  {
   "cell_type": "code",
   "execution_count": null,
   "metadata": {},
   "outputs": [],
   "source": [
    "# Number of purchases per year\n",
    "x = sqldf(\"SELECT year_of_purchase, COUNT(year_of_purchase) AS 'counter' FROM data GROUP BY 1 ORDER BY 1\")\n",
    "barplot(x$counter, names.arg = x$year_of_purchase)"
   ]
  },
  {
   "cell_type": "code",
   "execution_count": null,
   "metadata": {},
   "outputs": [],
   "source": [
    "# Average purchase amount per year\n",
    "x = sqldf(\"SELECT year_of_purchase, AVG(purchase_amount) AS 'avg_amount' FROM data GROUP BY 1 ORDER BY 1\")\n",
    "barplot(x$avg_amount, names.arg = x$year_of_purchase)"
   ]
  },
  {
   "cell_type": "code",
   "execution_count": null,
   "metadata": {},
   "outputs": [],
   "source": [
    "# Total purchase amounts per year\n",
    "x = sqldf(\"SELECT year_of_purchase, SUM(purchase_amount) AS 'sum_amount' FROM data GROUP BY 1 ORDER BY 1\")\n",
    "barplot(x$sum_amount, names.arg = x$year_of_purchase)"
   ]
  },
  {
   "cell_type": "code",
   "execution_count": null,
   "metadata": {},
   "outputs": [],
   "source": [
    "# All in one\n",
    "x = sqldf(\"SELECT year_of_purchase,\n",
    "                  COUNT(year_of_purchase) AS 'counter',\n",
    "                  AVG(purchase_amount) AS 'avg_amount',\n",
    "                  SUM(purchase_amount) AS 'sum_amount'\n",
    "           FROM data GROUP BY 1 ORDER BY 1\")\n",
    "print(x)"
   ]
  },
  {
   "cell_type": "markdown",
   "metadata": {},
   "source": [
    "#    MODULE 1 - STATISTICAL SEGMENTATION"
   ]
  },
  {
   "cell_type": "code",
   "execution_count": null,
   "metadata": {},
   "outputs": [],
   "source": [
    "# Load text file into local variable called 'data'\n",
    "data = read.delim(file = 'purchases.txt', header = FALSE, sep = '\\t', dec = '.')"
   ]
  },
  {
   "cell_type": "code",
   "execution_count": null,
   "metadata": {},
   "outputs": [],
   "source": [
    "# Add headers and interpret the last column as a date, extract year of purchase\n",
    "colnames(data) = c('customer_id', 'purchase_amount', 'date_of_purchase')\n",
    "data$date_of_purchase = as.Date(data$date_of_purchase, \"%Y-%m-%d\")\n",
    "data$days_since       = as.numeric(difftime(time1 = \"2016-01-01\",\n",
    "                                            time2 = data$date_of_purchase,\n",
    "                                            units = \"days\"))"
   ]
  },
  {
   "cell_type": "code",
   "execution_count": null,
   "metadata": {},
   "outputs": [],
   "source": [
    "# Display the data after transformation\n",
    "head(data)\n",
    "summary(data)"
   ]
  },
  {
   "cell_type": "code",
   "execution_count": null,
   "metadata": {},
   "outputs": [],
   "source": [
    "# Compute key marketing indicators using SQL language\n",
    "library(sqldf)"
   ]
  },
  {
   "cell_type": "code",
   "execution_count": null,
   "metadata": {},
   "outputs": [],
   "source": [
    "# Compute recency, frequency, and average purchase amount\n",
    "customers = sqldf(\"SELECT customer_id,\n",
    "                          MIN(days_since) AS 'recency',\n",
    "                          COUNT(*) AS 'frequency',\n",
    "                          AVG(purchase_amount) AS 'amount'\n",
    "                   FROM data GROUP BY 1\")"
   ]
  },
  {
   "cell_type": "code",
   "execution_count": null,
   "metadata": {},
   "outputs": [],
   "source": [
    "# Explore the data\n",
    "head(customers)\n",
    "summary(customers)\n",
    "hist(customers$recency)\n",
    "hist(customers$frequency)\n",
    "hist(customers$amount)\n",
    "hist(customers$amount, breaks = 100)"
   ]
  },
  {
   "cell_type": "markdown",
   "metadata": {},
   "source": [
    "# --- PREPARING AND TRANSFORMING DATA ----------------------"
   ]
  },
  {
   "cell_type": "code",
   "execution_count": null,
   "metadata": {},
   "outputs": [],
   "source": [
    "# Copy customer data into new data frame\n",
    "new_data = customers"
   ]
  },
  {
   "cell_type": "code",
   "execution_count": null,
   "metadata": {},
   "outputs": [],
   "source": [
    "# Remove customer id as a variable, store it as row names\n",
    "head(new_data)\n",
    "row.names(new_data) = new_data$customer_id\n",
    "new_data$customer_id = NULL\n",
    "head(new_data)\n"
   ]
  },
  {
   "cell_type": "code",
   "execution_count": null,
   "metadata": {},
   "outputs": [],
   "source": [
    "# Take the log-transform of the amount, and plot\n",
    "new_data$amount = log(new_data$amount)\n",
    "hist(new_data$amount)"
   ]
  },
  {
   "cell_type": "code",
   "execution_count": null,
   "metadata": {},
   "outputs": [],
   "source": [
    "# Standardize variables\n",
    "new_data = scale(new_data)\n",
    "head(new_data)"
   ]
  },
  {
   "cell_type": "markdown",
   "metadata": {},
   "source": [
    "# --- RUNNING A HIERARCHICAL SEGMENTATION ------------------"
   ]
  },
  {
   "cell_type": "code",
   "execution_count": null,
   "metadata": {},
   "outputs": [],
   "source": [
    "# Compute distance metrics on standardized data\n",
    "# This will likely generate an error on most machines\n",
    "# d = dist(new_data)"
   ]
  },
  {
   "cell_type": "code",
   "execution_count": null,
   "metadata": {},
   "outputs": [],
   "source": [
    "# Take a 10% sample\n",
    "sample = seq(1, 18417, by = 10)\n",
    "head(sample)\n",
    "customers_sample = customers[sample, ]\n",
    "new_data_sample  = new_data[sample, ]"
   ]
  },
  {
   "cell_type": "code",
   "execution_count": null,
   "metadata": {},
   "outputs": [],
   "source": [
    "# Compute distance metrics on standardized data\n",
    "d = dist(new_data_sample)"
   ]
  },
  {
   "cell_type": "code",
   "execution_count": null,
   "metadata": {},
   "outputs": [],
   "source": [
    "# Perform hierarchical clustering on distance metrics\n",
    "c = hclust(d, method=\"ward.D2\")\n"
   ]
  },
  {
   "cell_type": "code",
   "execution_count": null,
   "metadata": {},
   "outputs": [],
   "source": [
    "# Plot de dendogram\n",
    "plot(c)"
   ]
  },
  {
   "cell_type": "code",
   "execution_count": null,
   "metadata": {},
   "outputs": [],
   "source": [
    "# Cut at 9 segments\n",
    "members = cutree(c, k = 9)"
   ]
  },
  {
   "cell_type": "code",
   "execution_count": null,
   "metadata": {},
   "outputs": [],
   "source": [
    "# Show 30 first customers, frequency table\n",
    "members[1:30]\n",
    "table(members)"
   ]
  },
  {
   "cell_type": "code",
   "execution_count": null,
   "metadata": {},
   "outputs": [],
   "source": [
    "# Show profile of each segment\n",
    "aggregate(customers_sample[, 2:4], by = list(members), mean)"
   ]
  },
  {
   "cell_type": "markdown",
   "metadata": {},
   "source": [
    "#    MODULE 2 - MANAGERIAL SEGMENTATION"
   ]
  },
  {
   "cell_type": "markdown",
   "metadata": {},
   "source": [
    "# --- COMPUTING RECENCY, FREQUENCY, MONETARY VALUE ---------"
   ]
  },
  {
   "cell_type": "code",
   "execution_count": null,
   "metadata": {},
   "outputs": [],
   "source": [
    "# Load text file into local variable called 'data'\n",
    "data = read.delim(file = 'purchases.txt', header = FALSE, sep = '\\t', dec = '.')"
   ]
  },
  {
   "cell_type": "code",
   "execution_count": null,
   "metadata": {},
   "outputs": [],
   "source": [
    "# Add headers and interpret the last column as a date, extract year of purchase\n",
    "colnames(data) = c('customer_id', 'purchase_amount', 'date_of_purchase')\n",
    "data$date_of_purchase = as.Date(data$date_of_purchase, \"%Y-%m-%d\")\n",
    "data$year_of_purchase = as.numeric(format(data$date_of_purchase, \"%Y\"))\n",
    "data$days_since       = as.numeric(difftime(time1 = \"2016-01-01\",\n",
    "                                            time2 = data$date_of_purchase,\n",
    "                                            units = \"days\"))"
   ]
  },
  {
   "cell_type": "code",
   "execution_count": null,
   "metadata": {},
   "outputs": [],
   "source": [
    "# Display the data after transformation\n",
    "head(data)\n",
    "summary(data)\n"
   ]
  },
  {
   "cell_type": "code",
   "execution_count": null,
   "metadata": {},
   "outputs": [],
   "source": [
    "# Compute key marketing indicators using SQL language\n",
    "library(sqldf)"
   ]
  },
  {
   "cell_type": "code",
   "execution_count": null,
   "metadata": {},
   "outputs": [],
   "source": [
    "# Compute recency, frequency, and average purchase amount\n",
    "customers_2015 = sqldf(\"SELECT customer_id,\n",
    "                               MIN(days_since) AS 'recency',\n",
    "                               MAX(days_since) AS 'first_purchase',\n",
    "                               COUNT(*) AS 'frequency',\n",
    "                               AVG(purchase_amount) AS 'amount'\n",
    "                        FROM data GROUP BY 1\")"
   ]
  },
  {
   "cell_type": "code",
   "execution_count": null,
   "metadata": {},
   "outputs": [],
   "source": [
    "# Explore the data\n",
    "head(customers_2015)\n",
    "summary(customers_2015)\n",
    "hist(customers_2015$recency)\n",
    "hist(customers_2015$frequency)\n",
    "hist(customers_2015$amount)\n",
    "hist(customers_2015$amount, breaks = 100)"
   ]
  }
 ],
 "metadata": {
  "kernelspec": {
   "display_name": "R",
   "language": "R",
   "name": "ir"
  },
  "language_info": {
   "codemirror_mode": "r",
   "file_extension": ".r",
   "mimetype": "text/x-r-source",
   "name": "R",
   "pygments_lexer": "r",
   "version": "3.6.1"
  }
 },
 "nbformat": 4,
 "nbformat_minor": 2
}
