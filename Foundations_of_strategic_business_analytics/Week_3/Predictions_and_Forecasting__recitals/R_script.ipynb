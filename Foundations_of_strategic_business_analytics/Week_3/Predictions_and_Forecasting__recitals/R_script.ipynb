{
 "cells": [
  {
   "cell_type": "markdown",
   "metadata": {},
   "source": [
    "\n",
    "#     EXAMPLE N°1 - CREDIT SCORING 2                 #\n"
   ]
  },
  {
   "cell_type": "code",
   "execution_count": 14,
   "metadata": {},
   "outputs": [],
   "source": [
    "# Let's load our dataset and call it data\n",
    "dataold=read.table('DATA_3.01_CREDIT.csv',sep=',',header=TRUE) # The function read.table enables us to read flat files such as .csv files\n",
    "datanew=read.table('DATA_4.01_CREDIT2.csv',sep=',',header=TRUE) # The function read.table enables us to read flat files such as .csv files"
   ]
  },
  {
   "cell_type": "code",
   "execution_count": 15,
   "metadata": {},
   "outputs": [
    {
     "name": "stdout",
     "output_type": "stream",
     "text": [
      "'data.frame':\t100 obs. of  10 variables:\n",
      " $ Income   : num  21.8 31.3 59.9 44.1 82.7 ...\n",
      " $ Rating   : int  355 289 365 352 536 165 287 298 332 494 ...\n",
      " $ Cards    : int  1 3 1 1 2 2 3 3 2 3 ...\n",
      " $ Age      : int  50 38 46 79 64 50 80 41 33 34 ...\n",
      " $ Education: int  17 7 13 11 13 14 8 14 6 18 ...\n",
      " $ Gender   : Factor w/ 2 levels \" Male\",\"Female\": 1 2 2 1 2 2 1 2 1 2 ...\n",
      " $ Student  : Factor w/ 2 levels \"No\",\"Yes\": 1 1 1 1 1 1 1 1 1 1 ...\n",
      " $ Married  : Factor w/ 2 levels \"No\",\"Yes\": 2 1 2 2 2 2 2 2 1 2 ...\n",
      " $ Ethnicity: Factor w/ 3 levels \"African American\",..: 3 3 3 1 2 2 3 2 2 3 ...\n",
      " $ Balance  : int  580 172 295 414 905 0 70 0 681 885 ...\n"
     ]
    }
   ],
   "source": [
    "# Now let's have a look at our variables and see some summary statistics\n",
    "str(datanew) # The str() function shows the structure of your dataset and details the type of variables that it contains"
   ]
  },
  {
   "cell_type": "code",
   "execution_count": 16,
   "metadata": {},
   "outputs": [
    {
     "data": {
      "text/plain": [
       "     Income           Rating          Cards           Age       \n",
       " Min.   : 10.73   Min.   :112.0   Min.   :1.00   Min.   :23.00  \n",
       " 1st Qu.: 21.00   1st Qu.:282.0   1st Qu.:2.00   1st Qu.:44.00  \n",
       " Median : 33.27   Median :363.0   Median :3.00   Median :57.50  \n",
       " Mean   : 48.71   Mean   :375.4   Mean   :2.75   Mean   :57.72  \n",
       " 3rd Qu.: 61.80   3rd Qu.:448.0   3rd Qu.:3.00   3rd Qu.:71.00  \n",
       " Max.   :182.73   Max.   :982.0   Max.   :9.00   Max.   :98.00  \n",
       "   Education        Gender   Student  Married             Ethnicity \n",
       " Min.   : 6.00    Male :61   No :92   No :38   African American:21  \n",
       " 1st Qu.:11.00   Female:39   Yes: 8   Yes:62   Asian           :21  \n",
       " Median :14.00                                 Caucasian       :58  \n",
       " Mean   :13.62                                                      \n",
       " 3rd Qu.:16.00                                                      \n",
       " Max.   :19.00                                                      \n",
       "    Balance    \n",
       " Min.   :   0  \n",
       " 1st Qu.: 191  \n",
       " Median : 579  \n",
       " Mean   : 572  \n",
       " 3rd Qu.: 890  \n",
       " Max.   :1999  "
      ]
     },
     "metadata": {},
     "output_type": "display_data"
    }
   ],
   "source": [
    "summary(datanew) # The summary() function provides for each variable in your dataset the minimum, mean, maximum and quartiles"
   ]
  },
  {
   "cell_type": "code",
   "execution_count": 17,
   "metadata": {},
   "outputs": [],
   "source": [
    "linreg=lm(Rating~.,data=dataold) # Estimate a linear regression model of Rating as a function of everything else.\n",
    "predcreditscore = predict(linreg,newdata=datanew,type=\"response\") "
   ]
  },
  {
   "cell_type": "code",
   "execution_count": 18,
   "metadata": {},
   "outputs": [
    {
     "data": {
      "text/html": [
       "0.986732415714666"
      ],
      "text/latex": [
       "0.986732415714666"
      ],
      "text/markdown": [
       "0.986732415714666"
      ],
      "text/plain": [
       "[1] 0.9867324"
      ]
     },
     "metadata": {},
     "output_type": "display_data"
    }
   ],
   "source": [
    "cor(linreg$fitted.values,dataold$Rating) # Computes the correlation between the fitted values and the actual ones"
   ]
  },
  {
   "cell_type": "code",
   "execution_count": 19,
   "metadata": {},
   "outputs": [
    {
     "data": {
      "image/png": "[encoded data removed]",
      "text/plain": [
       "plot without title"
      ]
     },
     "metadata": {
      "image/png": {
       "height": 420,
       "width": 420
      },
      "text/plain": {
       "height": 420,
       "width": 420
      }
     },
     "output_type": "display_data"
    }
   ],
   "source": [
    "plot(dataold$Rating,linreg$fitted.values) # Plot the fitted values vs. the actual ones"
   ]
  },
  {
   "cell_type": "code",
   "execution_count": 20,
   "metadata": {},
   "outputs": [
    {
     "data": {
      "text/html": [
       "0.988097040111215"
      ],
      "text/latex": [
       "0.988097040111215"
      ],
      "text/markdown": [
       "0.988097040111215"
      ],
      "text/plain": [
       "[1] 0.988097"
      ]
     },
     "metadata": {},
     "output_type": "display_data"
    }
   ],
   "source": [
    "cor(predcreditscore,datanew$Rating) # Computes the correlation between the fitted values and the actual ones"
   ]
  },
  {
   "cell_type": "code",
   "execution_count": 21,
   "metadata": {},
   "outputs": [
    {
     "data": {
      "image/png": "[encoded data removed]",
      "text/plain": [
       "plot without title"
      ]
     },
     "metadata": {
      "image/png": {
       "height": 420,
       "width": 420
      },
      "text/plain": {
       "height": 420,
       "width": 420
      }
     },
     "output_type": "display_data"
    }
   ],
   "source": [
    "plot(datanew$Rating,predcreditscore) # Plot the fitted values vs. the actual ones"
   ]
  },
  {
   "cell_type": "markdown",
   "metadata": {},
   "source": [
    "#        EXAMPLE N°2 - HR ANALYTICS 3                #"
   ]
  },
  {
   "cell_type": "code",
   "execution_count": 22,
   "metadata": {},
   "outputs": [],
   "source": [
    "# Let's load our dataset\n",
    "dataold=read.table('DATA_3.02_HR2.csv', header = T,sep=',') # The function read.table enables us to read flat files such as .csv files\n",
    "datanew=read.table('DATA_4.02_HR3.csv', header = T,sep=',') # The new dataset on which we want to make the prediction\n"
   ]
  },
  {
   "cell_type": "code",
   "execution_count": 23,
   "metadata": {},
   "outputs": [
    {
     "name": "stdout",
     "output_type": "stream",
     "text": [
      "'data.frame':\t1000 obs. of  6 variables:\n",
      " $ S      : num  0.86 0.52 0.84 0.6 0.85 0.82 0.62 0.69 0.88 0.36 ...\n",
      " $ LPE    : num  0.69 0.98 0.6 0.65 0.57 0.61 0.53 0.8 0.68 0.65 ...\n",
      " $ NP     : int  4 4 5 3 3 4 3 3 5 5 ...\n",
      " $ ANH    : int  105 209 207 143 227 246 128 219 236 119 ...\n",
      " $ TIC    : int  4 2 2 2 2 3 4 3 3 5 ...\n",
      " $ Newborn: int  1 0 0 1 0 0 0 1 0 0 ...\n"
     ]
    }
   ],
   "source": [
    "str(datanew) # The str() function shows the structure of your dataset and details the type of variables that it contains"
   ]
  },
  {
   "cell_type": "code",
   "execution_count": 24,
   "metadata": {},
   "outputs": [
    {
     "data": {
      "text/plain": [
       "       S               LPE               NP             ANH       \n",
       " Min.   :0.1200   Min.   :0.3600   Min.   :2.000   Min.   : 96.0  \n",
       " 1st Qu.:0.5300   1st Qu.:0.5900   1st Qu.:3.000   1st Qu.:160.0  \n",
       " Median :0.6800   Median :0.7200   Median :4.000   Median :201.0  \n",
       " Mean   :0.6626   Mean   :0.7193   Mean   :3.781   Mean   :200.2  \n",
       " 3rd Qu.:0.8500   3rd Qu.:0.8600   3rd Qu.:4.000   3rd Qu.:241.0  \n",
       " Max.   :1.0000   Max.   :1.0000   Max.   :6.000   Max.   :287.0  \n",
       "      TIC           Newborn     \n",
       " Min.   :2.000   Min.   :0.000  \n",
       " 1st Qu.:2.000   1st Qu.:0.000  \n",
       " Median :3.000   Median :0.000  \n",
       " Mean   :3.103   Mean   :0.197  \n",
       " 3rd Qu.:4.000   3rd Qu.:0.000  \n",
       " Max.   :6.000   Max.   :1.000  "
      ]
     },
     "metadata": {},
     "output_type": "display_data"
    }
   ],
   "source": [
    "summary(datanew) # The summary() function provides for each variable in your dataset the minimum, mean, maximum and quartiles"
   ]
  },
  {
   "cell_type": "code",
   "execution_count": 25,
   "metadata": {},
   "outputs": [],
   "source": [
    "logreg = glm(left ~ ., family=binomial(logit), data=dataold) # Estimate the drivers of attrition\n",
    "probaToLeave=predict(logreg,newdata=datanew,type=\"response\") # Make predictions on the out-of-sample data"
   ]
  },
  {
   "cell_type": "code",
   "execution_count": 26,
   "metadata": {},
   "outputs": [
    {
     "ename": "ERROR",
     "evalue": "Error in View(predattrition): ‘View()’ not yet supported in the Jupyter R kernel\n",
     "output_type": "error",
     "traceback": [
      "Error in View(predattrition): ‘View()’ not yet supported in the Jupyter R kernel\nTraceback:\n",
      "1. View(predattrition)",
      "2. stop(sQuote(\"View()\"), \" not yet supported in the Jupyter R kernel\")"
     ]
    }
   ],
   "source": [
    "predattrition = data.frame(probaToLeave) # Structure the prediction output in a table\n",
    "View(predattrition) # View the predattrition dataframe"
   ]
  },
  {
   "cell_type": "code",
   "execution_count": 27,
   "metadata": {},
   "outputs": [
    {
     "ename": "ERROR",
     "evalue": "Error in View(predattrition): ‘View()’ not yet supported in the Jupyter R kernel\n",
     "output_type": "error",
     "traceback": [
      "Error in View(predattrition): ‘View()’ not yet supported in the Jupyter R kernel\nTraceback:\n",
      "1. View(predattrition)",
      "2. stop(sQuote(\"View()\"), \" not yet supported in the Jupyter R kernel\")"
     ]
    }
   ],
   "source": [
    "predattrition$performance=datanew$LPE # Add a column to the predattrition dataframe containing the performance\n",
    "View(predattrition) # View the predattrition dataframe"
   ]
  },
  {
   "cell_type": "code",
   "execution_count": 28,
   "metadata": {},
   "outputs": [
    {
     "data": {
      "image/png": "[encoded data removed]",
      "text/plain": [
       "plot without title"
      ]
     },
     "metadata": {
      "image/png": {
       "height": 420,
       "width": 420
      },
      "text/plain": {
       "height": 420,
       "width": 420
      }
     },
     "output_type": "display_data"
    }
   ],
   "source": [
    "plot(predattrition$probaToLeave,predattrition$performance)"
   ]
  },
  {
   "cell_type": "code",
   "execution_count": 29,
   "metadata": {},
   "outputs": [
    {
     "ename": "ERROR",
     "evalue": "Error in View(predattrition): ‘View()’ not yet supported in the Jupyter R kernel\n",
     "output_type": "error",
     "traceback": [
      "Error in View(predattrition): ‘View()’ not yet supported in the Jupyter R kernel\nTraceback:\n",
      "1. View(predattrition)",
      "2. stop(sQuote(\"View()\"), \" not yet supported in the Jupyter R kernel\")"
     ]
    }
   ],
   "source": [
    "predattrition$priority=predattrition$performance*predattrition$probaToLeave\n",
    "View(predattrition)"
   ]
  },
  {
   "cell_type": "code",
   "execution_count": 30,
   "metadata": {},
   "outputs": [
    {
     "ename": "ERROR",
     "evalue": "Error in View(orderpredattrition): ‘View()’ not yet supported in the Jupyter R kernel\n",
     "output_type": "error",
     "traceback": [
      "Error in View(orderpredattrition): ‘View()’ not yet supported in the Jupyter R kernel\nTraceback:\n",
      "1. View(orderpredattrition)",
      "2. stop(sQuote(\"View()\"), \" not yet supported in the Jupyter R kernel\")"
     ]
    }
   ],
   "source": [
    "orderpredattrition=predattrition[order(predattrition$priority,decreasing = TRUE),]\n",
    "View(orderpredattrition)\n"
   ]
  },
  {
   "cell_type": "markdown",
   "metadata": {},
   "source": [
    "#        EXAMPLE N°3 - PREDICTIVE MAINTENANCE       #"
   ]
  },
  {
   "cell_type": "code",
   "execution_count": 1,
   "metadata": {},
   "outputs": [],
   "source": [
    "# Let's load the data\n",
    "data=read.table('DATA_4.03_MNT.csv',sep=',',header=TRUE)"
   ]
  },
  {
   "cell_type": "code",
   "execution_count": 2,
   "metadata": {},
   "outputs": [
    {
     "name": "stdout",
     "output_type": "stream",
     "text": [
      "'data.frame':\t1000 obs. of  7 variables:\n",
      " $ lifetime      : int  56 81 60 86 34 30 68 65 23 81 ...\n",
      " $ broken        : int  0 1 0 1 0 0 0 1 0 1 ...\n",
      " $ pressureInd   : num  92.2 72.1 96.3 94.4 97.8 ...\n",
      " $ moistureInd   : num  104.2 103.1 77.8 108.5 99.4 ...\n",
      " $ temperatureInd: num  96.5 87.3 112.2 72 103.8 ...\n",
      " $ team          : Factor w/ 3 levels \"TeamA\",\"TeamB\",..: 1 3 1 3 2 1 2 2 2 3 ...\n",
      " $ provider      : Factor w/ 4 levels \"Provider1\",\"Provider2\",..: 4 4 1 2 1 1 2 3 2 4 ...\n"
     ]
    }
   ],
   "source": [
    "str(data) # The str() function shows the structure of your dataset and details the type of variables that it contains"
   ]
  },
  {
   "cell_type": "code",
   "execution_count": 3,
   "metadata": {},
   "outputs": [
    {
     "data": {
      "text/plain": [
       "    lifetime        broken       pressureInd      moistureInd    \n",
       " Min.   : 1.0   Min.   :0.000   Min.   : 33.48   Min.   : 58.55  \n",
       " 1st Qu.:34.0   1st Qu.:0.000   1st Qu.: 85.56   1st Qu.: 92.77  \n",
       " Median :60.0   Median :0.000   Median : 97.22   Median : 99.43  \n",
       " Mean   :55.2   Mean   :0.397   Mean   : 98.60   Mean   : 99.38  \n",
       " 3rd Qu.:80.0   3rd Qu.:1.000   3rd Qu.:112.25   3rd Qu.:106.12  \n",
       " Max.   :93.0   Max.   :1.000   Max.   :173.28   Max.   :128.60  \n",
       " temperatureInd      team          provider  \n",
       " Min.   : 42.28   TeamA:336   Provider1:254  \n",
       " 1st Qu.: 87.68   TeamB:356   Provider2:266  \n",
       " Median :100.59   TeamC:308   Provider3:242  \n",
       " Mean   :100.63               Provider4:238  \n",
       " 3rd Qu.:113.66                              \n",
       " Max.   :172.54                              "
      ]
     },
     "metadata": {},
     "output_type": "display_data"
    }
   ],
   "source": [
    "summary(data) # The summary() function provides for each variable in your dataset the minimum, mean, maximum and quartiles"
   ]
  },
  {
   "cell_type": "code",
   "execution_count": 4,
   "metadata": {},
   "outputs": [],
   "source": [
    "linregmodel = lm(lifetime~.-broken,data=data)  # Build a linear regression model"
   ]
  },
  {
   "cell_type": "code",
   "execution_count": 5,
   "metadata": {
    "scrolled": true
   },
   "outputs": [
    {
     "data": {
      "text/plain": [
       "\n",
       "Call:\n",
       "lm(formula = lifetime ~ . - broken, data = data)\n",
       "\n",
       "Residuals:\n",
       "    Min      1Q  Median      3Q     Max \n",
       "-59.388 -21.788   8.051  21.112  34.891 \n",
       "\n",
       "Coefficients:\n",
       "                    Estimate Std. Error t value Pr(>|t|)    \n",
       "(Intercept)       59.3732039 10.3412622   5.741 1.25e-08 ***\n",
       "pressureInd       -0.0031500  0.0416461  -0.076   0.9397    \n",
       "moistureInd       -0.0173023  0.0830046  -0.208   0.8349    \n",
       "temperatureInd    -0.0002769  0.0421330  -0.007   0.9948    \n",
       "teamTeamB          1.5491323  1.9983947   0.775   0.4384    \n",
       "teamTeamC         -3.4280411  2.0670679  -1.658   0.0976 .  \n",
       "providerProvider2  0.8835691  2.2944030   0.385   0.7002    \n",
       "providerProvider3 -9.4858216  2.3490911  -4.038 5.80e-05 ***\n",
       "providerProvider4  1.8679357  2.3616268   0.791   0.4292    \n",
       "---\n",
       "Signif. codes:  0 ‘***’ 0.001 ‘**’ 0.01 ‘*’ 0.05 ‘.’ 0.1 ‘ ’ 1\n",
       "\n",
       "Residual standard error: 26.13 on 991 degrees of freedom\n",
       "Multiple R-squared:  0.0339,\tAdjusted R-squared:  0.0261 \n",
       "F-statistic: 4.346 on 8 and 991 DF,  p-value: 3.619e-05\n"
      ]
     },
     "metadata": {},
     "output_type": "display_data"
    }
   ],
   "source": [
    "summary(linregmodel) # The summary() function shows the output of your model"
   ]
  },
  {
   "cell_type": "code",
   "execution_count": 6,
   "metadata": {},
   "outputs": [],
   "source": [
    "# install.packages(\"survival\") # Install the survival package to your computer"
   ]
  },
  {
   "cell_type": "code",
   "execution_count": 7,
   "metadata": {},
   "outputs": [],
   "source": [
    "library(survival) # Load the survival package"
   ]
  },
  {
   "cell_type": "code",
   "execution_count": 8,
   "metadata": {},
   "outputs": [],
   "source": [
    "dependantvars = Surv(data$lifetime, data$broken) # choose the dependant variables to be used in the survival regression model with the Surv() function"
   ]
  },
  {
   "cell_type": "code",
   "execution_count": 22,
   "metadata": {
    "scrolled": true
   },
   "outputs": [
    {
     "data": {
      "text/plain": [
       "   [1] 56+ 81  60+ 86  34+ 30+ 68+ 65  23+ 81  38+ 29+ 65  65  82  80  48+ 80 \n",
       "  [19] 92  88  74  65+ 61+ 35+ 26+ 63+ 88  79  53+ 73  60  13+ 34+ 36+ 80  65 \n",
       "  [37] 31+ 74  25+ 58+ 80  65  19+ 60  84+ 13+ 12+ 15+ 26+ 43+ 80  65   1+ 34+\n",
       "  [55] 80  12+ 92  82  65  20+ 16+  3+ 18+  7+ 47+ 23+ 39+ 48+ 57+ 68+ 18+  1+\n",
       "  [73] 81  65+  4+ 24+ 74  74  16+ 88+ 28+ 92  49+ 39+ 18+ 80+ 81  65  79  19+\n",
       "  [91] 58+ 76+ 92  92  52+ 29+ 65   8+ 53+ 40+ 46+  5+ 41+ 12+ 65  80  93  63+\n",
       " [109] 77+ 65  92  62+ 52+ 85  92  92  88  80  58+ 55+ 33+ 13+ 34+ 85  65  80+\n",
       " [127] 41+ 65  65  43+ 80  80  55+ 88  17+ 86   3+ 81+ 93  65  55+ 25+ 93  82 \n",
       " [145] 13+ 19+ 86  60  81  80  93  43+ 63+ 45+ 93  77+  9+ 60  62+ 82  29+ 65 \n",
       " [163] 49+ 72+ 16+ 56+ 80  40+ 57+ 88  93  20+ 12+ 57+ 65  50+ 42+ 49+ 65+ 65 \n",
       " [181] 44+ 92   9+ 48+ 49+ 65  36+ 60  81+ 24+ 60  65  63+ 93  92  65  28+ 25+\n",
       " [199] 74  20+ 93  57+ 46+ 60  56+  1+ 76+ 31+ 54+  1+ 64+ 53+ 62+ 12+ 76+ 53+\n",
       " [217] 86  29+ 80  65  60+ 65  88+ 47+  3+ 65  19+ 65  50+ 30+ 58+ 82  26+ 93 \n",
       " [235] 80  64+ 46+ 80  58+ 25+ 80  27+ 93   8+ 24+ 80  48+ 52+ 65  74  24+ 85 \n",
       " [253] 93  16+ 13+ 22+ 86  58+ 60  93  88  86  62+ 92  65+ 88  81  22+ 45+ 59+\n",
       " [271] 35+ 18+ 38+ 81  92  80  61   4+ 48+ 63+ 31+ 65  65  93  81  65  13+ 35+\n",
       " [289] 92  65  85  73  54+ 56+ 61+ 12+ 26+ 60  17+ 65  18+ 35+ 60  49+ 85  30+\n",
       " [307] 81  66  83+ 14+ 80  79  79   7+ 80+ 44+ 46+ 85  81   5+ 51+ 49+ 51+ 80 \n",
       " [325]  4+ 55+ 66+  9+ 76+ 65+ 71+ 85+ 21+ 45+ 74  78+ 56+ 60   6+ 50+ 28+ 93 \n",
       " [343] 69+ 28+ 46+ 24+ 61+ 77+ 54+ 22+ 63+ 81  65  81  74  66+ 85+ 30+ 80  80 \n",
       " [361] 63+ 19+ 54+ 40+ 35+ 29+ 89  80  33+ 81+ 80  88  77+  8+  2+ 14+ 80  74 \n",
       " [379] 38+ 65  79  41+ 13+ 42+ 92  92  65  34+ 65  65  65  80  61+ 45+ 33+ 55+\n",
       " [397] 86   2+ 80  61+ 62+ 23+ 60+ 73  92  50+ 92  46+ 79  67+ 54+ 27+ 93  81+\n",
       " [415] 86   6+ 58+ 41+ 43+ 50+ 56+ 72+ 93  86   5+ 67+ 85  83+ 88+ 33+ 82+ 93 \n",
       " [433] 12+ 20+ 92  69+ 52+ 55+ 72+ 65  27+ 80  74+ 66+  7+ 79  92  73  53+ 88 \n",
       " [451] 81  93  80  60  87+ 51+ 38+ 88  93  49+ 58+ 65  88  57+  1+ 74+ 49+ 92 \n",
       " [469] 74  65  18+  2+ 84+ 93  21+ 16+ 34+ 88  81  88  60  35+ 74  12+ 60  11+\n",
       " [487] 48+ 62+ 59+ 93   5+ 59+ 55+ 79  11+ 18+ 55+ 93  81  80  80  74  65  93 \n",
       " [505] 79  23+ 34+ 85  52+ 65  71+ 60+ 38+ 66+ 39+ 74+ 55+ 54+ 59+ 27+ 34+  7+\n",
       " [523] 20+ 88  41+  8+ 31+ 36+ 92  81  23+ 86+ 88  34+ 25+ 60+ 13+ 65  42+ 74 \n",
       " [541] 16+ 56+  2+ 40+  8+ 93  74  53+ 12+ 65  92  34+ 92  93  80  44+ 60  35+\n",
       " [559] 22+ 46+  8+ 71+ 85+ 40+ 92   9+ 47+ 53+ 16+ 17+ 65  88  19+ 77+ 65  63+\n",
       " [577] 47+ 10+ 80  74  53+ 92  55+ 48+ 85  65  61+ 32+ 86  60  85+ 18+ 81  81 \n",
       " [595] 80  78+ 39+ 88  79  28+ 86  74  81  34+ 80   2+ 80  49+ 73+ 12+ 18+ 88 \n",
       " [613] 60+ 15+ 44+ 30+ 12+ 80+ 60  77+  9+ 17+ 74  92  85  80  61+ 38+ 48+ 65 \n",
       " [631] 55+ 88  80+ 86  61+ 77+ 61+ 80  85  71+ 35+  7+ 10+ 80  60  80  60  65 \n",
       " [649] 46+ 93  50+ 28+ 92  51+ 12+  4+ 65  53+ 35+ 20+ 60+ 56+ 72+ 60  37+ 80 \n",
       " [667] 10+ 60   9+  9+ 32+ 31+ 65  65  86  73  60  80  58+ 32+ 79  24+ 65  71+\n",
       " [685] 56+ 79  56+ 65  46+ 80  49+  2+ 85  73  24+ 67+ 88  81  42+  5+ 88  31+\n",
       " [703] 73  88  80  20+ 16+  4+  7+ 56+ 41+ 45+ 62+ 26+  8+ 19+ 88  79+  2+ 90+\n",
       " [721]  5+ 88  18+ 57+ 72+ 80  60  80  65  42+ 93  38+ 60  62+ 65  42+ 65  26+\n",
       " [739] 35+ 17+  2+ 16+ 24+ 59+ 79  37+ 93  26+ 27+ 65  52+ 62+ 53+ 67+ 49+ 58+\n",
       " [757] 33+ 88  65  65  80  16+ 10+  4+ 80  72+ 79  77+ 71+ 45+ 81+ 82  46+ 26+\n",
       " [775] 21+  8+ 31+ 85  19+ 81  41+ 28+ 80  88  66  65+ 10+ 80  65  65  44+ 80 \n",
       " [793] 17+ 22+ 47+  5+ 47+ 27+ 42+ 92  37+ 92   4+ 88  30+ 78+ 23+  9+ 31+ 79 \n",
       " [811] 68+ 80  43+ 80  29+ 74  92  80  66+ 88  37+ 80  12+ 65  23+ 69+ 49+ 81 \n",
       " [829] 40+ 44+ 72+ 93  69+ 49+  4+ 81  65   5+ 22+ 80  73  88  88  39+ 58+ 67+\n",
       " [847] 60  29+ 44+  5+ 31+  5+ 79  38+  2+ 92  34+ 74  73  63+ 65  31+ 42+ 42+\n",
       " [865] 19+ 36+ 36+ 16+ 79  80  60  51+ 67+ 88  19+ 35+  2+ 65  65  45+ 17+ 73 \n",
       " [883] 65  61+ 93  80  27+ 29+ 60  14+ 60  18+ 92  27+ 44+ 45+ 11+ 38+ 32+ 56+\n",
       " [901]  9+ 78+ 60  80  80  93  66  41+ 88  67+ 80  54+ 55+ 81  40+ 88  85+ 60 \n",
       " [919] 88+ 65+ 79  41+ 66  10+ 12+ 25+ 25+ 42+ 12+ 80  57+ 44+  9+ 81  17+ 65 \n",
       " [937] 26+ 65  65  73+ 88  73  66  53+ 63+ 77+ 93  88  68+ 74  27+ 13+ 49+  2+\n",
       " [955] 80  18+ 23+ 14+ 30+ 28+ 65  34+ 88  30+ 79  44+ 80  88  88  48+ 81  81 \n",
       " [973] 81+ 60  64+ 88  86  80  65  55+ 25+ 52+ 29+ 58+ 66  36+ 88  67+ 45+ 30+\n",
       " [991] 65  76+ 60  65  80  88  88  22+ 78+ 63+"
      ]
     },
     "metadata": {},
     "output_type": "display_data"
    }
   ],
   "source": [
    "dependantvars"
   ]
  },
  {
   "cell_type": "code",
   "execution_count": 9,
   "metadata": {},
   "outputs": [],
   "source": [
    "survreg = survreg(dependantvars~pressureInd+moistureInd+temperatureInd+team+provider, dist=\"gaussian\",data=data) # Create your survival regression model"
   ]
  },
  {
   "cell_type": "code",
   "execution_count": 10,
   "metadata": {},
   "outputs": [
    {
     "data": {
      "text/plain": [
       "\n",
       "Call:\n",
       "survreg(formula = dependantvars ~ pressureInd + moistureInd + \n",
       "    temperatureInd + team + provider, data = data, dist = \"gaussian\")\n",
       "                      Value Std. Error       z      p\n",
       "(Intercept)        8.04e+01   2.94e-01  273.57 <2e-16\n",
       "pressureInd       -7.14e-04   1.22e-03   -0.59  0.557\n",
       "moistureInd        6.01e-03   2.40e-03    2.51  0.012\n",
       "temperatureInd    -1.04e-02   1.21e-03   -8.59 <2e-16\n",
       "teamTeamB         -5.67e-02   5.88e-02   -0.96  0.335\n",
       "teamTeamC         -6.22e+00   6.13e-02 -101.39 <2e-16\n",
       "providerProvider2  1.25e+01   6.67e-02  187.46 <2e-16\n",
       "providerProvider3 -1.44e+01   6.27e-02 -229.24 <2e-16\n",
       "providerProvider4  7.92e+00   7.06e-02  112.23 <2e-16\n",
       "Log(scale)        -7.43e-01   3.54e-02  -21.00 <2e-16\n",
       "\n",
       "Scale= 0.476 \n",
       "\n",
       "Gaussian distribution\n",
       "Loglik(model)= -270.1   Loglik(intercept only)= -1557\n",
       "\tChisq= 2573.75 on 8 degrees of freedom, p= 0 \n",
       "Number of Newton-Raphson Iterations: 12 \n",
       "n= 1000 \n"
      ]
     },
     "metadata": {},
     "output_type": "display_data"
    }
   ],
   "source": [
    "summary(survreg)  # The summary() function shows the output of your model"
   ]
  },
  {
   "cell_type": "code",
   "execution_count": 11,
   "metadata": {},
   "outputs": [],
   "source": [
    "Ebreak=predict(survreg, newdata=data, type=\"quantile\", p=.5) # Make predictions based on the model. Here we estimate the median lifetime as the expected moment of \"death\""
   ]
  },
  {
   "cell_type": "code",
   "execution_count": 19,
   "metadata": {
    "scrolled": true
   },
   "outputs": [
    {
     "data": {
      "text/html": [
       "<table>\n",
       "<caption>A data.frame: 1000 × 1</caption>\n",
       "<thead>\n",
       "\t<tr><th></th><th scope=col>Ebreak</th></tr>\n",
       "\t<tr><th></th><th scope=col>&lt;dbl&gt;</th></tr>\n",
       "</thead>\n",
       "<tbody>\n",
       "\t<tr><th scope=row>1</th><td>87.82547</td></tr>\n",
       "\t<tr><th scope=row>2</th><td>81.71139</td></tr>\n",
       "\t<tr><th scope=row>3</th><td>79.58070</td></tr>\n",
       "\t<tr><th scope=row>4</th><td>86.46185</td></tr>\n",
       "\t<tr><th scope=row>5</th><td>79.74085</td></tr>\n",
       "\t<tr><th scope=row>6</th><td>80.04827</td></tr>\n",
       "\t<tr><th scope=row>7</th><td>91.74787</td></tr>\n",
       "\t<tr><th scope=row>8</th><td>65.37599</td></tr>\n",
       "\t<tr><th scope=row>9</th><td>92.42379</td></tr>\n",
       "\t<tr><th scope=row>10</th><td>81.58274</td></tr>\n",
       "\t<tr><th scope=row>11</th><td>87.82230</td></tr>\n",
       "\t<tr><th scope=row>12</th><td>79.60503</td></tr>\n",
       "\t<tr><th scope=row>13</th><td>65.45418</td></tr>\n",
       "\t<tr><th scope=row>14</th><td>65.34202</td></tr>\n",
       "\t<tr><th scope=row>15</th><td>81.77383</td></tr>\n",
       "\t<tr><th scope=row>16</th><td>79.88564</td></tr>\n",
       "\t<tr><th scope=row>17</th><td>59.24190</td></tr>\n",
       "\t<tr><th scope=row>18</th><td>79.77470</td></tr>\n",
       "\t<tr><th scope=row>19</th><td>92.07924</td></tr>\n",
       "\t<tr><th scope=row>20</th><td>87.96800</td></tr>\n",
       "\t<tr><th scope=row>21</th><td>73.67444</td></tr>\n",
       "\t<tr><th scope=row>22</th><td>92.26646</td></tr>\n",
       "\t<tr><th scope=row>23</th><td>73.31973</td></tr>\n",
       "\t<tr><th scope=row>24</th><td>85.89724</td></tr>\n",
       "\t<tr><th scope=row>25</th><td>92.19244</td></tr>\n",
       "\t<tr><th scope=row>26</th><td>65.57060</td></tr>\n",
       "\t<tr><th scope=row>27</th><td>87.83202</td></tr>\n",
       "\t<tr><th scope=row>28</th><td>79.47385</td></tr>\n",
       "\t<tr><th scope=row>29</th><td>65.25681</td></tr>\n",
       "\t<tr><th scope=row>30</th><td>73.26986</td></tr>\n",
       "\t<tr><th scope=row>⋮</th><td>⋮</td></tr>\n",
       "\t<tr><th scope=row>971</th><td>81.15804</td></tr>\n",
       "\t<tr><th scope=row>972</th><td>81.54995</td></tr>\n",
       "\t<tr><th scope=row>973</th><td>86.12517</td></tr>\n",
       "\t<tr><th scope=row>974</th><td>59.26829</td></tr>\n",
       "\t<tr><th scope=row>975</th><td>87.58632</td></tr>\n",
       "\t<tr><th scope=row>976</th><td>87.82670</td></tr>\n",
       "\t<tr><th scope=row>977</th><td>86.17369</td></tr>\n",
       "\t<tr><th scope=row>978</th><td>79.70328</td></tr>\n",
       "\t<tr><th scope=row>979</th><td>65.38629</td></tr>\n",
       "\t<tr><th scope=row>980</th><td>92.24430</td></tr>\n",
       "\t<tr><th scope=row>981</th><td>92.32631</td></tr>\n",
       "\t<tr><th scope=row>982</th><td>81.61624</td></tr>\n",
       "\t<tr><th scope=row>983</th><td>80.02203</td></tr>\n",
       "\t<tr><th scope=row>984</th><td>65.41859</td></tr>\n",
       "\t<tr><th scope=row>985</th><td>65.71773</td></tr>\n",
       "\t<tr><th scope=row>986</th><td>80.25522</td></tr>\n",
       "\t<tr><th scope=row>987</th><td>87.51683</td></tr>\n",
       "\t<tr><th scope=row>988</th><td>91.99860</td></tr>\n",
       "\t<tr><th scope=row>989</th><td>92.76127</td></tr>\n",
       "\t<tr><th scope=row>990</th><td>65.31428</td></tr>\n",
       "\t<tr><th scope=row>991</th><td>65.53665</td></tr>\n",
       "\t<tr><th scope=row>992</th><td>85.94258</td></tr>\n",
       "\t<tr><th scope=row>993</th><td>59.20539</td></tr>\n",
       "\t<tr><th scope=row>994</th><td>65.32424</td></tr>\n",
       "\t<tr><th scope=row>995</th><td>80.03728</td></tr>\n",
       "\t<tr><th scope=row>996</th><td>87.78420</td></tr>\n",
       "\t<tr><th scope=row>997</th><td>87.86289</td></tr>\n",
       "\t<tr><th scope=row>998</th><td>79.88304</td></tr>\n",
       "\t<tr><th scope=row>999</th><td>87.95302</td></tr>\n",
       "\t<tr><th scope=row>1000</th><td>80.31552</td></tr>\n",
       "</tbody>\n",
       "</table>\n"
      ],
      "text/latex": [
       "A data.frame: 1000 × 1\n",
       "\\begin{tabular}{r|l}\n",
       "  & Ebreak\\\\\n",
       "  & <dbl>\\\\\n",
       "\\hline\n",
       "\t1 & 87.82547\\\\\n",
       "\t2 & 81.71139\\\\\n",
       "\t3 & 79.58070\\\\\n",
       "\t4 & 86.46185\\\\\n",
       "\t5 & 79.74085\\\\\n",
       "\t6 & 80.04827\\\\\n",
       "\t7 & 91.74787\\\\\n",
       "\t8 & 65.37599\\\\\n",
       "\t9 & 92.42379\\\\\n",
       "\t10 & 81.58274\\\\\n",
       "\t11 & 87.82230\\\\\n",
       "\t12 & 79.60503\\\\\n",
       "\t13 & 65.45418\\\\\n",
       "\t14 & 65.34202\\\\\n",
       "\t15 & 81.77383\\\\\n",
       "\t16 & 79.88564\\\\\n",
       "\t17 & 59.24190\\\\\n",
       "\t18 & 79.77470\\\\\n",
       "\t19 & 92.07924\\\\\n",
       "\t20 & 87.96800\\\\\n",
       "\t21 & 73.67444\\\\\n",
       "\t22 & 92.26646\\\\\n",
       "\t23 & 73.31973\\\\\n",
       "\t24 & 85.89724\\\\\n",
       "\t25 & 92.19244\\\\\n",
       "\t26 & 65.57060\\\\\n",
       "\t27 & 87.83202\\\\\n",
       "\t28 & 79.47385\\\\\n",
       "\t29 & 65.25681\\\\\n",
       "\t30 & 73.26986\\\\\n",
       "\t⋮ & ⋮\\\\\n",
       "\t971 & 81.15804\\\\\n",
       "\t972 & 81.54995\\\\\n",
       "\t973 & 86.12517\\\\\n",
       "\t974 & 59.26829\\\\\n",
       "\t975 & 87.58632\\\\\n",
       "\t976 & 87.82670\\\\\n",
       "\t977 & 86.17369\\\\\n",
       "\t978 & 79.70328\\\\\n",
       "\t979 & 65.38629\\\\\n",
       "\t980 & 92.24430\\\\\n",
       "\t981 & 92.32631\\\\\n",
       "\t982 & 81.61624\\\\\n",
       "\t983 & 80.02203\\\\\n",
       "\t984 & 65.41859\\\\\n",
       "\t985 & 65.71773\\\\\n",
       "\t986 & 80.25522\\\\\n",
       "\t987 & 87.51683\\\\\n",
       "\t988 & 91.99860\\\\\n",
       "\t989 & 92.76127\\\\\n",
       "\t990 & 65.31428\\\\\n",
       "\t991 & 65.53665\\\\\n",
       "\t992 & 85.94258\\\\\n",
       "\t993 & 59.20539\\\\\n",
       "\t994 & 65.32424\\\\\n",
       "\t995 & 80.03728\\\\\n",
       "\t996 & 87.78420\\\\\n",
       "\t997 & 87.86289\\\\\n",
       "\t998 & 79.88304\\\\\n",
       "\t999 & 87.95302\\\\\n",
       "\t1000 & 80.31552\\\\\n",
       "\\end{tabular}\n"
      ],
      "text/markdown": [
       "\n",
       "A data.frame: 1000 × 1\n",
       "\n",
       "| <!--/--> | Ebreak &lt;dbl&gt; |\n",
       "|---|---|\n",
       "| 1 | 87.82547 |\n",
       "| 2 | 81.71139 |\n",
       "| 3 | 79.58070 |\n",
       "| 4 | 86.46185 |\n",
       "| 5 | 79.74085 |\n",
       "| 6 | 80.04827 |\n",
       "| 7 | 91.74787 |\n",
       "| 8 | 65.37599 |\n",
       "| 9 | 92.42379 |\n",
       "| 10 | 81.58274 |\n",
       "| 11 | 87.82230 |\n",
       "| 12 | 79.60503 |\n",
       "| 13 | 65.45418 |\n",
       "| 14 | 65.34202 |\n",
       "| 15 | 81.77383 |\n",
       "| 16 | 79.88564 |\n",
       "| 17 | 59.24190 |\n",
       "| 18 | 79.77470 |\n",
       "| 19 | 92.07924 |\n",
       "| 20 | 87.96800 |\n",
       "| 21 | 73.67444 |\n",
       "| 22 | 92.26646 |\n",
       "| 23 | 73.31973 |\n",
       "| 24 | 85.89724 |\n",
       "| 25 | 92.19244 |\n",
       "| 26 | 65.57060 |\n",
       "| 27 | 87.83202 |\n",
       "| 28 | 79.47385 |\n",
       "| 29 | 65.25681 |\n",
       "| 30 | 73.26986 |\n",
       "| ⋮ | ⋮ |\n",
       "| 971 | 81.15804 |\n",
       "| 972 | 81.54995 |\n",
       "| 973 | 86.12517 |\n",
       "| 974 | 59.26829 |\n",
       "| 975 | 87.58632 |\n",
       "| 976 | 87.82670 |\n",
       "| 977 | 86.17369 |\n",
       "| 978 | 79.70328 |\n",
       "| 979 | 65.38629 |\n",
       "| 980 | 92.24430 |\n",
       "| 981 | 92.32631 |\n",
       "| 982 | 81.61624 |\n",
       "| 983 | 80.02203 |\n",
       "| 984 | 65.41859 |\n",
       "| 985 | 65.71773 |\n",
       "| 986 | 80.25522 |\n",
       "| 987 | 87.51683 |\n",
       "| 988 | 91.99860 |\n",
       "| 989 | 92.76127 |\n",
       "| 990 | 65.31428 |\n",
       "| 991 | 65.53665 |\n",
       "| 992 | 85.94258 |\n",
       "| 993 | 59.20539 |\n",
       "| 994 | 65.32424 |\n",
       "| 995 | 80.03728 |\n",
       "| 996 | 87.78420 |\n",
       "| 997 | 87.86289 |\n",
       "| 998 | 79.88304 |\n",
       "| 999 | 87.95302 |\n",
       "| 1000 | 80.31552 |\n",
       "\n"
      ],
      "text/plain": [
       "     Ebreak  \n",
       "1    87.82547\n",
       "2    81.71139\n",
       "3    79.58070\n",
       "4    86.46185\n",
       "5    79.74085\n",
       "6    80.04827\n",
       "7    91.74787\n",
       "8    65.37599\n",
       "9    92.42379\n",
       "10   81.58274\n",
       "11   87.82230\n",
       "12   79.60503\n",
       "13   65.45418\n",
       "14   65.34202\n",
       "15   81.77383\n",
       "16   79.88564\n",
       "17   59.24190\n",
       "18   79.77470\n",
       "19   92.07924\n",
       "20   87.96800\n",
       "21   73.67444\n",
       "22   92.26646\n",
       "23   73.31973\n",
       "24   85.89724\n",
       "25   92.19244\n",
       "26   65.57060\n",
       "27   87.83202\n",
       "28   79.47385\n",
       "29   65.25681\n",
       "30   73.26986\n",
       "⋮    ⋮       \n",
       "971  81.15804\n",
       "972  81.54995\n",
       "973  86.12517\n",
       "974  59.26829\n",
       "975  87.58632\n",
       "976  87.82670\n",
       "977  86.17369\n",
       "978  79.70328\n",
       "979  65.38629\n",
       "980  92.24430\n",
       "981  92.32631\n",
       "982  81.61624\n",
       "983  80.02203\n",
       "984  65.41859\n",
       "985  65.71773\n",
       "986  80.25522\n",
       "987  87.51683\n",
       "988  91.99860\n",
       "989  92.76127\n",
       "990  65.31428\n",
       "991  65.53665\n",
       "992  85.94258\n",
       "993  59.20539\n",
       "994  65.32424\n",
       "995  80.03728\n",
       "996  87.78420\n",
       "997  87.86289\n",
       "998  79.88304\n",
       "999  87.95302\n",
       "1000 80.31552"
      ]
     },
     "metadata": {},
     "output_type": "display_data"
    }
   ],
   "source": [
    "Forecast=data.frame(Ebreak) # Create a dataframe to store the ouput of Ebreak\n",
    "Forecast"
   ]
  },
  {
   "cell_type": "code",
   "execution_count": 20,
   "metadata": {},
   "outputs": [],
   "source": [
    "Forecast$lifetime=data$lifetime  # Add a column in the Forecast dataframe indicating the lifetime of the piece\n",
    "Forecast$broken=data$broken # Add a column in the Forecast dataframe indicating whether or not the piece is broken\n",
    "Forecast$RemainingLT=Forecast$Ebreak-data$lifetime # Computed Expected Remaining Lifetime"
   ]
  },
  {
   "cell_type": "code",
   "execution_count": 21,
   "metadata": {
    "scrolled": true
   },
   "outputs": [
    {
     "data": {
      "text/html": [
       "<table>\n",
       "<caption>A data.frame: 1000 × 4</caption>\n",
       "<thead>\n",
       "\t<tr><th></th><th scope=col>Ebreak</th><th scope=col>lifetime</th><th scope=col>broken</th><th scope=col>RemainingLT</th></tr>\n",
       "\t<tr><th></th><th scope=col>&lt;dbl&gt;</th><th scope=col>&lt;int&gt;</th><th scope=col>&lt;int&gt;</th><th scope=col>&lt;dbl&gt;</th></tr>\n",
       "</thead>\n",
       "<tbody>\n",
       "\t<tr><th scope=row>1</th><td>87.82547</td><td>56</td><td>0</td><td>31.82546675</td></tr>\n",
       "\t<tr><th scope=row>2</th><td>81.71139</td><td>81</td><td>1</td><td> 0.71138996</td></tr>\n",
       "\t<tr><th scope=row>3</th><td>79.58070</td><td>60</td><td>0</td><td>19.58069687</td></tr>\n",
       "\t<tr><th scope=row>4</th><td>86.46185</td><td>86</td><td>1</td><td> 0.46185472</td></tr>\n",
       "\t<tr><th scope=row>5</th><td>79.74085</td><td>34</td><td>0</td><td>45.74084554</td></tr>\n",
       "\t<tr><th scope=row>6</th><td>80.04827</td><td>30</td><td>0</td><td>50.04826732</td></tr>\n",
       "\t<tr><th scope=row>7</th><td>91.74787</td><td>68</td><td>0</td><td>23.74787197</td></tr>\n",
       "\t<tr><th scope=row>8</th><td>65.37599</td><td>65</td><td>1</td><td> 0.37599475</td></tr>\n",
       "\t<tr><th scope=row>9</th><td>92.42379</td><td>23</td><td>0</td><td>69.42378630</td></tr>\n",
       "\t<tr><th scope=row>10</th><td>81.58274</td><td>81</td><td>1</td><td> 0.58274035</td></tr>\n",
       "\t<tr><th scope=row>11</th><td>87.82230</td><td>38</td><td>0</td><td>49.82230374</td></tr>\n",
       "\t<tr><th scope=row>12</th><td>79.60503</td><td>29</td><td>0</td><td>50.60503419</td></tr>\n",
       "\t<tr><th scope=row>13</th><td>65.45418</td><td>65</td><td>1</td><td> 0.45417912</td></tr>\n",
       "\t<tr><th scope=row>14</th><td>65.34202</td><td>65</td><td>1</td><td> 0.34201987</td></tr>\n",
       "\t<tr><th scope=row>15</th><td>81.77383</td><td>82</td><td>1</td><td>-0.22617005</td></tr>\n",
       "\t<tr><th scope=row>16</th><td>79.88564</td><td>80</td><td>1</td><td>-0.11436059</td></tr>\n",
       "\t<tr><th scope=row>17</th><td>59.24190</td><td>48</td><td>0</td><td>11.24189878</td></tr>\n",
       "\t<tr><th scope=row>18</th><td>79.77470</td><td>80</td><td>1</td><td>-0.22530365</td></tr>\n",
       "\t<tr><th scope=row>19</th><td>92.07924</td><td>92</td><td>1</td><td> 0.07924097</td></tr>\n",
       "\t<tr><th scope=row>20</th><td>87.96800</td><td>88</td><td>1</td><td>-0.03199736</td></tr>\n",
       "\t<tr><th scope=row>21</th><td>73.67444</td><td>74</td><td>1</td><td>-0.32556216</td></tr>\n",
       "\t<tr><th scope=row>22</th><td>92.26646</td><td>65</td><td>0</td><td>27.26645977</td></tr>\n",
       "\t<tr><th scope=row>23</th><td>73.31973</td><td>61</td><td>0</td><td>12.31972720</td></tr>\n",
       "\t<tr><th scope=row>24</th><td>85.89724</td><td>35</td><td>0</td><td>50.89723974</td></tr>\n",
       "\t<tr><th scope=row>25</th><td>92.19244</td><td>26</td><td>0</td><td>66.19243770</td></tr>\n",
       "\t<tr><th scope=row>26</th><td>65.57060</td><td>63</td><td>0</td><td> 2.57060478</td></tr>\n",
       "\t<tr><th scope=row>27</th><td>87.83202</td><td>88</td><td>1</td><td>-0.16797795</td></tr>\n",
       "\t<tr><th scope=row>28</th><td>79.47385</td><td>79</td><td>1</td><td> 0.47384723</td></tr>\n",
       "\t<tr><th scope=row>29</th><td>65.25681</td><td>53</td><td>0</td><td>12.25681107</td></tr>\n",
       "\t<tr><th scope=row>30</th><td>73.26986</td><td>73</td><td>1</td><td> 0.26986121</td></tr>\n",
       "\t<tr><th scope=row>⋮</th><td>⋮</td><td>⋮</td><td>⋮</td><td>⋮</td></tr>\n",
       "\t<tr><th scope=row>971</th><td>81.15804</td><td>81</td><td>1</td><td> 0.15804000</td></tr>\n",
       "\t<tr><th scope=row>972</th><td>81.54995</td><td>81</td><td>1</td><td> 0.54994900</td></tr>\n",
       "\t<tr><th scope=row>973</th><td>86.12517</td><td>81</td><td>0</td><td> 5.12517140</td></tr>\n",
       "\t<tr><th scope=row>974</th><td>59.26829</td><td>60</td><td>1</td><td>-0.73170811</td></tr>\n",
       "\t<tr><th scope=row>975</th><td>87.58632</td><td>64</td><td>0</td><td>23.58631615</td></tr>\n",
       "\t<tr><th scope=row>976</th><td>87.82670</td><td>88</td><td>1</td><td>-0.17329795</td></tr>\n",
       "\t<tr><th scope=row>977</th><td>86.17369</td><td>86</td><td>1</td><td> 0.17368562</td></tr>\n",
       "\t<tr><th scope=row>978</th><td>79.70328</td><td>80</td><td>1</td><td>-0.29672471</td></tr>\n",
       "\t<tr><th scope=row>979</th><td>65.38629</td><td>65</td><td>1</td><td> 0.38628680</td></tr>\n",
       "\t<tr><th scope=row>980</th><td>92.24430</td><td>55</td><td>0</td><td>37.24429636</td></tr>\n",
       "\t<tr><th scope=row>981</th><td>92.32631</td><td>25</td><td>0</td><td>67.32631329</td></tr>\n",
       "\t<tr><th scope=row>982</th><td>81.61624</td><td>52</td><td>0</td><td>29.61623971</td></tr>\n",
       "\t<tr><th scope=row>983</th><td>80.02203</td><td>29</td><td>0</td><td>51.02203335</td></tr>\n",
       "\t<tr><th scope=row>984</th><td>65.41859</td><td>58</td><td>0</td><td> 7.41858879</td></tr>\n",
       "\t<tr><th scope=row>985</th><td>65.71773</td><td>66</td><td>1</td><td>-0.28227009</td></tr>\n",
       "\t<tr><th scope=row>986</th><td>80.25522</td><td>36</td><td>0</td><td>44.25521862</td></tr>\n",
       "\t<tr><th scope=row>987</th><td>87.51683</td><td>88</td><td>1</td><td>-0.48316911</td></tr>\n",
       "\t<tr><th scope=row>988</th><td>91.99860</td><td>67</td><td>0</td><td>24.99859512</td></tr>\n",
       "\t<tr><th scope=row>989</th><td>92.76127</td><td>45</td><td>0</td><td>47.76127430</td></tr>\n",
       "\t<tr><th scope=row>990</th><td>65.31428</td><td>30</td><td>0</td><td>35.31428443</td></tr>\n",
       "\t<tr><th scope=row>991</th><td>65.53665</td><td>65</td><td>1</td><td> 0.53664806</td></tr>\n",
       "\t<tr><th scope=row>992</th><td>85.94258</td><td>76</td><td>0</td><td> 9.94258077</td></tr>\n",
       "\t<tr><th scope=row>993</th><td>59.20539</td><td>60</td><td>1</td><td>-0.79461393</td></tr>\n",
       "\t<tr><th scope=row>994</th><td>65.32424</td><td>65</td><td>1</td><td> 0.32423504</td></tr>\n",
       "\t<tr><th scope=row>995</th><td>80.03728</td><td>80</td><td>1</td><td> 0.03728052</td></tr>\n",
       "\t<tr><th scope=row>996</th><td>87.78420</td><td>88</td><td>1</td><td>-0.21579956</td></tr>\n",
       "\t<tr><th scope=row>997</th><td>87.86289</td><td>88</td><td>1</td><td>-0.13710621</td></tr>\n",
       "\t<tr><th scope=row>998</th><td>79.88304</td><td>22</td><td>0</td><td>57.88303797</td></tr>\n",
       "\t<tr><th scope=row>999</th><td>87.95302</td><td>78</td><td>0</td><td> 9.95302165</td></tr>\n",
       "\t<tr><th scope=row>1000</th><td>80.31552</td><td>63</td><td>0</td><td>17.31551973</td></tr>\n",
       "</tbody>\n",
       "</table>\n"
      ],
      "text/latex": [
       "A data.frame: 1000 × 4\n",
       "\\begin{tabular}{r|llll}\n",
       "  & Ebreak & lifetime & broken & RemainingLT\\\\\n",
       "  & <dbl> & <int> & <int> & <dbl>\\\\\n",
       "\\hline\n",
       "\t1 & 87.82547 & 56 & 0 & 31.82546675\\\\\n",
       "\t2 & 81.71139 & 81 & 1 &  0.71138996\\\\\n",
       "\t3 & 79.58070 & 60 & 0 & 19.58069687\\\\\n",
       "\t4 & 86.46185 & 86 & 1 &  0.46185472\\\\\n",
       "\t5 & 79.74085 & 34 & 0 & 45.74084554\\\\\n",
       "\t6 & 80.04827 & 30 & 0 & 50.04826732\\\\\n",
       "\t7 & 91.74787 & 68 & 0 & 23.74787197\\\\\n",
       "\t8 & 65.37599 & 65 & 1 &  0.37599475\\\\\n",
       "\t9 & 92.42379 & 23 & 0 & 69.42378630\\\\\n",
       "\t10 & 81.58274 & 81 & 1 &  0.58274035\\\\\n",
       "\t11 & 87.82230 & 38 & 0 & 49.82230374\\\\\n",
       "\t12 & 79.60503 & 29 & 0 & 50.60503419\\\\\n",
       "\t13 & 65.45418 & 65 & 1 &  0.45417912\\\\\n",
       "\t14 & 65.34202 & 65 & 1 &  0.34201987\\\\\n",
       "\t15 & 81.77383 & 82 & 1 & -0.22617005\\\\\n",
       "\t16 & 79.88564 & 80 & 1 & -0.11436059\\\\\n",
       "\t17 & 59.24190 & 48 & 0 & 11.24189878\\\\\n",
       "\t18 & 79.77470 & 80 & 1 & -0.22530365\\\\\n",
       "\t19 & 92.07924 & 92 & 1 &  0.07924097\\\\\n",
       "\t20 & 87.96800 & 88 & 1 & -0.03199736\\\\\n",
       "\t21 & 73.67444 & 74 & 1 & -0.32556216\\\\\n",
       "\t22 & 92.26646 & 65 & 0 & 27.26645977\\\\\n",
       "\t23 & 73.31973 & 61 & 0 & 12.31972720\\\\\n",
       "\t24 & 85.89724 & 35 & 0 & 50.89723974\\\\\n",
       "\t25 & 92.19244 & 26 & 0 & 66.19243770\\\\\n",
       "\t26 & 65.57060 & 63 & 0 &  2.57060478\\\\\n",
       "\t27 & 87.83202 & 88 & 1 & -0.16797795\\\\\n",
       "\t28 & 79.47385 & 79 & 1 &  0.47384723\\\\\n",
       "\t29 & 65.25681 & 53 & 0 & 12.25681107\\\\\n",
       "\t30 & 73.26986 & 73 & 1 &  0.26986121\\\\\n",
       "\t⋮ & ⋮ & ⋮ & ⋮ & ⋮\\\\\n",
       "\t971 & 81.15804 & 81 & 1 &  0.15804000\\\\\n",
       "\t972 & 81.54995 & 81 & 1 &  0.54994900\\\\\n",
       "\t973 & 86.12517 & 81 & 0 &  5.12517140\\\\\n",
       "\t974 & 59.26829 & 60 & 1 & -0.73170811\\\\\n",
       "\t975 & 87.58632 & 64 & 0 & 23.58631615\\\\\n",
       "\t976 & 87.82670 & 88 & 1 & -0.17329795\\\\\n",
       "\t977 & 86.17369 & 86 & 1 &  0.17368562\\\\\n",
       "\t978 & 79.70328 & 80 & 1 & -0.29672471\\\\\n",
       "\t979 & 65.38629 & 65 & 1 &  0.38628680\\\\\n",
       "\t980 & 92.24430 & 55 & 0 & 37.24429636\\\\\n",
       "\t981 & 92.32631 & 25 & 0 & 67.32631329\\\\\n",
       "\t982 & 81.61624 & 52 & 0 & 29.61623971\\\\\n",
       "\t983 & 80.02203 & 29 & 0 & 51.02203335\\\\\n",
       "\t984 & 65.41859 & 58 & 0 &  7.41858879\\\\\n",
       "\t985 & 65.71773 & 66 & 1 & -0.28227009\\\\\n",
       "\t986 & 80.25522 & 36 & 0 & 44.25521862\\\\\n",
       "\t987 & 87.51683 & 88 & 1 & -0.48316911\\\\\n",
       "\t988 & 91.99860 & 67 & 0 & 24.99859512\\\\\n",
       "\t989 & 92.76127 & 45 & 0 & 47.76127430\\\\\n",
       "\t990 & 65.31428 & 30 & 0 & 35.31428443\\\\\n",
       "\t991 & 65.53665 & 65 & 1 &  0.53664806\\\\\n",
       "\t992 & 85.94258 & 76 & 0 &  9.94258077\\\\\n",
       "\t993 & 59.20539 & 60 & 1 & -0.79461393\\\\\n",
       "\t994 & 65.32424 & 65 & 1 &  0.32423504\\\\\n",
       "\t995 & 80.03728 & 80 & 1 &  0.03728052\\\\\n",
       "\t996 & 87.78420 & 88 & 1 & -0.21579956\\\\\n",
       "\t997 & 87.86289 & 88 & 1 & -0.13710621\\\\\n",
       "\t998 & 79.88304 & 22 & 0 & 57.88303797\\\\\n",
       "\t999 & 87.95302 & 78 & 0 &  9.95302165\\\\\n",
       "\t1000 & 80.31552 & 63 & 0 & 17.31551973\\\\\n",
       "\\end{tabular}\n"
      ],
      "text/markdown": [
       "\n",
       "A data.frame: 1000 × 4\n",
       "\n",
       "| <!--/--> | Ebreak &lt;dbl&gt; | lifetime &lt;int&gt; | broken &lt;int&gt; | RemainingLT &lt;dbl&gt; |\n",
       "|---|---|---|---|---|\n",
       "| 1 | 87.82547 | 56 | 0 | 31.82546675 |\n",
       "| 2 | 81.71139 | 81 | 1 |  0.71138996 |\n",
       "| 3 | 79.58070 | 60 | 0 | 19.58069687 |\n",
       "| 4 | 86.46185 | 86 | 1 |  0.46185472 |\n",
       "| 5 | 79.74085 | 34 | 0 | 45.74084554 |\n",
       "| 6 | 80.04827 | 30 | 0 | 50.04826732 |\n",
       "| 7 | 91.74787 | 68 | 0 | 23.74787197 |\n",
       "| 8 | 65.37599 | 65 | 1 |  0.37599475 |\n",
       "| 9 | 92.42379 | 23 | 0 | 69.42378630 |\n",
       "| 10 | 81.58274 | 81 | 1 |  0.58274035 |\n",
       "| 11 | 87.82230 | 38 | 0 | 49.82230374 |\n",
       "| 12 | 79.60503 | 29 | 0 | 50.60503419 |\n",
       "| 13 | 65.45418 | 65 | 1 |  0.45417912 |\n",
       "| 14 | 65.34202 | 65 | 1 |  0.34201987 |\n",
       "| 15 | 81.77383 | 82 | 1 | -0.22617005 |\n",
       "| 16 | 79.88564 | 80 | 1 | -0.11436059 |\n",
       "| 17 | 59.24190 | 48 | 0 | 11.24189878 |\n",
       "| 18 | 79.77470 | 80 | 1 | -0.22530365 |\n",
       "| 19 | 92.07924 | 92 | 1 |  0.07924097 |\n",
       "| 20 | 87.96800 | 88 | 1 | -0.03199736 |\n",
       "| 21 | 73.67444 | 74 | 1 | -0.32556216 |\n",
       "| 22 | 92.26646 | 65 | 0 | 27.26645977 |\n",
       "| 23 | 73.31973 | 61 | 0 | 12.31972720 |\n",
       "| 24 | 85.89724 | 35 | 0 | 50.89723974 |\n",
       "| 25 | 92.19244 | 26 | 0 | 66.19243770 |\n",
       "| 26 | 65.57060 | 63 | 0 |  2.57060478 |\n",
       "| 27 | 87.83202 | 88 | 1 | -0.16797795 |\n",
       "| 28 | 79.47385 | 79 | 1 |  0.47384723 |\n",
       "| 29 | 65.25681 | 53 | 0 | 12.25681107 |\n",
       "| 30 | 73.26986 | 73 | 1 |  0.26986121 |\n",
       "| ⋮ | ⋮ | ⋮ | ⋮ | ⋮ |\n",
       "| 971 | 81.15804 | 81 | 1 |  0.15804000 |\n",
       "| 972 | 81.54995 | 81 | 1 |  0.54994900 |\n",
       "| 973 | 86.12517 | 81 | 0 |  5.12517140 |\n",
       "| 974 | 59.26829 | 60 | 1 | -0.73170811 |\n",
       "| 975 | 87.58632 | 64 | 0 | 23.58631615 |\n",
       "| 976 | 87.82670 | 88 | 1 | -0.17329795 |\n",
       "| 977 | 86.17369 | 86 | 1 |  0.17368562 |\n",
       "| 978 | 79.70328 | 80 | 1 | -0.29672471 |\n",
       "| 979 | 65.38629 | 65 | 1 |  0.38628680 |\n",
       "| 980 | 92.24430 | 55 | 0 | 37.24429636 |\n",
       "| 981 | 92.32631 | 25 | 0 | 67.32631329 |\n",
       "| 982 | 81.61624 | 52 | 0 | 29.61623971 |\n",
       "| 983 | 80.02203 | 29 | 0 | 51.02203335 |\n",
       "| 984 | 65.41859 | 58 | 0 |  7.41858879 |\n",
       "| 985 | 65.71773 | 66 | 1 | -0.28227009 |\n",
       "| 986 | 80.25522 | 36 | 0 | 44.25521862 |\n",
       "| 987 | 87.51683 | 88 | 1 | -0.48316911 |\n",
       "| 988 | 91.99860 | 67 | 0 | 24.99859512 |\n",
       "| 989 | 92.76127 | 45 | 0 | 47.76127430 |\n",
       "| 990 | 65.31428 | 30 | 0 | 35.31428443 |\n",
       "| 991 | 65.53665 | 65 | 1 |  0.53664806 |\n",
       "| 992 | 85.94258 | 76 | 0 |  9.94258077 |\n",
       "| 993 | 59.20539 | 60 | 1 | -0.79461393 |\n",
       "| 994 | 65.32424 | 65 | 1 |  0.32423504 |\n",
       "| 995 | 80.03728 | 80 | 1 |  0.03728052 |\n",
       "| 996 | 87.78420 | 88 | 1 | -0.21579956 |\n",
       "| 997 | 87.86289 | 88 | 1 | -0.13710621 |\n",
       "| 998 | 79.88304 | 22 | 0 | 57.88303797 |\n",
       "| 999 | 87.95302 | 78 | 0 |  9.95302165 |\n",
       "| 1000 | 80.31552 | 63 | 0 | 17.31551973 |\n",
       "\n"
      ],
      "text/plain": [
       "     Ebreak   lifetime broken RemainingLT\n",
       "1    87.82547 56       0      31.82546675\n",
       "2    81.71139 81       1       0.71138996\n",
       "3    79.58070 60       0      19.58069687\n",
       "4    86.46185 86       1       0.46185472\n",
       "5    79.74085 34       0      45.74084554\n",
       "6    80.04827 30       0      50.04826732\n",
       "7    91.74787 68       0      23.74787197\n",
       "8    65.37599 65       1       0.37599475\n",
       "9    92.42379 23       0      69.42378630\n",
       "10   81.58274 81       1       0.58274035\n",
       "11   87.82230 38       0      49.82230374\n",
       "12   79.60503 29       0      50.60503419\n",
       "13   65.45418 65       1       0.45417912\n",
       "14   65.34202 65       1       0.34201987\n",
       "15   81.77383 82       1      -0.22617005\n",
       "16   79.88564 80       1      -0.11436059\n",
       "17   59.24190 48       0      11.24189878\n",
       "18   79.77470 80       1      -0.22530365\n",
       "19   92.07924 92       1       0.07924097\n",
       "20   87.96800 88       1      -0.03199736\n",
       "21   73.67444 74       1      -0.32556216\n",
       "22   92.26646 65       0      27.26645977\n",
       "23   73.31973 61       0      12.31972720\n",
       "24   85.89724 35       0      50.89723974\n",
       "25   92.19244 26       0      66.19243770\n",
       "26   65.57060 63       0       2.57060478\n",
       "27   87.83202 88       1      -0.16797795\n",
       "28   79.47385 79       1       0.47384723\n",
       "29   65.25681 53       0      12.25681107\n",
       "30   73.26986 73       1       0.26986121\n",
       "⋮    ⋮        ⋮        ⋮      ⋮          \n",
       "971  81.15804 81       1       0.15804000\n",
       "972  81.54995 81       1       0.54994900\n",
       "973  86.12517 81       0       5.12517140\n",
       "974  59.26829 60       1      -0.73170811\n",
       "975  87.58632 64       0      23.58631615\n",
       "976  87.82670 88       1      -0.17329795\n",
       "977  86.17369 86       1       0.17368562\n",
       "978  79.70328 80       1      -0.29672471\n",
       "979  65.38629 65       1       0.38628680\n",
       "980  92.24430 55       0      37.24429636\n",
       "981  92.32631 25       0      67.32631329\n",
       "982  81.61624 52       0      29.61623971\n",
       "983  80.02203 29       0      51.02203335\n",
       "984  65.41859 58       0       7.41858879\n",
       "985  65.71773 66       1      -0.28227009\n",
       "986  80.25522 36       0      44.25521862\n",
       "987  87.51683 88       1      -0.48316911\n",
       "988  91.99860 67       0      24.99859512\n",
       "989  92.76127 45       0      47.76127430\n",
       "990  65.31428 30       0      35.31428443\n",
       "991  65.53665 65       1       0.53664806\n",
       "992  85.94258 76       0       9.94258077\n",
       "993  59.20539 60       1      -0.79461393\n",
       "994  65.32424 65       1       0.32423504\n",
       "995  80.03728 80       1       0.03728052\n",
       "996  87.78420 88       1      -0.21579956\n",
       "997  87.86289 88       1      -0.13710621\n",
       "998  79.88304 22       0      57.88303797\n",
       "999  87.95302 78       0       9.95302165\n",
       "1000 80.31552 63       0      17.31551973"
      ]
     },
     "metadata": {},
     "output_type": "display_data"
    }
   ],
   "source": [
    "# View(Forecast) # View the complete Forecast dataframe\n",
    "Forecast"
   ]
  },
  {
   "cell_type": "code",
   "execution_count": 18,
   "metadata": {
    "scrolled": true
   },
   "outputs": [
    {
     "data": {
      "text/html": [
       "<table>\n",
       "<caption>A data.frame: 603 × 4</caption>\n",
       "<thead>\n",
       "\t<tr><th></th><th scope=col>Ebreak</th><th scope=col>lifetime</th><th scope=col>broken</th><th scope=col>RemainingLT</th></tr>\n",
       "\t<tr><th></th><th scope=col>&lt;dbl&gt;</th><th scope=col>&lt;int&gt;</th><th scope=col>&lt;int&gt;</th><th scope=col>&lt;dbl&gt;</th></tr>\n",
       "</thead>\n",
       "<tbody>\n",
       "\t<tr><th scope=row>80</th><td>87.81934</td><td>88</td><td>0</td><td>-0.1806637</td></tr>\n",
       "\t<tr><th scope=row>920</th><td>65.39920</td><td>65</td><td>0</td><td> 0.3992047</td></tr>\n",
       "\t<tr><th scope=row>138</th><td>81.62875</td><td>81</td><td>0</td><td> 0.6287524</td></tr>\n",
       "\t<tr><th scope=row>455</th><td>87.79644</td><td>87</td><td>0</td><td> 0.7964376</td></tr>\n",
       "\t<tr><th scope=row>917</th><td>85.91101</td><td>85</td><td>0</td><td> 0.9110116</td></tr>\n",
       "\t<tr><th scope=row>414</th><td>81.97309</td><td>81</td><td>0</td><td> 0.9730926</td></tr>\n",
       "\t<tr><th scope=row>563</th><td>85.97717</td><td>85</td><td>0</td><td> 0.9771675</td></tr>\n",
       "\t<tr><th scope=row>461</th><td>59.23558</td><td>58</td><td>0</td><td> 1.2355788</td></tr>\n",
       "\t<tr><th scope=row>417</th><td>59.24155</td><td>58</td><td>0</td><td> 1.2415496</td></tr>\n",
       "\t<tr><th scope=row>596</th><td>79.39749</td><td>78</td><td>0</td><td> 1.3974893</td></tr>\n",
       "\t<tr><th scope=row>164</th><td>73.52644</td><td>72</td><td>0</td><td> 1.5264351</td></tr>\n",
       "\t<tr><th scope=row>725</th><td>73.82021</td><td>72</td><td>0</td><td> 1.8202141</td></tr>\n",
       "\t<tr><th scope=row>902</th><td>79.86900</td><td>78</td><td>0</td><td> 1.8689974</td></tr>\n",
       "\t<tr><th scope=row>174</th><td>59.07773</td><td>57</td><td>0</td><td> 2.0777348</td></tr>\n",
       "\t<tr><th scope=row>351</th><td>65.28227</td><td>63</td><td>0</td><td> 2.2822748</td></tr>\n",
       "\t<tr><th scope=row>193</th><td>65.52786</td><td>63</td><td>0</td><td> 2.5278623</td></tr>\n",
       "\t<tr><th scope=row>26</th><td>65.57060</td><td>63</td><td>0</td><td> 2.5706048</td></tr>\n",
       "\t<tr><th scope=row>348</th><td>79.73589</td><td>77</td><td>0</td><td> 2.7358880</td></tr>\n",
       "\t<tr><th scope=row>373</th><td>79.74197</td><td>77</td><td>0</td><td> 2.7419739</td></tr>\n",
       "\t<tr><th scope=row>640</th><td>73.74352</td><td>71</td><td>0</td><td> 2.7435217</td></tr>\n",
       "\t<tr><th scope=row>636</th><td>79.74363</td><td>77</td><td>0</td><td> 2.7436343</td></tr>\n",
       "\t<tr><th scope=row>357</th><td>87.87551</td><td>85</td><td>0</td><td> 2.8755131</td></tr>\n",
       "\t<tr><th scope=row>620</th><td>79.92346</td><td>77</td><td>0</td><td> 2.9234563</td></tr>\n",
       "\t<tr><th scope=row>591</th><td>87.96263</td><td>85</td><td>0</td><td> 2.9626324</td></tr>\n",
       "\t<tr><th scope=row>720</th><td>93.04866</td><td>90</td><td>0</td><td> 3.0486563</td></tr>\n",
       "\t<tr><th scope=row>166</th><td>59.30068</td><td>56</td><td>0</td><td> 3.3006841</td></tr>\n",
       "\t<tr><th scope=row>112</th><td>65.57719</td><td>62</td><td>0</td><td> 3.5771933</td></tr>\n",
       "\t<tr><th scope=row>45</th><td>87.67880</td><td>84</td><td>0</td><td> 3.6788018</td></tr>\n",
       "\t<tr><th scope=row>913</th><td>59.08954</td><td>55</td><td>0</td><td> 4.0895404</td></tr>\n",
       "\t<tr><th scope=row>473</th><td>88.10892</td><td>84</td><td>0</td><td> 4.1089184</td></tr>\n",
       "\t<tr><th scope=row>⋮</th><td>⋮</td><td>⋮</td><td>⋮</td><td>⋮</td></tr>\n",
       "\t<tr><th scope=row>719</th><td>81.49022</td><td> 2</td><td>0</td><td>79.49022</td></tr>\n",
       "\t<tr><th scope=row>545</th><td>87.56940</td><td> 8</td><td>0</td><td>79.56940</td></tr>\n",
       "\t<tr><th scope=row>374</th><td>87.73945</td><td> 8</td><td>0</td><td>79.73945</td></tr>\n",
       "\t<tr><th scope=row>416</th><td>85.98459</td><td> 6</td><td>0</td><td>79.98459</td></tr>\n",
       "\t<tr><th scope=row>823</th><td>92.07737</td><td>12</td><td>0</td><td>80.07737</td></tr>\n",
       "\t<tr><th scope=row>549</th><td>92.23239</td><td>12</td><td>0</td><td>80.23239</td></tr>\n",
       "\t<tr><th scope=row>56</th><td>92.33114</td><td>12</td><td>0</td><td>80.33114</td></tr>\n",
       "\t<tr><th scope=row>104</th><td>92.40367</td><td>12</td><td>0</td><td>80.40367</td></tr>\n",
       "\t<tr><th scope=row>929</th><td>92.44154</td><td>12</td><td>0</td><td>80.44154</td></tr>\n",
       "\t<tr><th scope=row>617</th><td>92.45043</td><td>12</td><td>0</td><td>80.45043</td></tr>\n",
       "\t<tr><th scope=row>522</th><td>87.66611</td><td> 7</td><td>0</td><td>80.66611</td></tr>\n",
       "\t<tr><th scope=row>64</th><td>87.89318</td><td> 7</td><td>0</td><td>80.89318</td></tr>\n",
       "\t<tr><th scope=row>721</th><td>86.15719</td><td> 5</td><td>0</td><td>81.15719</td></tr>\n",
       "\t<tr><th scope=row>897</th><td>92.32062</td><td>11</td><td>0</td><td>81.32062</td></tr>\n",
       "\t<tr><th scope=row>278</th><td>85.87679</td><td> 4</td><td>0</td><td>81.87679</td></tr>\n",
       "\t<tr><th scope=row>764</th><td>86.10545</td><td> 4</td><td>0</td><td>82.10545</td></tr>\n",
       "\t<tr><th scope=row>924</th><td>92.39831</td><td>10</td><td>0</td><td>82.39831</td></tr>\n",
       "\t<tr><th scope=row>75</th><td>87.57936</td><td> 4</td><td>0</td><td>83.57936</td></tr>\n",
       "\t<tr><th scope=row>709</th><td>92.07179</td><td> 7</td><td>0</td><td>85.07179</td></tr>\n",
       "\t<tr><th scope=row>465</th><td>86.25682</td><td> 1</td><td>0</td><td>85.25682</td></tr>\n",
       "\t<tr><th scope=row>692</th><td>87.83641</td><td> 2</td><td>0</td><td>85.83641</td></tr>\n",
       "\t<tr><th scope=row>72</th><td>87.66104</td><td> 1</td><td>0</td><td>86.66104</td></tr>\n",
       "\t<tr><th scope=row>425</th><td>92.19280</td><td> 5</td><td>0</td><td>87.19280</td></tr>\n",
       "\t<tr><th scope=row>700</th><td>92.23353</td><td> 5</td><td>0</td><td>87.23353</td></tr>\n",
       "\t<tr><th scope=row>852</th><td>92.27872</td><td> 5</td><td>0</td><td>87.27872</td></tr>\n",
       "\t<tr><th scope=row>708</th><td>92.69553</td><td> 4</td><td>0</td><td>88.69553</td></tr>\n",
       "\t<tr><th scope=row>225</th><td>92.87914</td><td> 3</td><td>0</td><td>89.87914</td></tr>\n",
       "\t<tr><th scope=row>877</th><td>92.31880</td><td> 2</td><td>0</td><td>90.31880</td></tr>\n",
       "\t<tr><th scope=row>472</th><td>92.55563</td><td> 2</td><td>0</td><td>90.55563</td></tr>\n",
       "\t<tr><th scope=row>53</th><td>92.24826</td><td> 1</td><td>0</td><td>91.24826</td></tr>\n",
       "</tbody>\n",
       "</table>\n"
      ],
      "text/latex": [
       "A data.frame: 603 × 4\n",
       "\\begin{tabular}{r|llll}\n",
       "  & Ebreak & lifetime & broken & RemainingLT\\\\\n",
       "  & <dbl> & <int> & <int> & <dbl>\\\\\n",
       "\\hline\n",
       "\t80 & 87.81934 & 88 & 0 & -0.1806637\\\\\n",
       "\t920 & 65.39920 & 65 & 0 &  0.3992047\\\\\n",
       "\t138 & 81.62875 & 81 & 0 &  0.6287524\\\\\n",
       "\t455 & 87.79644 & 87 & 0 &  0.7964376\\\\\n",
       "\t917 & 85.91101 & 85 & 0 &  0.9110116\\\\\n",
       "\t414 & 81.97309 & 81 & 0 &  0.9730926\\\\\n",
       "\t563 & 85.97717 & 85 & 0 &  0.9771675\\\\\n",
       "\t461 & 59.23558 & 58 & 0 &  1.2355788\\\\\n",
       "\t417 & 59.24155 & 58 & 0 &  1.2415496\\\\\n",
       "\t596 & 79.39749 & 78 & 0 &  1.3974893\\\\\n",
       "\t164 & 73.52644 & 72 & 0 &  1.5264351\\\\\n",
       "\t725 & 73.82021 & 72 & 0 &  1.8202141\\\\\n",
       "\t902 & 79.86900 & 78 & 0 &  1.8689974\\\\\n",
       "\t174 & 59.07773 & 57 & 0 &  2.0777348\\\\\n",
       "\t351 & 65.28227 & 63 & 0 &  2.2822748\\\\\n",
       "\t193 & 65.52786 & 63 & 0 &  2.5278623\\\\\n",
       "\t26 & 65.57060 & 63 & 0 &  2.5706048\\\\\n",
       "\t348 & 79.73589 & 77 & 0 &  2.7358880\\\\\n",
       "\t373 & 79.74197 & 77 & 0 &  2.7419739\\\\\n",
       "\t640 & 73.74352 & 71 & 0 &  2.7435217\\\\\n",
       "\t636 & 79.74363 & 77 & 0 &  2.7436343\\\\\n",
       "\t357 & 87.87551 & 85 & 0 &  2.8755131\\\\\n",
       "\t620 & 79.92346 & 77 & 0 &  2.9234563\\\\\n",
       "\t591 & 87.96263 & 85 & 0 &  2.9626324\\\\\n",
       "\t720 & 93.04866 & 90 & 0 &  3.0486563\\\\\n",
       "\t166 & 59.30068 & 56 & 0 &  3.3006841\\\\\n",
       "\t112 & 65.57719 & 62 & 0 &  3.5771933\\\\\n",
       "\t45 & 87.67880 & 84 & 0 &  3.6788018\\\\\n",
       "\t913 & 59.08954 & 55 & 0 &  4.0895404\\\\\n",
       "\t473 & 88.10892 & 84 & 0 &  4.1089184\\\\\n",
       "\t⋮ & ⋮ & ⋮ & ⋮ & ⋮\\\\\n",
       "\t719 & 81.49022 &  2 & 0 & 79.49022\\\\\n",
       "\t545 & 87.56940 &  8 & 0 & 79.56940\\\\\n",
       "\t374 & 87.73945 &  8 & 0 & 79.73945\\\\\n",
       "\t416 & 85.98459 &  6 & 0 & 79.98459\\\\\n",
       "\t823 & 92.07737 & 12 & 0 & 80.07737\\\\\n",
       "\t549 & 92.23239 & 12 & 0 & 80.23239\\\\\n",
       "\t56 & 92.33114 & 12 & 0 & 80.33114\\\\\n",
       "\t104 & 92.40367 & 12 & 0 & 80.40367\\\\\n",
       "\t929 & 92.44154 & 12 & 0 & 80.44154\\\\\n",
       "\t617 & 92.45043 & 12 & 0 & 80.45043\\\\\n",
       "\t522 & 87.66611 &  7 & 0 & 80.66611\\\\\n",
       "\t64 & 87.89318 &  7 & 0 & 80.89318\\\\\n",
       "\t721 & 86.15719 &  5 & 0 & 81.15719\\\\\n",
       "\t897 & 92.32062 & 11 & 0 & 81.32062\\\\\n",
       "\t278 & 85.87679 &  4 & 0 & 81.87679\\\\\n",
       "\t764 & 86.10545 &  4 & 0 & 82.10545\\\\\n",
       "\t924 & 92.39831 & 10 & 0 & 82.39831\\\\\n",
       "\t75 & 87.57936 &  4 & 0 & 83.57936\\\\\n",
       "\t709 & 92.07179 &  7 & 0 & 85.07179\\\\\n",
       "\t465 & 86.25682 &  1 & 0 & 85.25682\\\\\n",
       "\t692 & 87.83641 &  2 & 0 & 85.83641\\\\\n",
       "\t72 & 87.66104 &  1 & 0 & 86.66104\\\\\n",
       "\t425 & 92.19280 &  5 & 0 & 87.19280\\\\\n",
       "\t700 & 92.23353 &  5 & 0 & 87.23353\\\\\n",
       "\t852 & 92.27872 &  5 & 0 & 87.27872\\\\\n",
       "\t708 & 92.69553 &  4 & 0 & 88.69553\\\\\n",
       "\t225 & 92.87914 &  3 & 0 & 89.87914\\\\\n",
       "\t877 & 92.31880 &  2 & 0 & 90.31880\\\\\n",
       "\t472 & 92.55563 &  2 & 0 & 90.55563\\\\\n",
       "\t53 & 92.24826 &  1 & 0 & 91.24826\\\\\n",
       "\\end{tabular}\n"
      ],
      "text/markdown": [
       "\n",
       "A data.frame: 603 × 4\n",
       "\n",
       "| <!--/--> | Ebreak &lt;dbl&gt; | lifetime &lt;int&gt; | broken &lt;int&gt; | RemainingLT &lt;dbl&gt; |\n",
       "|---|---|---|---|---|\n",
       "| 80 | 87.81934 | 88 | 0 | -0.1806637 |\n",
       "| 920 | 65.39920 | 65 | 0 |  0.3992047 |\n",
       "| 138 | 81.62875 | 81 | 0 |  0.6287524 |\n",
       "| 455 | 87.79644 | 87 | 0 |  0.7964376 |\n",
       "| 917 | 85.91101 | 85 | 0 |  0.9110116 |\n",
       "| 414 | 81.97309 | 81 | 0 |  0.9730926 |\n",
       "| 563 | 85.97717 | 85 | 0 |  0.9771675 |\n",
       "| 461 | 59.23558 | 58 | 0 |  1.2355788 |\n",
       "| 417 | 59.24155 | 58 | 0 |  1.2415496 |\n",
       "| 596 | 79.39749 | 78 | 0 |  1.3974893 |\n",
       "| 164 | 73.52644 | 72 | 0 |  1.5264351 |\n",
       "| 725 | 73.82021 | 72 | 0 |  1.8202141 |\n",
       "| 902 | 79.86900 | 78 | 0 |  1.8689974 |\n",
       "| 174 | 59.07773 | 57 | 0 |  2.0777348 |\n",
       "| 351 | 65.28227 | 63 | 0 |  2.2822748 |\n",
       "| 193 | 65.52786 | 63 | 0 |  2.5278623 |\n",
       "| 26 | 65.57060 | 63 | 0 |  2.5706048 |\n",
       "| 348 | 79.73589 | 77 | 0 |  2.7358880 |\n",
       "| 373 | 79.74197 | 77 | 0 |  2.7419739 |\n",
       "| 640 | 73.74352 | 71 | 0 |  2.7435217 |\n",
       "| 636 | 79.74363 | 77 | 0 |  2.7436343 |\n",
       "| 357 | 87.87551 | 85 | 0 |  2.8755131 |\n",
       "| 620 | 79.92346 | 77 | 0 |  2.9234563 |\n",
       "| 591 | 87.96263 | 85 | 0 |  2.9626324 |\n",
       "| 720 | 93.04866 | 90 | 0 |  3.0486563 |\n",
       "| 166 | 59.30068 | 56 | 0 |  3.3006841 |\n",
       "| 112 | 65.57719 | 62 | 0 |  3.5771933 |\n",
       "| 45 | 87.67880 | 84 | 0 |  3.6788018 |\n",
       "| 913 | 59.08954 | 55 | 0 |  4.0895404 |\n",
       "| 473 | 88.10892 | 84 | 0 |  4.1089184 |\n",
       "| ⋮ | ⋮ | ⋮ | ⋮ | ⋮ |\n",
       "| 719 | 81.49022 |  2 | 0 | 79.49022 |\n",
       "| 545 | 87.56940 |  8 | 0 | 79.56940 |\n",
       "| 374 | 87.73945 |  8 | 0 | 79.73945 |\n",
       "| 416 | 85.98459 |  6 | 0 | 79.98459 |\n",
       "| 823 | 92.07737 | 12 | 0 | 80.07737 |\n",
       "| 549 | 92.23239 | 12 | 0 | 80.23239 |\n",
       "| 56 | 92.33114 | 12 | 0 | 80.33114 |\n",
       "| 104 | 92.40367 | 12 | 0 | 80.40367 |\n",
       "| 929 | 92.44154 | 12 | 0 | 80.44154 |\n",
       "| 617 | 92.45043 | 12 | 0 | 80.45043 |\n",
       "| 522 | 87.66611 |  7 | 0 | 80.66611 |\n",
       "| 64 | 87.89318 |  7 | 0 | 80.89318 |\n",
       "| 721 | 86.15719 |  5 | 0 | 81.15719 |\n",
       "| 897 | 92.32062 | 11 | 0 | 81.32062 |\n",
       "| 278 | 85.87679 |  4 | 0 | 81.87679 |\n",
       "| 764 | 86.10545 |  4 | 0 | 82.10545 |\n",
       "| 924 | 92.39831 | 10 | 0 | 82.39831 |\n",
       "| 75 | 87.57936 |  4 | 0 | 83.57936 |\n",
       "| 709 | 92.07179 |  7 | 0 | 85.07179 |\n",
       "| 465 | 86.25682 |  1 | 0 | 85.25682 |\n",
       "| 692 | 87.83641 |  2 | 0 | 85.83641 |\n",
       "| 72 | 87.66104 |  1 | 0 | 86.66104 |\n",
       "| 425 | 92.19280 |  5 | 0 | 87.19280 |\n",
       "| 700 | 92.23353 |  5 | 0 | 87.23353 |\n",
       "| 852 | 92.27872 |  5 | 0 | 87.27872 |\n",
       "| 708 | 92.69553 |  4 | 0 | 88.69553 |\n",
       "| 225 | 92.87914 |  3 | 0 | 89.87914 |\n",
       "| 877 | 92.31880 |  2 | 0 | 90.31880 |\n",
       "| 472 | 92.55563 |  2 | 0 | 90.55563 |\n",
       "| 53 | 92.24826 |  1 | 0 | 91.24826 |\n",
       "\n"
      ],
      "text/plain": [
       "    Ebreak   lifetime broken RemainingLT\n",
       "80  87.81934 88       0      -0.1806637 \n",
       "920 65.39920 65       0       0.3992047 \n",
       "138 81.62875 81       0       0.6287524 \n",
       "455 87.79644 87       0       0.7964376 \n",
       "917 85.91101 85       0       0.9110116 \n",
       "414 81.97309 81       0       0.9730926 \n",
       "563 85.97717 85       0       0.9771675 \n",
       "461 59.23558 58       0       1.2355788 \n",
       "417 59.24155 58       0       1.2415496 \n",
       "596 79.39749 78       0       1.3974893 \n",
       "164 73.52644 72       0       1.5264351 \n",
       "725 73.82021 72       0       1.8202141 \n",
       "902 79.86900 78       0       1.8689974 \n",
       "174 59.07773 57       0       2.0777348 \n",
       "351 65.28227 63       0       2.2822748 \n",
       "193 65.52786 63       0       2.5278623 \n",
       "26  65.57060 63       0       2.5706048 \n",
       "348 79.73589 77       0       2.7358880 \n",
       "373 79.74197 77       0       2.7419739 \n",
       "640 73.74352 71       0       2.7435217 \n",
       "636 79.74363 77       0       2.7436343 \n",
       "357 87.87551 85       0       2.8755131 \n",
       "620 79.92346 77       0       2.9234563 \n",
       "591 87.96263 85       0       2.9626324 \n",
       "720 93.04866 90       0       3.0486563 \n",
       "166 59.30068 56       0       3.3006841 \n",
       "112 65.57719 62       0       3.5771933 \n",
       "45  87.67880 84       0       3.6788018 \n",
       "913 59.08954 55       0       4.0895404 \n",
       "473 88.10892 84       0       4.1089184 \n",
       "⋮   ⋮        ⋮        ⋮      ⋮          \n",
       "719 81.49022  2       0      79.49022   \n",
       "545 87.56940  8       0      79.56940   \n",
       "374 87.73945  8       0      79.73945   \n",
       "416 85.98459  6       0      79.98459   \n",
       "823 92.07737 12       0      80.07737   \n",
       "549 92.23239 12       0      80.23239   \n",
       "56  92.33114 12       0      80.33114   \n",
       "104 92.40367 12       0      80.40367   \n",
       "929 92.44154 12       0      80.44154   \n",
       "617 92.45043 12       0      80.45043   \n",
       "522 87.66611  7       0      80.66611   \n",
       "64  87.89318  7       0      80.89318   \n",
       "721 86.15719  5       0      81.15719   \n",
       "897 92.32062 11       0      81.32062   \n",
       "278 85.87679  4       0      81.87679   \n",
       "764 86.10545  4       0      82.10545   \n",
       "924 92.39831 10       0      82.39831   \n",
       "75  87.57936  4       0      83.57936   \n",
       "709 92.07179  7       0      85.07179   \n",
       "465 86.25682  1       0      85.25682   \n",
       "692 87.83641  2       0      85.83641   \n",
       "72  87.66104  1       0      86.66104   \n",
       "425 92.19280  5       0      87.19280   \n",
       "700 92.23353  5       0      87.23353   \n",
       "852 92.27872  5       0      87.27872   \n",
       "708 92.69553  4       0      88.69553   \n",
       "225 92.87914  3       0      89.87914   \n",
       "877 92.31880  2       0      90.31880   \n",
       "472 92.55563  2       0      90.55563   \n",
       "53  92.24826  1       0      91.24826   "
      ]
     },
     "metadata": {},
     "output_type": "display_data"
    }
   ],
   "source": [
    "Forecast=Forecast[order(Forecast$RemainingLT),] # Order the elements by Expected Remaining Lifetime\n",
    "ActionsPriority=Forecast[Forecast$broken==0,] # And keep only those who are not broken yet\n",
    "# View(ActionsPriority) # View the output and take actions!\n",
    "ActionsPriority"
   ]
  },
  {
   "cell_type": "code",
   "execution_count": 16,
   "metadata": {},
   "outputs": [
    {
     "data": {
      "text/html": [
       "<table>\n",
       "<caption>A data.frame: 603 × 4</caption>\n",
       "<thead>\n",
       "\t<tr><th></th><th scope=col>Ebreak</th><th scope=col>lifetime</th><th scope=col>broken</th><th scope=col>RemainingLT</th></tr>\n",
       "\t<tr><th></th><th scope=col>&lt;dbl&gt;</th><th scope=col>&lt;int&gt;</th><th scope=col>&lt;int&gt;</th><th scope=col>&lt;dbl&gt;</th></tr>\n",
       "</thead>\n",
       "<tbody>\n",
       "\t<tr><th scope=row>80</th><td>87.81934</td><td>88</td><td>0</td><td>-0.1806637</td></tr>\n",
       "\t<tr><th scope=row>920</th><td>65.39920</td><td>65</td><td>0</td><td> 0.3992047</td></tr>\n",
       "\t<tr><th scope=row>138</th><td>81.62875</td><td>81</td><td>0</td><td> 0.6287524</td></tr>\n",
       "\t<tr><th scope=row>455</th><td>87.79644</td><td>87</td><td>0</td><td> 0.7964376</td></tr>\n",
       "\t<tr><th scope=row>917</th><td>85.91101</td><td>85</td><td>0</td><td> 0.9110116</td></tr>\n",
       "\t<tr><th scope=row>414</th><td>81.97309</td><td>81</td><td>0</td><td> 0.9730926</td></tr>\n",
       "\t<tr><th scope=row>563</th><td>85.97717</td><td>85</td><td>0</td><td> 0.9771675</td></tr>\n",
       "\t<tr><th scope=row>461</th><td>59.23558</td><td>58</td><td>0</td><td> 1.2355788</td></tr>\n",
       "\t<tr><th scope=row>417</th><td>59.24155</td><td>58</td><td>0</td><td> 1.2415496</td></tr>\n",
       "\t<tr><th scope=row>596</th><td>79.39749</td><td>78</td><td>0</td><td> 1.3974893</td></tr>\n",
       "\t<tr><th scope=row>164</th><td>73.52644</td><td>72</td><td>0</td><td> 1.5264351</td></tr>\n",
       "\t<tr><th scope=row>725</th><td>73.82021</td><td>72</td><td>0</td><td> 1.8202141</td></tr>\n",
       "\t<tr><th scope=row>902</th><td>79.86900</td><td>78</td><td>0</td><td> 1.8689974</td></tr>\n",
       "\t<tr><th scope=row>174</th><td>59.07773</td><td>57</td><td>0</td><td> 2.0777348</td></tr>\n",
       "\t<tr><th scope=row>351</th><td>65.28227</td><td>63</td><td>0</td><td> 2.2822748</td></tr>\n",
       "\t<tr><th scope=row>193</th><td>65.52786</td><td>63</td><td>0</td><td> 2.5278623</td></tr>\n",
       "\t<tr><th scope=row>26</th><td>65.57060</td><td>63</td><td>0</td><td> 2.5706048</td></tr>\n",
       "\t<tr><th scope=row>348</th><td>79.73589</td><td>77</td><td>0</td><td> 2.7358880</td></tr>\n",
       "\t<tr><th scope=row>373</th><td>79.74197</td><td>77</td><td>0</td><td> 2.7419739</td></tr>\n",
       "\t<tr><th scope=row>640</th><td>73.74352</td><td>71</td><td>0</td><td> 2.7435217</td></tr>\n",
       "\t<tr><th scope=row>636</th><td>79.74363</td><td>77</td><td>0</td><td> 2.7436343</td></tr>\n",
       "\t<tr><th scope=row>357</th><td>87.87551</td><td>85</td><td>0</td><td> 2.8755131</td></tr>\n",
       "\t<tr><th scope=row>620</th><td>79.92346</td><td>77</td><td>0</td><td> 2.9234563</td></tr>\n",
       "\t<tr><th scope=row>591</th><td>87.96263</td><td>85</td><td>0</td><td> 2.9626324</td></tr>\n",
       "\t<tr><th scope=row>720</th><td>93.04866</td><td>90</td><td>0</td><td> 3.0486563</td></tr>\n",
       "\t<tr><th scope=row>166</th><td>59.30068</td><td>56</td><td>0</td><td> 3.3006841</td></tr>\n",
       "\t<tr><th scope=row>112</th><td>65.57719</td><td>62</td><td>0</td><td> 3.5771933</td></tr>\n",
       "\t<tr><th scope=row>45</th><td>87.67880</td><td>84</td><td>0</td><td> 3.6788018</td></tr>\n",
       "\t<tr><th scope=row>913</th><td>59.08954</td><td>55</td><td>0</td><td> 4.0895404</td></tr>\n",
       "\t<tr><th scope=row>473</th><td>88.10892</td><td>84</td><td>0</td><td> 4.1089184</td></tr>\n",
       "\t<tr><th scope=row>⋮</th><td>⋮</td><td>⋮</td><td>⋮</td><td>⋮</td></tr>\n",
       "\t<tr><th scope=row>719</th><td>81.49022</td><td> 2</td><td>0</td><td>79.49022</td></tr>\n",
       "\t<tr><th scope=row>545</th><td>87.56940</td><td> 8</td><td>0</td><td>79.56940</td></tr>\n",
       "\t<tr><th scope=row>374</th><td>87.73945</td><td> 8</td><td>0</td><td>79.73945</td></tr>\n",
       "\t<tr><th scope=row>416</th><td>85.98459</td><td> 6</td><td>0</td><td>79.98459</td></tr>\n",
       "\t<tr><th scope=row>823</th><td>92.07737</td><td>12</td><td>0</td><td>80.07737</td></tr>\n",
       "\t<tr><th scope=row>549</th><td>92.23239</td><td>12</td><td>0</td><td>80.23239</td></tr>\n",
       "\t<tr><th scope=row>56</th><td>92.33114</td><td>12</td><td>0</td><td>80.33114</td></tr>\n",
       "\t<tr><th scope=row>104</th><td>92.40367</td><td>12</td><td>0</td><td>80.40367</td></tr>\n",
       "\t<tr><th scope=row>929</th><td>92.44154</td><td>12</td><td>0</td><td>80.44154</td></tr>\n",
       "\t<tr><th scope=row>617</th><td>92.45043</td><td>12</td><td>0</td><td>80.45043</td></tr>\n",
       "\t<tr><th scope=row>522</th><td>87.66611</td><td> 7</td><td>0</td><td>80.66611</td></tr>\n",
       "\t<tr><th scope=row>64</th><td>87.89318</td><td> 7</td><td>0</td><td>80.89318</td></tr>\n",
       "\t<tr><th scope=row>721</th><td>86.15719</td><td> 5</td><td>0</td><td>81.15719</td></tr>\n",
       "\t<tr><th scope=row>897</th><td>92.32062</td><td>11</td><td>0</td><td>81.32062</td></tr>\n",
       "\t<tr><th scope=row>278</th><td>85.87679</td><td> 4</td><td>0</td><td>81.87679</td></tr>\n",
       "\t<tr><th scope=row>764</th><td>86.10545</td><td> 4</td><td>0</td><td>82.10545</td></tr>\n",
       "\t<tr><th scope=row>924</th><td>92.39831</td><td>10</td><td>0</td><td>82.39831</td></tr>\n",
       "\t<tr><th scope=row>75</th><td>87.57936</td><td> 4</td><td>0</td><td>83.57936</td></tr>\n",
       "\t<tr><th scope=row>709</th><td>92.07179</td><td> 7</td><td>0</td><td>85.07179</td></tr>\n",
       "\t<tr><th scope=row>465</th><td>86.25682</td><td> 1</td><td>0</td><td>85.25682</td></tr>\n",
       "\t<tr><th scope=row>692</th><td>87.83641</td><td> 2</td><td>0</td><td>85.83641</td></tr>\n",
       "\t<tr><th scope=row>72</th><td>87.66104</td><td> 1</td><td>0</td><td>86.66104</td></tr>\n",
       "\t<tr><th scope=row>425</th><td>92.19280</td><td> 5</td><td>0</td><td>87.19280</td></tr>\n",
       "\t<tr><th scope=row>700</th><td>92.23353</td><td> 5</td><td>0</td><td>87.23353</td></tr>\n",
       "\t<tr><th scope=row>852</th><td>92.27872</td><td> 5</td><td>0</td><td>87.27872</td></tr>\n",
       "\t<tr><th scope=row>708</th><td>92.69553</td><td> 4</td><td>0</td><td>88.69553</td></tr>\n",
       "\t<tr><th scope=row>225</th><td>92.87914</td><td> 3</td><td>0</td><td>89.87914</td></tr>\n",
       "\t<tr><th scope=row>877</th><td>92.31880</td><td> 2</td><td>0</td><td>90.31880</td></tr>\n",
       "\t<tr><th scope=row>472</th><td>92.55563</td><td> 2</td><td>0</td><td>90.55563</td></tr>\n",
       "\t<tr><th scope=row>53</th><td>92.24826</td><td> 1</td><td>0</td><td>91.24826</td></tr>\n",
       "</tbody>\n",
       "</table>\n"
      ],
      "text/latex": [
       "A data.frame: 603 × 4\n",
       "\\begin{tabular}{r|llll}\n",
       "  & Ebreak & lifetime & broken & RemainingLT\\\\\n",
       "  & <dbl> & <int> & <int> & <dbl>\\\\\n",
       "\\hline\n",
       "\t80 & 87.81934 & 88 & 0 & -0.1806637\\\\\n",
       "\t920 & 65.39920 & 65 & 0 &  0.3992047\\\\\n",
       "\t138 & 81.62875 & 81 & 0 &  0.6287524\\\\\n",
       "\t455 & 87.79644 & 87 & 0 &  0.7964376\\\\\n",
       "\t917 & 85.91101 & 85 & 0 &  0.9110116\\\\\n",
       "\t414 & 81.97309 & 81 & 0 &  0.9730926\\\\\n",
       "\t563 & 85.97717 & 85 & 0 &  0.9771675\\\\\n",
       "\t461 & 59.23558 & 58 & 0 &  1.2355788\\\\\n",
       "\t417 & 59.24155 & 58 & 0 &  1.2415496\\\\\n",
       "\t596 & 79.39749 & 78 & 0 &  1.3974893\\\\\n",
       "\t164 & 73.52644 & 72 & 0 &  1.5264351\\\\\n",
       "\t725 & 73.82021 & 72 & 0 &  1.8202141\\\\\n",
       "\t902 & 79.86900 & 78 & 0 &  1.8689974\\\\\n",
       "\t174 & 59.07773 & 57 & 0 &  2.0777348\\\\\n",
       "\t351 & 65.28227 & 63 & 0 &  2.2822748\\\\\n",
       "\t193 & 65.52786 & 63 & 0 &  2.5278623\\\\\n",
       "\t26 & 65.57060 & 63 & 0 &  2.5706048\\\\\n",
       "\t348 & 79.73589 & 77 & 0 &  2.7358880\\\\\n",
       "\t373 & 79.74197 & 77 & 0 &  2.7419739\\\\\n",
       "\t640 & 73.74352 & 71 & 0 &  2.7435217\\\\\n",
       "\t636 & 79.74363 & 77 & 0 &  2.7436343\\\\\n",
       "\t357 & 87.87551 & 85 & 0 &  2.8755131\\\\\n",
       "\t620 & 79.92346 & 77 & 0 &  2.9234563\\\\\n",
       "\t591 & 87.96263 & 85 & 0 &  2.9626324\\\\\n",
       "\t720 & 93.04866 & 90 & 0 &  3.0486563\\\\\n",
       "\t166 & 59.30068 & 56 & 0 &  3.3006841\\\\\n",
       "\t112 & 65.57719 & 62 & 0 &  3.5771933\\\\\n",
       "\t45 & 87.67880 & 84 & 0 &  3.6788018\\\\\n",
       "\t913 & 59.08954 & 55 & 0 &  4.0895404\\\\\n",
       "\t473 & 88.10892 & 84 & 0 &  4.1089184\\\\\n",
       "\t⋮ & ⋮ & ⋮ & ⋮ & ⋮\\\\\n",
       "\t719 & 81.49022 &  2 & 0 & 79.49022\\\\\n",
       "\t545 & 87.56940 &  8 & 0 & 79.56940\\\\\n",
       "\t374 & 87.73945 &  8 & 0 & 79.73945\\\\\n",
       "\t416 & 85.98459 &  6 & 0 & 79.98459\\\\\n",
       "\t823 & 92.07737 & 12 & 0 & 80.07737\\\\\n",
       "\t549 & 92.23239 & 12 & 0 & 80.23239\\\\\n",
       "\t56 & 92.33114 & 12 & 0 & 80.33114\\\\\n",
       "\t104 & 92.40367 & 12 & 0 & 80.40367\\\\\n",
       "\t929 & 92.44154 & 12 & 0 & 80.44154\\\\\n",
       "\t617 & 92.45043 & 12 & 0 & 80.45043\\\\\n",
       "\t522 & 87.66611 &  7 & 0 & 80.66611\\\\\n",
       "\t64 & 87.89318 &  7 & 0 & 80.89318\\\\\n",
       "\t721 & 86.15719 &  5 & 0 & 81.15719\\\\\n",
       "\t897 & 92.32062 & 11 & 0 & 81.32062\\\\\n",
       "\t278 & 85.87679 &  4 & 0 & 81.87679\\\\\n",
       "\t764 & 86.10545 &  4 & 0 & 82.10545\\\\\n",
       "\t924 & 92.39831 & 10 & 0 & 82.39831\\\\\n",
       "\t75 & 87.57936 &  4 & 0 & 83.57936\\\\\n",
       "\t709 & 92.07179 &  7 & 0 & 85.07179\\\\\n",
       "\t465 & 86.25682 &  1 & 0 & 85.25682\\\\\n",
       "\t692 & 87.83641 &  2 & 0 & 85.83641\\\\\n",
       "\t72 & 87.66104 &  1 & 0 & 86.66104\\\\\n",
       "\t425 & 92.19280 &  5 & 0 & 87.19280\\\\\n",
       "\t700 & 92.23353 &  5 & 0 & 87.23353\\\\\n",
       "\t852 & 92.27872 &  5 & 0 & 87.27872\\\\\n",
       "\t708 & 92.69553 &  4 & 0 & 88.69553\\\\\n",
       "\t225 & 92.87914 &  3 & 0 & 89.87914\\\\\n",
       "\t877 & 92.31880 &  2 & 0 & 90.31880\\\\\n",
       "\t472 & 92.55563 &  2 & 0 & 90.55563\\\\\n",
       "\t53 & 92.24826 &  1 & 0 & 91.24826\\\\\n",
       "\\end{tabular}\n"
      ],
      "text/markdown": [
       "\n",
       "A data.frame: 603 × 4\n",
       "\n",
       "| <!--/--> | Ebreak &lt;dbl&gt; | lifetime &lt;int&gt; | broken &lt;int&gt; | RemainingLT &lt;dbl&gt; |\n",
       "|---|---|---|---|---|\n",
       "| 80 | 87.81934 | 88 | 0 | -0.1806637 |\n",
       "| 920 | 65.39920 | 65 | 0 |  0.3992047 |\n",
       "| 138 | 81.62875 | 81 | 0 |  0.6287524 |\n",
       "| 455 | 87.79644 | 87 | 0 |  0.7964376 |\n",
       "| 917 | 85.91101 | 85 | 0 |  0.9110116 |\n",
       "| 414 | 81.97309 | 81 | 0 |  0.9730926 |\n",
       "| 563 | 85.97717 | 85 | 0 |  0.9771675 |\n",
       "| 461 | 59.23558 | 58 | 0 |  1.2355788 |\n",
       "| 417 | 59.24155 | 58 | 0 |  1.2415496 |\n",
       "| 596 | 79.39749 | 78 | 0 |  1.3974893 |\n",
       "| 164 | 73.52644 | 72 | 0 |  1.5264351 |\n",
       "| 725 | 73.82021 | 72 | 0 |  1.8202141 |\n",
       "| 902 | 79.86900 | 78 | 0 |  1.8689974 |\n",
       "| 174 | 59.07773 | 57 | 0 |  2.0777348 |\n",
       "| 351 | 65.28227 | 63 | 0 |  2.2822748 |\n",
       "| 193 | 65.52786 | 63 | 0 |  2.5278623 |\n",
       "| 26 | 65.57060 | 63 | 0 |  2.5706048 |\n",
       "| 348 | 79.73589 | 77 | 0 |  2.7358880 |\n",
       "| 373 | 79.74197 | 77 | 0 |  2.7419739 |\n",
       "| 640 | 73.74352 | 71 | 0 |  2.7435217 |\n",
       "| 636 | 79.74363 | 77 | 0 |  2.7436343 |\n",
       "| 357 | 87.87551 | 85 | 0 |  2.8755131 |\n",
       "| 620 | 79.92346 | 77 | 0 |  2.9234563 |\n",
       "| 591 | 87.96263 | 85 | 0 |  2.9626324 |\n",
       "| 720 | 93.04866 | 90 | 0 |  3.0486563 |\n",
       "| 166 | 59.30068 | 56 | 0 |  3.3006841 |\n",
       "| 112 | 65.57719 | 62 | 0 |  3.5771933 |\n",
       "| 45 | 87.67880 | 84 | 0 |  3.6788018 |\n",
       "| 913 | 59.08954 | 55 | 0 |  4.0895404 |\n",
       "| 473 | 88.10892 | 84 | 0 |  4.1089184 |\n",
       "| ⋮ | ⋮ | ⋮ | ⋮ | ⋮ |\n",
       "| 719 | 81.49022 |  2 | 0 | 79.49022 |\n",
       "| 545 | 87.56940 |  8 | 0 | 79.56940 |\n",
       "| 374 | 87.73945 |  8 | 0 | 79.73945 |\n",
       "| 416 | 85.98459 |  6 | 0 | 79.98459 |\n",
       "| 823 | 92.07737 | 12 | 0 | 80.07737 |\n",
       "| 549 | 92.23239 | 12 | 0 | 80.23239 |\n",
       "| 56 | 92.33114 | 12 | 0 | 80.33114 |\n",
       "| 104 | 92.40367 | 12 | 0 | 80.40367 |\n",
       "| 929 | 92.44154 | 12 | 0 | 80.44154 |\n",
       "| 617 | 92.45043 | 12 | 0 | 80.45043 |\n",
       "| 522 | 87.66611 |  7 | 0 | 80.66611 |\n",
       "| 64 | 87.89318 |  7 | 0 | 80.89318 |\n",
       "| 721 | 86.15719 |  5 | 0 | 81.15719 |\n",
       "| 897 | 92.32062 | 11 | 0 | 81.32062 |\n",
       "| 278 | 85.87679 |  4 | 0 | 81.87679 |\n",
       "| 764 | 86.10545 |  4 | 0 | 82.10545 |\n",
       "| 924 | 92.39831 | 10 | 0 | 82.39831 |\n",
       "| 75 | 87.57936 |  4 | 0 | 83.57936 |\n",
       "| 709 | 92.07179 |  7 | 0 | 85.07179 |\n",
       "| 465 | 86.25682 |  1 | 0 | 85.25682 |\n",
       "| 692 | 87.83641 |  2 | 0 | 85.83641 |\n",
       "| 72 | 87.66104 |  1 | 0 | 86.66104 |\n",
       "| 425 | 92.19280 |  5 | 0 | 87.19280 |\n",
       "| 700 | 92.23353 |  5 | 0 | 87.23353 |\n",
       "| 852 | 92.27872 |  5 | 0 | 87.27872 |\n",
       "| 708 | 92.69553 |  4 | 0 | 88.69553 |\n",
       "| 225 | 92.87914 |  3 | 0 | 89.87914 |\n",
       "| 877 | 92.31880 |  2 | 0 | 90.31880 |\n",
       "| 472 | 92.55563 |  2 | 0 | 90.55563 |\n",
       "| 53 | 92.24826 |  1 | 0 | 91.24826 |\n",
       "\n"
      ],
      "text/plain": [
       "    Ebreak   lifetime broken RemainingLT\n",
       "80  87.81934 88       0      -0.1806637 \n",
       "920 65.39920 65       0       0.3992047 \n",
       "138 81.62875 81       0       0.6287524 \n",
       "455 87.79644 87       0       0.7964376 \n",
       "917 85.91101 85       0       0.9110116 \n",
       "414 81.97309 81       0       0.9730926 \n",
       "563 85.97717 85       0       0.9771675 \n",
       "461 59.23558 58       0       1.2355788 \n",
       "417 59.24155 58       0       1.2415496 \n",
       "596 79.39749 78       0       1.3974893 \n",
       "164 73.52644 72       0       1.5264351 \n",
       "725 73.82021 72       0       1.8202141 \n",
       "902 79.86900 78       0       1.8689974 \n",
       "174 59.07773 57       0       2.0777348 \n",
       "351 65.28227 63       0       2.2822748 \n",
       "193 65.52786 63       0       2.5278623 \n",
       "26  65.57060 63       0       2.5706048 \n",
       "348 79.73589 77       0       2.7358880 \n",
       "373 79.74197 77       0       2.7419739 \n",
       "640 73.74352 71       0       2.7435217 \n",
       "636 79.74363 77       0       2.7436343 \n",
       "357 87.87551 85       0       2.8755131 \n",
       "620 79.92346 77       0       2.9234563 \n",
       "591 87.96263 85       0       2.9626324 \n",
       "720 93.04866 90       0       3.0486563 \n",
       "166 59.30068 56       0       3.3006841 \n",
       "112 65.57719 62       0       3.5771933 \n",
       "45  87.67880 84       0       3.6788018 \n",
       "913 59.08954 55       0       4.0895404 \n",
       "473 88.10892 84       0       4.1089184 \n",
       "⋮   ⋮        ⋮        ⋮      ⋮          \n",
       "719 81.49022  2       0      79.49022   \n",
       "545 87.56940  8       0      79.56940   \n",
       "374 87.73945  8       0      79.73945   \n",
       "416 85.98459  6       0      79.98459   \n",
       "823 92.07737 12       0      80.07737   \n",
       "549 92.23239 12       0      80.23239   \n",
       "56  92.33114 12       0      80.33114   \n",
       "104 92.40367 12       0      80.40367   \n",
       "929 92.44154 12       0      80.44154   \n",
       "617 92.45043 12       0      80.45043   \n",
       "522 87.66611  7       0      80.66611   \n",
       "64  87.89318  7       0      80.89318   \n",
       "721 86.15719  5       0      81.15719   \n",
       "897 92.32062 11       0      81.32062   \n",
       "278 85.87679  4       0      81.87679   \n",
       "764 86.10545  4       0      82.10545   \n",
       "924 92.39831 10       0      82.39831   \n",
       "75  87.57936  4       0      83.57936   \n",
       "709 92.07179  7       0      85.07179   \n",
       "465 86.25682  1       0      85.25682   \n",
       "692 87.83641  2       0      85.83641   \n",
       "72  87.66104  1       0      86.66104   \n",
       "425 92.19280  5       0      87.19280   \n",
       "700 92.23353  5       0      87.23353   \n",
       "852 92.27872  5       0      87.27872   \n",
       "708 92.69553  4       0      88.69553   \n",
       "225 92.87914  3       0      89.87914   \n",
       "877 92.31880  2       0      90.31880   \n",
       "472 92.55563  2       0      90.55563   \n",
       "53  92.24826  1       0      91.24826   "
      ]
     },
     "metadata": {},
     "output_type": "display_data"
    }
   ],
   "source": [
    "ActionsPriority"
   ]
  },
  {
   "cell_type": "markdown",
   "metadata": {},
   "source": [
    "#        EXAMPLE N°4 - SEASONAL SALES OF CHOCOLATES #"
   ]
  },
  {
   "cell_type": "code",
   "execution_count": 23,
   "metadata": {},
   "outputs": [],
   "source": [
    "# Let's load our dataset and call it data\n",
    "data=read.table('DATA_4.04_CHOC.csv',sep=',',header=TRUE) # The function read.table enables us to read flat files such as .csv files"
   ]
  },
  {
   "cell_type": "code",
   "execution_count": null,
   "metadata": {},
   "outputs": [],
   "source": [
    "# Now let's have a look at our variables and see some summary statistics\n",
    "str(data) # The str() function shows the structure of your dataset and details the type of variables that it contains\n",
    "summary(data$sales) # The summary() function provides for each variable in your dataset the minimum, mean, maximum and quartiles"
   ]
  },
  {
   "cell_type": "code",
   "execution_count": null,
   "metadata": {},
   "outputs": [],
   "source": [
    "\n",
    "plot(data$time,data$sales,main=\"Chocolate sales over time\",xlab=\"Time (in month)\",ylab=\"Monthly sales\",ylim=c(0,max(data$sales*1.2)),type='l')\n",
    "regres=lm(sales~month,data=data) # Build a linear regression model\n",
    "summary(regres)"
   ]
  },
  {
   "cell_type": "code",
   "execution_count": null,
   "metadata": {},
   "outputs": [],
   "source": [
    "# Boxplots:\n",
    "plot(data$month,data$sales,main=\"Chocolate sales by month\",xlab=\"Month\",ylab=\"Monthly sales\",ylim=c(0,max(data$sales*1.2)))"
   ]
  },
  {
   "cell_type": "code",
   "execution_count": null,
   "metadata": {},
   "outputs": [],
   "source": [
    "# Recovery thanks to the model:\n",
    "plot(data$time,data$sales,main=\"Chocolate sales over time\",xlab=\"Time (in month)\",ylab=\"Monthly sales\",ylim=c(0,max(data$sales)*1.2),type='l')\n",
    "lines(data$time,regres$fitted.values,type='l',col='blue',lty=2)\n",
    "legend(\"topleft\",c(\"Actual sales\",\"Sales by the model\"),lty=c(1,2),col=c('black','blue'))"
   ]
  }
 ],
 "metadata": {
  "kernelspec": {
   "display_name": "R",
   "language": "R",
   "name": "ir"
  },
  "language_info": {
   "codemirror_mode": "r",
   "file_extension": ".r",
   "mimetype": "text/x-r-source",
   "name": "R",
   "pygments_lexer": "r",
   "version": "3.6.1"
  }
 },
 "nbformat": 4,
 "nbformat_minor": 2
}
