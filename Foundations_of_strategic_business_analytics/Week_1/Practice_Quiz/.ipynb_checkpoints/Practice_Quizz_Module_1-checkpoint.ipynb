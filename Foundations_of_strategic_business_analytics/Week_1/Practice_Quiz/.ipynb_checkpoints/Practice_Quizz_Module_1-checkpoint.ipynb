{
 "cells": [
  {
   "cell_type": "code",
   "execution_count": 28,
   "metadata": {},
   "outputs": [],
   "source": [
    "import modin.pandas as pd\n",
    "import numpy as np\n",
    "import matplotlib.pyplot as plt\n",
    "import plotly.graph_objects as go"
   ]
  },
  {
   "cell_type": "code",
   "execution_count": 2,
   "metadata": {},
   "outputs": [
    {
     "name": "stdout",
     "output_type": "stream",
     "text": [
      "/usr/bin/sh: ll: command not found\r\n"
     ]
    }
   ],
   "source": [
    "! ll"
   ]
  },
  {
   "cell_type": "code",
   "execution_count": 3,
   "metadata": {},
   "outputs": [
    {
     "name": "stdout",
     "output_type": "stream",
     "text": [
      "dask-worker-space  PASTAPURCHASE_EDITED.csv  Practice_Quizz_Module_1.ipynb\r\n"
     ]
    }
   ],
   "source": [
    "!ls"
   ]
  },
  {
   "cell_type": "code",
   "execution_count": 4,
   "metadata": {},
   "outputs": [],
   "source": [
    "df = pd.read_csv(\"PASTAPURCHASE_EDITED.csv\")"
   ]
  },
  {
   "cell_type": "code",
   "execution_count": 5,
   "metadata": {},
   "outputs": [
    {
     "name": "stderr",
     "output_type": "stream",
     "text": [
      "UserWarning: `DataFrame.info` defaulting to pandas implementation.\n",
      "To request implementation, send an email to feature_requests@modin.org.\n"
     ]
    },
    {
     "name": "stdout",
     "output_type": "stream",
     "text": [
      "<class 'modin.pandas.dataframe.DataFrame'>\n",
      "RangeIndex: 40000 entries, 0 to 39999\n",
      "Data columns (total 7 columns):\n",
      " #   Column  Non-Null Count  Dtype  \n",
      "---  ------  --------------  -----  \n",
      " 0   HHID    40000 non-null  int64  \n",
      " 1   TIME    40000 non-null  int64  \n",
      " 2   PASTA   40000 non-null  float64\n",
      " 3   EXPOS   40000 non-null  int64  \n",
      " 4   AGE     40000 non-null  float64\n",
      " 5   INCOME  40000 non-null  float64\n",
      " 6   AREA    40000 non-null  int64  \n",
      "dtypes: float64(3), int64(4)\n",
      "memory usage: 2.1 MB\n"
     ]
    },
    {
     "name": "stderr",
     "output_type": "stream",
     "text": [
      "UserWarning: Distributing <class 'pandas.core.frame.DataFrame'> object. This may take some time.\n"
     ]
    }
   ],
   "source": [
    "df.info()"
   ]
  },
  {
   "cell_type": "code",
   "execution_count": 6,
   "metadata": {},
   "outputs": [
    {
     "data": {
      "text/html": [
       "<div>\n",
       "<style scoped>\n",
       "    .dataframe tbody tr th:only-of-type {\n",
       "        vertical-align: middle;\n",
       "    }\n",
       "\n",
       "    .dataframe tbody tr th {\n",
       "        vertical-align: top;\n",
       "    }\n",
       "\n",
       "    .dataframe thead th {\n",
       "        text-align: right;\n",
       "    }\n",
       "</style>\n",
       "<table border=\"1\" class=\"dataframe\">\n",
       "  <thead>\n",
       "    <tr style=\"text-align: right;\">\n",
       "      <th></th>\n",
       "      <th>HHID</th>\n",
       "      <th>TIME</th>\n",
       "      <th>PASTA</th>\n",
       "      <th>EXPOS</th>\n",
       "      <th>AGE</th>\n",
       "      <th>INCOME</th>\n",
       "      <th>AREA</th>\n",
       "    </tr>\n",
       "  </thead>\n",
       "  <tbody>\n",
       "    <tr>\n",
       "      <th>0</th>\n",
       "      <td>1</td>\n",
       "      <td>1</td>\n",
       "      <td>0.939444</td>\n",
       "      <td>1</td>\n",
       "      <td>61.710758</td>\n",
       "      <td>25186.798772</td>\n",
       "      <td>3</td>\n",
       "    </tr>\n",
       "    <tr>\n",
       "      <th>1</th>\n",
       "      <td>1</td>\n",
       "      <td>2</td>\n",
       "      <td>2.560969</td>\n",
       "      <td>2</td>\n",
       "      <td>61.710758</td>\n",
       "      <td>25186.798772</td>\n",
       "      <td>3</td>\n",
       "    </tr>\n",
       "    <tr>\n",
       "      <th>2</th>\n",
       "      <td>1</td>\n",
       "      <td>3</td>\n",
       "      <td>0.901123</td>\n",
       "      <td>0</td>\n",
       "      <td>61.710758</td>\n",
       "      <td>25186.798772</td>\n",
       "      <td>3</td>\n",
       "    </tr>\n",
       "    <tr>\n",
       "      <th>3</th>\n",
       "      <td>1</td>\n",
       "      <td>4</td>\n",
       "      <td>1.916530</td>\n",
       "      <td>1</td>\n",
       "      <td>61.710758</td>\n",
       "      <td>25186.798772</td>\n",
       "      <td>3</td>\n",
       "    </tr>\n",
       "    <tr>\n",
       "      <th>4</th>\n",
       "      <td>1</td>\n",
       "      <td>5</td>\n",
       "      <td>1.548751</td>\n",
       "      <td>0</td>\n",
       "      <td>61.710758</td>\n",
       "      <td>25186.798772</td>\n",
       "      <td>3</td>\n",
       "    </tr>\n",
       "  </tbody>\n",
       "</table>\n",
       "</div>"
      ],
      "text/plain": [
       "   HHID  TIME     PASTA  EXPOS        AGE        INCOME  AREA\n",
       "0     1     1  0.939444      1  61.710758  25186.798772     3\n",
       "1     1     2  2.560969      2  61.710758  25186.798772     3\n",
       "2     1     3  0.901123      0  61.710758  25186.798772     3\n",
       "3     1     4  1.916530      1  61.710758  25186.798772     3\n",
       "4     1     5  1.548751      0  61.710758  25186.798772     3"
      ]
     },
     "execution_count": 6,
     "metadata": {},
     "output_type": "execute_result"
    }
   ],
   "source": [
    "df.head()"
   ]
  },
  {
   "cell_type": "code",
   "execution_count": 7,
   "metadata": {},
   "outputs": [
    {
     "name": "stderr",
     "output_type": "stream",
     "text": [
      "UserWarning: User-defined function verification is still under development in Modin. The function provided is not verified.\n"
     ]
    },
    {
     "data": {
      "text/plain": [
       "0      1\n",
       "1      2\n",
       "2      3\n",
       "3      4\n",
       "4      5\n",
       "5      6\n",
       "6      7\n",
       "7      8\n",
       "8      9\n",
       "9     10\n",
       "10    11\n",
       "11    12\n",
       "12    13\n",
       "13    14\n",
       "14    15\n",
       "15    16\n",
       "16    17\n",
       "17    18\n",
       "18    19\n",
       "19    20\n",
       "Name: TIME, dtype: int64"
      ]
     },
     "execution_count": 7,
     "metadata": {},
     "output_type": "execute_result"
    }
   ],
   "source": [
    "df['TIME'].drop_duplicates()"
   ]
  },
  {
   "cell_type": "markdown",
   "metadata": {},
   "source": [
    "# 1. What is the correct mean and standard deviation of the quantity of pasta purchased by time unit by household?"
   ]
  },
  {
   "cell_type": "code",
   "execution_count": 8,
   "metadata": {},
   "outputs": [
    {
     "name": "stdout",
     "output_type": "stream",
     "text": [
      "mean : 1.8415445385441294\n",
      "standard deviation: 1.0258982303367858\n"
     ]
    }
   ],
   "source": [
    "# 平均数 \n",
    "avg = np.mean(df['PASTA'])\n",
    "# 标准差\n",
    "std = np.std(df[\"PASTA\"])\n",
    "\n",
    "print(\"mean : {}\\nstandard deviation: {}\".format(avg, std))"
   ]
  },
  {
   "cell_type": "code",
   "execution_count": 9,
   "metadata": {},
   "outputs": [
    {
     "data": {
      "text/plain": [
       "numpy.float64"
      ]
     },
     "execution_count": 9,
     "metadata": {},
     "output_type": "execute_result"
    }
   ],
   "source": [
    "type(avg)"
   ]
  },
  {
   "cell_type": "code",
   "execution_count": 10,
   "metadata": {},
   "outputs": [
    {
     "data": {
      "text/plain": [
       "0      3\n",
       "40     4\n",
       "60     1\n",
       "80     5\n",
       "180    2\n",
       "Name: AREA, dtype: int64"
      ]
     },
     "execution_count": 10,
     "metadata": {},
     "output_type": "execute_result"
    }
   ],
   "source": [
    "df['AREA'].drop_duplicates()"
   ]
  },
  {
   "cell_type": "markdown",
   "metadata": {},
   "source": [
    "# 2.In which area are located (i) the poorest household and (ii) the wealthiest household?"
   ]
  },
  {
   "cell_type": "code",
   "execution_count": 87,
   "metadata": {},
   "outputs": [
    {
     "name": "stdout",
     "output_type": "stream",
     "text": [
      "poorest:AREA\n",
      "2     609.107170\n",
      "4    1241.960729\n",
      "5    1331.260222\n",
      "3    2353.176959\n",
      "1    2740.776521\n",
      "Name: INCOME, dtype: float64\n",
      "wealthiest:AREA\n",
      "5    141066.966883\n",
      "4    112983.969631\n",
      "3    111295.840727\n",
      "2    106319.106367\n",
      "1     85241.329860\n",
      "Name: INCOME, dtype: float64\n"
     ]
    }
   ],
   "source": [
    "# 家庭经济情况\n",
    "poor_home = df.groupby(\"AREA\")[\"INCOME\"].agg(np.min).sort_values()\n",
    "rich_home =  df.groupby(\"AREA\")[\"INCOME\"].agg(np.max).sort_values(ascending=False)\n",
    "print(\"poorest:{}\\nwealthiest:{}\".format(poor_home, rich_home))"
   ]
  },
  {
   "cell_type": "markdown",
   "metadata": {},
   "source": [
    "# 3. What is the maximum pasta quantity a household has bought over the whole time period? (Sum the quantity of pasta by household over time and indicate the maximum)"
   ]
  },
  {
   "cell_type": "code",
   "execution_count": 12,
   "metadata": {},
   "outputs": [
    {
     "data": {
      "text/html": [
       "<div>\n",
       "<style scoped>\n",
       "    .dataframe tbody tr th:only-of-type {\n",
       "        vertical-align: middle;\n",
       "    }\n",
       "\n",
       "    .dataframe tbody tr th {\n",
       "        vertical-align: top;\n",
       "    }\n",
       "\n",
       "    .dataframe thead th {\n",
       "        text-align: right;\n",
       "    }\n",
       "</style>\n",
       "<table border=\"1\" class=\"dataframe\">\n",
       "  <thead>\n",
       "    <tr style=\"text-align: right;\">\n",
       "      <th></th>\n",
       "      <th>PASTA</th>\n",
       "    </tr>\n",
       "    <tr>\n",
       "      <th>HHID</th>\n",
       "      <th></th>\n",
       "    </tr>\n",
       "  </thead>\n",
       "  <tbody>\n",
       "    <tr>\n",
       "      <th>1493</th>\n",
       "      <td>55.361931</td>\n",
       "    </tr>\n",
       "    <tr>\n",
       "      <th>1511</th>\n",
       "      <td>51.030304</td>\n",
       "    </tr>\n",
       "    <tr>\n",
       "      <th>151</th>\n",
       "      <td>50.816654</td>\n",
       "    </tr>\n",
       "    <tr>\n",
       "      <th>647</th>\n",
       "      <td>50.771865</td>\n",
       "    </tr>\n",
       "    <tr>\n",
       "      <th>916</th>\n",
       "      <td>50.502666</td>\n",
       "    </tr>\n",
       "    <tr>\n",
       "      <th>...</th>\n",
       "      <td>...</td>\n",
       "    </tr>\n",
       "    <tr>\n",
       "      <th>92</th>\n",
       "      <td>23.926629</td>\n",
       "    </tr>\n",
       "    <tr>\n",
       "      <th>267</th>\n",
       "      <td>23.380097</td>\n",
       "    </tr>\n",
       "    <tr>\n",
       "      <th>572</th>\n",
       "      <td>23.225390</td>\n",
       "    </tr>\n",
       "    <tr>\n",
       "      <th>1921</th>\n",
       "      <td>21.738494</td>\n",
       "    </tr>\n",
       "    <tr>\n",
       "      <th>1917</th>\n",
       "      <td>19.256710</td>\n",
       "    </tr>\n",
       "  </tbody>\n",
       "</table>\n",
       "<p>2000 rows x 1 columns</p>\n",
       "</div>"
      ],
      "text/plain": [
       "          PASTA\n",
       "HHID           \n",
       "1493  55.361931\n",
       "1511  51.030304\n",
       "151   50.816654\n",
       "647   50.771865\n",
       "916   50.502666\n",
       "...         ...\n",
       "92    23.926629\n",
       "267   23.380097\n",
       "572   23.225390\n",
       "1921  21.738494\n",
       "1917  19.256710\n",
       "\n",
       "[2000 rows x 1 columns]"
      ]
     },
     "execution_count": 12,
     "metadata": {},
     "output_type": "execute_result"
    }
   ],
   "source": [
    "# 一个家庭一段时间内购买面粉的最大量\n",
    "quantity  = df[['HHID', 'PASTA']].groupby('HHID').agg(np.sum).sort_values(by=\"PASTA\", ascending=False)\n",
    "quantity"
   ]
  },
  {
   "cell_type": "markdown",
   "metadata": {},
   "source": [
    "# 4.What is the average income of households living in area 4?"
   ]
  },
  {
   "cell_type": "code",
   "execution_count": 13,
   "metadata": {},
   "outputs": [
    {
     "data": {
      "text/plain": [
       "AREA\n",
       "4    29260.133137\n",
       "1    28076.599968\n",
       "2    26218.857948\n",
       "5    26030.910606\n",
       "3    25879.485698\n",
       "Name: INCOME, dtype: float64"
      ]
     },
     "execution_count": 13,
     "metadata": {},
     "output_type": "execute_result"
    }
   ],
   "source": [
    "# 区域4中家庭的平均收入\n",
    "income_by_area = df.groupby(\"AREA\")[\"INCOME\"].agg(np.mean).sort_values(ascending=False)\n",
    "income_by_area"
   ]
  },
  {
   "cell_type": "markdown",
   "metadata": {},
   "source": [
    "# 5.How many households live in area 2, earn more than 20k, and have purchased more than 30 units of pasta over the whole time period?"
   ]
  },
  {
   "cell_type": "code",
   "execution_count": 14,
   "metadata": {},
   "outputs": [
    {
     "data": {
      "text/plain": [
       "218"
      ]
     },
     "execution_count": 14,
     "metadata": {},
     "output_type": "execute_result"
    }
   ],
   "source": [
    "# 在区域2中，有多少个家庭收入2w以上并且购买了30单位以上的面粉\n",
    "area2 = df[df[\"AREA\"] == 2]\n",
    "\n",
    "income = area2[area2['INCOME'] >= 20000]\n",
    "\n",
    "pasta = income.groupby('HHID').agg(np.sum)\n",
    "\n",
    "res = len(pasta[pasta['PASTA'] >= 30])\n",
    "\n",
    "res"
   ]
  },
  {
   "cell_type": "markdown",
   "metadata": {},
   "source": [
    "# 6.What is the correlation between the purchases of pasta and the exposures?"
   ]
  },
  {
   "cell_type": "code",
   "execution_count": 15,
   "metadata": {},
   "outputs": [
    {
     "name": "stderr",
     "output_type": "stream",
     "text": [
      "RuntimeWarning: invalid value encountered in true_divide\n",
      "RuntimeWarning: divide by zero encountered in true_divide\n",
      "RuntimeWarning: invalid value encountered in true_divide\n"
     ]
    },
    {
     "data": {
      "text/plain": [
       "array([[ 1., -1., -1., ..., -1., -1., -1.],\n",
       "       [-1.,  1.,  1., ...,  1.,  1.,  1.],\n",
       "       [-1.,  1.,  1., ...,  1.,  1.,  1.],\n",
       "       ...,\n",
       "       [-1.,  1.,  1., ...,  1.,  1.,  1.],\n",
       "       [-1.,  1.,  1., ...,  1.,  1.,  1.],\n",
       "       [-1.,  1.,  1., ...,  1.,  1.,  1.]])"
      ]
     },
     "execution_count": 15,
     "metadata": {},
     "output_type": "execute_result"
    }
   ],
   "source": [
    "# expos和购买量的相关系数\n",
    "expos_pur = df.loc[:, [\"PASTA\", \"EXPOS\"]]\n",
    "\n",
    "cor_matrix = np.corrcoef(expos_pur)\n",
    "\n",
    "cor_matrix"
   ]
  },
  {
   "cell_type": "code",
   "execution_count": 16,
   "metadata": {},
   "outputs": [
    {
     "name": "stderr",
     "output_type": "stream",
     "text": [
      "UserWarning: `DataFrame.corr` defaulting to pandas implementation.\n",
      "UserWarning: Distributing <class 'pandas.core.frame.DataFrame'> object. This may take some time.\n"
     ]
    },
    {
     "data": {
      "text/html": [
       "<div>\n",
       "<style scoped>\n",
       "    .dataframe tbody tr th:only-of-type {\n",
       "        vertical-align: middle;\n",
       "    }\n",
       "\n",
       "    .dataframe tbody tr th {\n",
       "        vertical-align: top;\n",
       "    }\n",
       "\n",
       "    .dataframe thead th {\n",
       "        text-align: right;\n",
       "    }\n",
       "</style>\n",
       "<table border=\"1\" class=\"dataframe\">\n",
       "  <thead>\n",
       "    <tr style=\"text-align: right;\">\n",
       "      <th></th>\n",
       "      <th>PASTA</th>\n",
       "      <th>EXPOS</th>\n",
       "    </tr>\n",
       "  </thead>\n",
       "  <tbody>\n",
       "    <tr>\n",
       "      <th>PASTA</th>\n",
       "      <td>1.000000</td>\n",
       "      <td>0.326617</td>\n",
       "    </tr>\n",
       "    <tr>\n",
       "      <th>EXPOS</th>\n",
       "      <td>0.326617</td>\n",
       "      <td>1.000000</td>\n",
       "    </tr>\n",
       "  </tbody>\n",
       "</table>\n",
       "</div>"
      ],
      "text/plain": [
       "          PASTA     EXPOS\n",
       "PASTA  1.000000  0.326617\n",
       "EXPOS  0.326617  1.000000"
      ]
     },
     "execution_count": 16,
     "metadata": {},
     "output_type": "execute_result"
    }
   ],
   "source": [
    "expos_pur.corr()"
   ]
  },
  {
   "cell_type": "code",
   "execution_count": 17,
   "metadata": {},
   "outputs": [
    {
     "data": {
      "text/plain": [
       "array([[1.05249349, 0.23524015],\n",
       "       [0.23524015, 0.49286151]])"
      ]
     },
     "execution_count": 17,
     "metadata": {},
     "output_type": "execute_result"
    }
   ],
   "source": [
    "cor_val = np.cov(expos_pur['PASTA'], expos_pur['EXPOS'])\n",
    "cor_val\n",
    "# np的cov和corrcoef不明白"
   ]
  },
  {
   "cell_type": "markdown",
   "metadata": {},
   "source": [
    "# 7.Which of the following graphs reports the correct histogram by household of the total purchase of pasta made by the household over the whole period? (Sum the purchases by household and make a histogram.)"
   ]
  },
  {
   "cell_type": "code",
   "execution_count": 43,
   "metadata": {},
   "outputs": [],
   "source": [
    "# 以下哪个图表正确反映了家庭在整个时间段内购买意大利面总量的柱状图?(把每个家庭购买的东西加起来，做成一个柱状图。)\n",
    "quantity  = df[['HHID', 'PASTA']].groupby('HHID').agg(np.sum)\n",
    "quantity.reset_index(inplace=True)\n",
    "# quantity.plot.bar(x=quantity['HHID'], y=quantity['PASTA'])"
   ]
  },
  {
   "cell_type": "code",
   "execution_count": 56,
   "metadata": {},
   "outputs": [
    {
     "data": {
      "text/html": [
       "<div>\n",
       "<style scoped>\n",
       "    .dataframe tbody tr th:only-of-type {\n",
       "        vertical-align: middle;\n",
       "    }\n",
       "\n",
       "    .dataframe tbody tr th {\n",
       "        vertical-align: top;\n",
       "    }\n",
       "\n",
       "    .dataframe thead th {\n",
       "        text-align: right;\n",
       "    }\n",
       "</style>\n",
       "<table border=\"1\" class=\"dataframe\">\n",
       "  <thead>\n",
       "    <tr style=\"text-align: right;\">\n",
       "      <th></th>\n",
       "      <th>HHID</th>\n",
       "      <th>PASTA</th>\n",
       "    </tr>\n",
       "  </thead>\n",
       "  <tbody>\n",
       "    <tr>\n",
       "      <th>0</th>\n",
       "      <td>1</td>\n",
       "      <td>42.524262</td>\n",
       "    </tr>\n",
       "    <tr>\n",
       "      <th>1</th>\n",
       "      <td>2</td>\n",
       "      <td>46.355283</td>\n",
       "    </tr>\n",
       "    <tr>\n",
       "      <th>2</th>\n",
       "      <td>3</td>\n",
       "      <td>37.507455</td>\n",
       "    </tr>\n",
       "    <tr>\n",
       "      <th>3</th>\n",
       "      <td>4</td>\n",
       "      <td>39.123709</td>\n",
       "    </tr>\n",
       "    <tr>\n",
       "      <th>4</th>\n",
       "      <td>5</td>\n",
       "      <td>41.318862</td>\n",
       "    </tr>\n",
       "    <tr>\n",
       "      <th>...</th>\n",
       "      <td>...</td>\n",
       "      <td>...</td>\n",
       "    </tr>\n",
       "    <tr>\n",
       "      <th>1995</th>\n",
       "      <td>1996</td>\n",
       "      <td>42.601586</td>\n",
       "    </tr>\n",
       "    <tr>\n",
       "      <th>1996</th>\n",
       "      <td>1997</td>\n",
       "      <td>39.881560</td>\n",
       "    </tr>\n",
       "    <tr>\n",
       "      <th>1997</th>\n",
       "      <td>1998</td>\n",
       "      <td>40.594879</td>\n",
       "    </tr>\n",
       "    <tr>\n",
       "      <th>1998</th>\n",
       "      <td>1999</td>\n",
       "      <td>38.499833</td>\n",
       "    </tr>\n",
       "    <tr>\n",
       "      <th>1999</th>\n",
       "      <td>2000</td>\n",
       "      <td>33.562716</td>\n",
       "    </tr>\n",
       "  </tbody>\n",
       "</table>\n",
       "<p>2000 rows x 2 columns</p>\n",
       "</div>"
      ],
      "text/plain": [
       "      HHID      PASTA\n",
       "0        1  42.524262\n",
       "1        2  46.355283\n",
       "2        3  37.507455\n",
       "3        4  39.123709\n",
       "4        5  41.318862\n",
       "...    ...        ...\n",
       "1995  1996  42.601586\n",
       "1996  1997  39.881560\n",
       "1997  1998  40.594879\n",
       "1998  1999  38.499833\n",
       "1999  2000  33.562716\n",
       "\n",
       "[2000 rows x 2 columns]"
      ]
     },
     "execution_count": 56,
     "metadata": {},
     "output_type": "execute_result"
    }
   ],
   "source": [
    "quantity"
   ]
  },
  {
   "cell_type": "code",
   "execution_count": 80,
   "metadata": {
    "scrolled": true
   },
   "outputs": [
    {
     "data": {
      "text/plain": [
       "Text(0.5, 1.0, 'default')"
      ]
     },
     "execution_count": 80,
     "metadata": {},
     "output_type": "execute_result"
    },
    {
     "data": {
      "image/png": "[encoded data removed]",
      "text/plain": [
       "<Figure size 432x288 with 2 Axes>"
      ]
     },
     "metadata": {
      "needs_background": "light"
     },
     "output_type": "display_data"
    }
   ],
   "source": [
    "fig = plt.figure(12)\n",
    "axes1 = fig.add_subplot(121)\n",
    "axes1.hist( x=quantity['PASTA'], bins=[20, 25, 30, 35, 40, 45, 50, 55])\n",
    "axes1.set_title(\"set the bin\")\n",
    "\n",
    "axes2 = fig.add_subplot(122)\n",
    "axes2.hist(x=quantity['PASTA'])\n",
    "axes2.set_title(\"default\")"
   ]
  },
  {
   "cell_type": "code",
   "execution_count": 66,
   "metadata": {},
   "outputs": [
    {
     "data": {
      "application/vnd.plotly.v1+json": {
       "config": {
        "plotlyServerURL": "https://plot.ly"
       },
       "data": [
        {
         "type": "histogram",
         "x": [
          42.52426206893501,
          46.35528268574335,
          37.5074545665322,
          39.123708804794326,
          41.31886151341567,
          32.27939085869403,
          45.27544160293596,
          30.55614046703365,
          45.953041183453074,
          35.24515974039784,
          38.32709847489056,
          28.564947093179555,
          44.04423453379684,
          38.4191502802255,
          50.23848119526044,
          44.077064370571584,
          32.55587977413053,
          38.970012523813985,
          38.75631320054394,
          33.64405724339092,
          35.69654723139398,
          34.78889988982626,
          37.338394198478284,
          40.44880167224062,
          28.358533420552543,
          41.86984553256084,
          40.69051806939942,
          25.823769656922853,
          34.07803714374221,
          36.22775813007948,
          29.333792548331687,
          32.77734166726072,
          32.118041796017074,
          33.120943740867496,
          42.6397694514374,
          36.35026880126054,
          46.099470379795164,
          42.27459174104761,
          29.537873699817503,
          36.439022584749225,
          35.80976602173238,
          44.8674213498555,
          40.93465619792409,
          36.86623229790198,
          36.92193054157042,
          29.282377213355797,
          43.75464069021829,
          41.78374851884056,
          35.29666364946593,
          41.08516446857486,
          43.721755742310755,
          43.93680035862467,
          31.527032846929078,
          33.3093071316654,
          42.03857964151684,
          44.26983583755137,
          41.43914918820036,
          42.210367193934275,
          40.661541645059664,
          35.3998251614026,
          38.9397975165264,
          35.77019131443997,
          30.343313908070456,
          43.239541093215784,
          41.042748347862705,
          26.28910856348833,
          38.511408358817285,
          34.243132702797034,
          35.96704337851249,
          29.141915965250227,
          36.564683587979374,
          36.505775638544705,
          43.0023236027909,
          34.576515250284835,
          42.74518378554396,
          31.670657499430437,
          36.765329037274824,
          34.87146491746295,
          37.498824317529056,
          37.421480451157905,
          35.676146124338246,
          25.691478476374137,
          35.497893451976346,
          31.782535754436847,
          34.40090194318192,
          36.886661496949046,
          39.61057258105764,
          36.706985717505695,
          38.86388703926542,
          34.83445033989322,
          35.248383473195126,
          23.926629214469465,
          44.86643562011963,
          35.916195683495914,
          31.954302950186385,
          40.908683928258625,
          30.902225629983803,
          29.824035393796258,
          48.258986857438344,
          28.44274795007917,
          34.93640638260653,
          33.84239214438597,
          46.5767623588656,
          37.65092792911139,
          37.73533031992829,
          40.40092549654824,
          39.228138199529326,
          32.217791723327686,
          41.207961217746984,
          36.320977353145594,
          33.68255380404269,
          35.20495486955245,
          42.87651425103135,
          42.903110112466514,
          36.05226867557011,
          38.03435403703601,
          32.52335207544961,
          34.51143546930019,
          32.39271250548581,
          36.456715551626864,
          49.94719100768134,
          38.292862773578236,
          46.215190191109016,
          34.125273304135575,
          35.157071723019754,
          42.911453756198895,
          44.6398107174261,
          30.43135651475782,
          41.48376250252895,
          40.61750337850332,
          38.546165422838925,
          38.52981996078952,
          31.114828798654266,
          29.72088590763707,
          35.254028853251334,
          48.95432275515803,
          38.10975231295296,
          34.985675043289596,
          45.924676552670974,
          36.44156126213823,
          38.69544008139962,
          26.56697165741162,
          38.06174936283039,
          38.31326283299348,
          32.77930385832777,
          41.12317853302754,
          32.46574188696634,
          38.71327788429673,
          48.3501375869495,
          46.27369737558131,
          50.816653937768,
          33.09401876188457,
          29.950928530837718,
          41.10123995792653,
          32.74551984938875,
          40.280064940268325,
          34.46783773196628,
          28.65927119189534,
          36.53570330689541,
          44.35514574176301,
          41.73271507059395,
          26.318774524993394,
          39.634833529741634,
          33.62425458199406,
          44.66977697924145,
          35.86017380829108,
          40.40384892897065,
          27.072728028985367,
          34.58795678258567,
          40.17717610292539,
          38.11953774547207,
          33.76370283764246,
          46.24203051487926,
          42.93377369359759,
          38.02472510019409,
          33.72555554354828,
          44.52443030025856,
          33.15004135455476,
          44.7977264429224,
          27.298360975526734,
          38.449432461120146,
          32.71779803578814,
          29.906739858263606,
          29.44965413527693,
          31.369555063309914,
          35.534278132556594,
          31.805475219581993,
          33.31511285312195,
          39.86962324730283,
          31.56262051793885,
          32.469960314941936,
          32.513339190941736,
          40.191336641029395,
          29.276439360372844,
          38.001755905869864,
          40.97646978639284,
          38.69446411144578,
          35.42954586915303,
          33.56458874666903,
          38.24555406876486,
          29.067930793572415,
          30.047201287360224,
          42.85495067922242,
          32.09548286105826,
          48.455726396769855,
          36.31911635263451,
          30.86769789006662,
          29.799620583019585,
          40.452434412651456,
          35.95866960668285,
          38.68368063278962,
          46.36659581476212,
          30.561403202676257,
          30.61664132363691,
          29.48670466665543,
          38.92409433158932,
          33.04637644409247,
          43.45959911661634,
          35.20395658743604,
          40.28277189304966,
          48.66096904847102,
          31.16384109662945,
          29.72542208375929,
          35.51154769652012,
          27.241118867907502,
          39.15313295637893,
          34.185236424841385,
          36.765379820527755,
          43.2516249283937,
          45.40074947980104,
          38.37359996007259,
          47.14727912567039,
          42.71377834605479,
          34.13003807091018,
          36.07083997391537,
          33.970870626198746,
          44.151306843273304,
          34.0281289325537,
          41.437901930667216,
          30.745139522758446,
          38.57707110190952,
          27.130248276759072,
          36.362853178635724,
          34.43791738041532,
          37.91365022297896,
          33.942174607493364,
          35.07560692749866,
          30.141242583542944,
          37.354911338002125,
          34.80331013064745,
          29.87696293817538,
          38.15454215403868,
          37.535026158930314,
          35.37603672367998,
          45.31017105018539,
          42.27450028419796,
          29.276398882115082,
          37.22474309597881,
          33.945478863485064,
          32.74391892884825,
          43.83141591259445,
          35.782137561633796,
          30.336047704148974,
          33.16531713415275,
          41.004224908350515,
          45.38374016811877,
          23.3800974698562,
          46.03230319367881,
          29.45894363320735,
          39.83161273747446,
          40.230050999976285,
          32.59444446632065,
          35.6072403134449,
          41.9358180990618,
          42.040898742340346,
          31.245964467737505,
          40.321020307658884,
          39.9073637342907,
          35.43567792838077,
          37.15564302400835,
          36.3006288401984,
          38.19752519119201,
          41.15466236577547,
          35.76153980029939,
          35.77235339148294,
          29.50588124515122,
          30.582320007904453,
          42.32223634751525,
          24.48061844964356,
          36.36760073132838,
          34.95535868960666,
          42.72566756216206,
          41.48371814494863,
          27.841379233175232,
          37.257597811520256,
          38.690030940519726,
          34.187746385103395,
          38.49080218370148,
          31.088021354836183,
          49.63832207401995,
          33.13138886311778,
          30.836914129792316,
          39.31493326666226,
          47.02756125774673,
          49.065442839923314,
          39.717375327068794,
          44.555840077964675,
          41.31690492780834,
          34.280058508213415,
          41.29606235287053,
          36.11071057670683,
          38.28501471665322,
          30.57365732456354,
          36.77266170416066,
          37.584910003975004,
          45.33186925602363,
          29.050709692894245,
          36.75204177057074,
          29.699578829602377,
          25.19046568440624,
          44.6557605278888,
          32.04379833526758,
          44.724787957720224,
          40.84795290174965,
          38.45617819126385,
          46.38021259807848,
          28.003493029883163,
          42.09851574238698,
          33.89769189107017,
          36.2703589849068,
          36.67093495325378,
          38.28690788810583,
          33.758381170749615,
          31.52614160714763,
          32.63959822740353,
          42.83499528587794,
          25.297562081951025,
          37.88503645894518,
          30.41264354045482,
          32.40555660334697,
          45.81547227012875,
          46.13364939253406,
          30.00377995417367,
          42.61330726414545,
          35.219334213824446,
          36.75635664091841,
          44.35452764708328,
          32.501480710252714,
          36.88902352533525,
          28.75220578437953,
          42.70680571087705,
          28.606743498814616,
          35.8709385450873,
          35.50249574857466,
          29.748329785480294,
          41.974218861844385,
          34.92414037314384,
          39.2702754926023,
          33.62586180596383,
          43.21823192857356,
          38.327157489734084,
          33.23515089884545,
          24.675041311434637,
          37.984668560612455,
          36.400656005287345,
          35.9352660159144,
          33.767658025302545,
          34.48718817502022,
          31.785603653576782,
          37.3843822344654,
          38.80214084251461,
          43.660150579639804,
          33.64098801747698,
          36.90216754765262,
          36.70444506476416,
          40.39541554325293,
          45.56361533666349,
          40.475741378639995,
          38.80443572672064,
          31.980620418397475,
          31.462380731477303,
          45.95116644855971,
          47.2229832167732,
          29.519799157989418,
          31.301437767391775,
          42.173157012453686,
          34.43679909081827,
          35.28789180953074,
          39.39220965445753,
          40.36464005520133,
          40.43464444706472,
          32.93739691876638,
          25.897125839184138,
          31.046955375289357,
          38.4089467770252,
          25.443950465785758,
          39.59772586110166,
          45.178572438634,
          39.79404610798983,
          37.67170918067506,
          29.604088923080653,
          35.970570862756915,
          36.852962377739985,
          31.922773425224406,
          35.74932119735226,
          36.524332768729,
          34.82291025056289,
          39.50747611488603,
          46.32570398401534,
          30.163303765679842,
          29.405215870362788,
          37.77631540421577,
          35.15080192983442,
          40.0789923918091,
          40.15268769049031,
          37.025515354084824,
          39.050076724071396,
          36.13969778474307,
          29.655959277002154,
          36.703810154739834,
          31.681661276154188,
          31.461575691935565,
          29.47257605168858,
          40.2500236730884,
          43.40434026628686,
          42.180857338177994,
          42.29539659980479,
          44.36678153060925,
          39.381859475691556,
          36.977002631536415,
          35.78875303086582,
          27.651857822836945,
          45.028508977598115,
          37.72269345404371,
          47.289629525586065,
          33.70385695403361,
          39.58881452691463,
          27.890954688403017,
          32.85790253741439,
          34.87719577964967,
          43.588927572307604,
          39.167367090526405,
          38.17060825731319,
          31.373199486286037,
          40.66174844191838,
          34.13548541634582,
          41.72419451403034,
          32.41430629928584,
          40.60971930331221,
          36.20527558422087,
          34.991016252721565,
          47.34341646312693,
          29.224060476341045,
          41.94197207183376,
          35.57544623868877,
          25.115153477684352,
          30.813091824547293,
          40.82741457826145,
          40.99232322358522,
          36.44161458147032,
          37.853675750834824,
          44.93463631210443,
          36.7817720185227,
          42.79357724521933,
          32.13497217743017,
          30.188914184176312,
          41.782937525834214,
          43.62014331333477,
          28.594498335423463,
          40.666258093839915,
          35.71552573591669,
          49.28220069549665,
          32.34984019923398,
          30.715952063518294,
          45.34125116934898,
          43.1803383934669,
          28.539020965734437,
          34.47188846217773,
          34.07843204885851,
          32.006345108969555,
          33.174534973009315,
          32.704197255750316,
          32.75838201984956,
          36.895670373078545,
          33.43932896186997,
          36.76157669738638,
          31.035570870009487,
          26.85215013865103,
          41.088331413128415,
          33.59140885747548,
          33.785154405579725,
          35.578029181100234,
          40.95732743288736,
          32.97470251768677,
          37.427818165030445,
          39.760602051393775,
          42.15839687451379,
          32.93093683560227,
          37.47918790985448,
          45.02184356674494,
          38.92271656077971,
          42.97160213112974,
          37.001414393260454,
          33.2080509318265,
          40.14729385938774,
          44.15302440102915,
          45.56593236889599,
          39.13185557486573,
          34.347739659091836,
          35.42265496714145,
          37.3297394752352,
          27.87736557535952,
          28.969893389212846,
          33.585998156960784,
          31.749776531151525,
          35.58401780125733,
          33.322847295388854,
          39.17638221339406,
          38.58111412431924,
          33.859795287131014,
          38.82508081966909,
          32.06984741017968,
          37.06490741975696,
          30.35359043881948,
          39.90083023882314,
          37.505028825591424,
          37.78375158507689,
          38.71248033139771,
          30.522733603975524,
          24.34336990836634,
          35.06397503386257,
          37.437913606668886,
          46.064102894579506,
          37.16792310732506,
          32.355942377664064,
          37.074351685745185,
          34.524476524992224,
          32.83604971327294,
          40.414603179080466,
          36.6264996797851,
          44.741325626030395,
          42.54386498700397,
          28.584765420778172,
          41.24210368083327,
          38.88318372432934,
          33.65119541029965,
          39.677721173121846,
          38.355278642270214,
          32.15895290298101,
          35.247015756522735,
          28.20865366207173,
          41.70619113173787,
          36.83221514056511,
          38.227273048046634,
          29.786288750857096,
          37.10848406314157,
          35.672715901842174,
          40.90042376356829,
          44.8602743260072,
          34.66094389539404,
          36.59079074716574,
          35.08723410312356,
          33.85252293578256,
          35.382209369154644,
          42.63417847155201,
          41.75542019182814,
          38.739051187799674,
          36.051258710479516,
          37.47181401505462,
          38.60156694255279,
          36.50107384689959,
          23.225389581434957,
          40.7521779755044,
          39.70735525477841,
          38.98437797248131,
          31.688173204221677,
          45.68656993278275,
          34.188179507381406,
          40.65844013915209,
          44.689214057832515,
          32.64629625712429,
          29.837133170879575,
          31.459388600934187,
          30.71066337803825,
          33.67913817700148,
          42.259017595532804,
          33.1888933759136,
          36.85298607405804,
          34.37727762751785,
          34.718478848104716,
          30.413621581196157,
          33.05574966421358,
          34.83287314607625,
          31.004886164529566,
          33.279968630603975,
          39.00422840589897,
          38.00754203478374,
          42.81693978166889,
          40.52526818339165,
          33.11468093228947,
          38.20409412302033,
          35.79247372774506,
          44.616980928623015,
          35.71939700234756,
          40.78980906477165,
          31.40872698681068,
          30.679975306087176,
          31.34596539780535,
          36.110613954432125,
          38.92269523324431,
          35.06832679910335,
          34.81813201871425,
          33.678422987788956,
          46.97254959445407,
          31.39339304752243,
          30.44300659542396,
          37.916842657356575,
          26.383461695055615,
          38.15725917370802,
          45.19516771800908,
          39.148577725807584,
          34.24662131806069,
          39.918947911512824,
          29.879974120665423,
          27.74918415359356,
          42.43053528851398,
          49.52291572296659,
          31.511154195218715,
          40.20284526347246,
          32.94603790500109,
          37.14324419608272,
          33.20052254976645,
          36.1449048318992,
          32.52419426278909,
          38.369485939297974,
          38.566454645750014,
          45.6488803717176,
          40.706335093014566,
          31.704705260133533,
          36.63388369003883,
          38.27481944915007,
          34.45680614585896,
          37.927900357479594,
          44.80870859274491,
          44.34928551166996,
          40.10954345016686,
          50.77186519167403,
          32.743235678501414,
          38.97577023166476,
          45.26904331556399,
          45.23752042929095,
          33.58750488795764,
          45.58274407046163,
          40.79411730838199,
          33.19126967560385,
          38.655378013059206,
          32.69077014931471,
          33.17174177556189,
          35.69498352698496,
          35.93540676203078,
          31.03743579558271,
          34.788533313698466,
          33.227032558517955,
          28.376506333509862,
          34.301646279301046,
          38.28599010444619,
          42.51000020454667,
          30.01300785916871,
          36.39389944475955,
          23.983903116716824,
          26.65953763647402,
          37.936532216575614,
          35.17441844244566,
          40.43018875649413,
          41.268954484648596,
          36.22354463084709,
          42.03964514232404,
          40.799042308327316,
          44.37963069789415,
          30.270611654170057,
          50.137677427514745,
          42.76328952196211,
          27.288971861843898,
          38.208588953458225,
          37.27120995662676,
          33.52814844559259,
          35.8568142119902,
          40.949237040106226,
          39.91175315936285,
          30.62780745108799,
          43.283865167632655,
          38.06702029150658,
          43.544022783871526,
          30.044328711799047,
          47.36693872671989,
          46.23264354777056,
          39.41291160878692,
          34.14125619358631,
          32.15994444208925,
          40.01355248433991,
          32.23714379399714,
          39.069821425678576,
          31.05897682775876,
          40.18637681436704,
          37.90541798462934,
          41.61563755426306,
          34.40666486991661,
          30.28499265496636,
          32.38709462885494,
          27.378567879842212,
          39.42978628377027,
          42.7157133540826,
          37.38750785430291,
          44.19075754652435,
          28.72013640001703,
          40.044283588404866,
          35.21337605982206,
          29.871635275405342,
          35.31814439613061,
          33.71035760303777,
          46.2087818465285,
          37.90762327196946,
          47.915197192301335,
          29.48818718044702,
          40.79317734724577,
          36.38223827629707,
          32.119932967280036,
          27.533042365371873,
          36.54452147801235,
          42.05150478636419,
          33.10345810427948,
          46.13927179982652,
          38.39826783842738,
          47.42808399325104,
          30.414549091045945,
          37.10358544008626,
          37.75539406452992,
          28.301976105024444,
          39.51897320810619,
          40.16956958432359,
          36.21962014741496,
          37.75266917271352,
          32.11056763715378,
          40.97332229512085,
          31.57040252319348,
          44.683554837222516,
          31.40950135561702,
          41.6327893291985,
          39.44447824233231,
          32.0450066450915,
          32.55624673349177,
          31.0501403038134,
          40.31207490012786,
          37.84534153919655,
          40.1338110113091,
          25.639196182368277,
          40.799896966263546,
          30.11630100092868,
          33.554360820998575,
          35.52587919649349,
          33.47539741360464,
          25.774808642982663,
          46.84155034376907,
          34.520131431308855,
          37.616776001818266,
          31.670599231462194,
          41.00613783626375,
          36.46420033990231,
          43.62674012868052,
          36.138624013499616,
          32.71276829185564,
          40.422446689646726,
          30.339096814105332,
          40.472768316589594,
          36.27396960891348,
          33.21049201857815,
          42.67130288566681,
          38.19169494882797,
          33.01958445652987,
          40.602592343114196,
          37.1558414346971,
          45.702047907682804,
          39.95459422475842,
          30.717160095970037,
          32.987756779468896,
          29.092365805751612,
          35.14401388672386,
          35.42537820963668,
          36.008851564845905,
          38.813841055127895,
          30.660513264441036,
          40.59598116762549,
          36.78381996360252,
          37.450927531009796,
          42.75321364072814,
          37.70036505299157,
          27.609383246803013,
          31.548555072443026,
          35.53062742044579,
          38.030267063397424,
          38.48106112455799,
          40.31995333149344,
          40.568184754371124,
          35.204360845652985,
          40.72478701371058,
          34.19958736752341,
          37.06679562634109,
          43.974259592068265,
          40.02502784845572,
          38.15759174700298,
          36.273077493722596,
          37.67352363391976,
          40.70100798536945,
          34.077972976542064,
          36.52330369795342,
          35.83656579920885,
          40.66240793857978,
          34.57605214705905,
          39.43738033649759,
          37.73232114654952,
          35.77161227714961,
          36.28990623597581,
          31.06558540929609,
          40.14657495798147,
          41.407929623904494,
          32.06397794487623,
          32.720815386569356,
          38.465670551877594,
          26.83480904041551,
          31.548517518307705,
          44.57725404197003,
          28.813422457514513,
          32.75391998656373,
          27.835445494378952,
          44.495355478172385,
          42.20911302354456,
          43.70562068647711,
          43.721404782230024,
          32.51626035798781,
          33.65722329394562,
          34.112872712507354,
          43.86396080465108,
          38.844727251610465,
          46.289956393356796,
          31.73169328762108,
          31.000069096627488,
          41.48984259363914,
          39.027330696507654,
          43.74809474184883,
          33.68910982833733,
          27.525837850045463,
          30.58939289040798,
          35.454437126882596,
          37.787790395453,
          40.63461545874789,
          36.51973003030831,
          36.4828893200715,
          43.32555098242103,
          38.12894900243036,
          42.95028019764752,
          43.00114879188003,
          39.49108417572998,
          34.27440623210037,
          29.00278055389811,
          40.205434369138274,
          39.834478013411044,
          38.501028575256605,
          36.37366927528389,
          29.966910168931427,
          30.925802876052433,
          38.74551926299908,
          45.85725625935203,
          36.43609369661925,
          31.067493524566345,
          35.29332355141195,
          37.58104194612269,
          34.615320658456284,
          39.16209936863383,
          37.30326088094503,
          42.39259334259386,
          36.16448573552862,
          32.28225512426223,
          34.609090510806396,
          34.86570338364654,
          40.77446552373487,
          40.62994822746403,
          32.28547392960355,
          24.61234143110007,
          41.72133965580006,
          42.34033507815294,
          28.750019870689155,
          29.292107570632105,
          45.029965123146795,
          31.633254027047364,
          30.03724884764245,
          43.84578549584874,
          41.139360833478484,
          35.744532389533894,
          38.57788796821592,
          34.17454471334707,
          42.537727227615655,
          31.978281456355234,
          30.334274423171763,
          31.589494961156444,
          34.85174722182629,
          49.705367895347536,
          34.426733888448034,
          44.79774129464368,
          40.549458456279645,
          31.36312491733389,
          43.7219635665082,
          33.42181953154071,
          33.26590959998375,
          29.25898944795484,
          40.14032096675646,
          50.50266572369085,
          40.18149084771836,
          35.978711527072676,
          43.318107944429,
          43.605047211093435,
          38.72711920948595,
          35.19612147729524,
          41.55485498930516,
          43.429042980490465,
          34.037007956060265,
          29.701613787008828,
          37.38268653613529,
          26.550293407853584,
          35.3085733532037,
          40.34601173398398,
          32.52869165931233,
          30.334471457470556,
          45.72376795368243,
          30.884329636780798,
          36.1318406732476,
          38.14007745159615,
          39.81963024358728,
          37.09658422631671,
          38.58710301126213,
          44.58796005264385,
          35.58942188139949,
          40.326729552297635,
          41.31755168309488,
          49.211615315681186,
          37.613936455130236,
          38.140657247630365,
          24.13418138698137,
          34.40641594777974,
          34.718597041829746,
          44.589750626413576,
          36.42807628715051,
          29.441372154347587,
          35.88560326086977,
          41.0429454026137,
          46.72410272915088,
          38.10399048045096,
          26.88566855034882,
          25.859108908486967,
          33.984190179086326,
          36.26081526250836,
          32.253362246180394,
          41.95742506188024,
          36.08110008875019,
          38.42161909582026,
          37.19325502718911,
          39.203951560531046,
          32.27490385637958,
          44.36296183723113,
          27.768450602473592,
          39.21607815139144,
          32.473817450818906,
          32.456146361668914,
          30.57742667904684,
          44.22849766828286,
          42.504308238620816,
          37.010938399316764,
          34.904356564797546,
          36.28698783616751,
          27.586954641060395,
          32.381263553668774,
          32.03666530171597,
          38.162924830852205,
          38.9516121674246,
          30.522762899651553,
          39.01624570676257,
          30.629209506334476,
          39.893292022135654,
          27.4154334430855,
          32.4925616447545,
          46.073897834196515,
          43.66147230324921,
          40.33387893199411,
          37.04480230835198,
          31.206123798865647,
          30.315963523302912,
          40.04797667904906,
          27.848080817872827,
          45.077438739429134,
          35.38177530561219,
          46.5223251131733,
          30.57198815779884,
          40.601279266544715,
          28.877849746552084,
          38.12252670290631,
          35.38712916272062,
          44.39480200441518,
          33.776573596864345,
          39.29493235388841,
          45.587624645235906,
          44.29048736491671,
          38.002706587677146,
          28.362922426795045,
          39.38783269978859,
          34.587247651032655,
          33.271465403845006,
          38.66730655459789,
          36.69641628256227,
          31.89894941623694,
          35.012217656590785,
          33.42062434878961,
          37.46534630313985,
          39.17184185891844,
          39.107654374586986,
          35.616620538764025,
          36.552561674019884,
          39.46998288430507,
          33.70389392971878,
          36.10324607869274,
          40.85021086926355,
          35.58281715716623,
          40.902924455316096,
          28.491291241202738,
          40.435780189732434,
          37.77944868259706,
          38.565459941451664,
          38.80960461643897,
          38.173035922115915,
          40.12311951181686,
          30.10819472053298,
          34.37123985792802,
          44.05790454139785,
          33.27713171225636,
          36.73547763797896,
          33.24851643816177,
          46.23813092737644,
          36.91498555308907,
          38.537192562076,
          36.77377539667324,
          33.041575272302566,
          37.76666149474176,
          40.49437838613449,
          36.63964863852122,
          39.68601535150048,
          41.304575245829206,
          38.95952476742004,
          27.932205345163986,
          32.818006951682456,
          26.02668817189252,
          31.34778507977996,
          35.45814956773309,
          27.271895553247337,
          41.09684835815434,
          35.39945898678782,
          32.519369174509,
          44.3239701379549,
          33.93325271858264,
          36.95902293292464,
          30.272610273907546,
          32.34495814173263,
          35.72900263242748,
          35.258171458655404,
          35.94345801684349,
          32.328535620077865,
          36.67198273684419,
          43.59434452091605,
          44.44216307115418,
          41.72839268814944,
          36.68114008483943,
          34.618634822064635,
          27.65111516480791,
          25.10899315869794,
          32.75394073581204,
          38.21386167433556,
          38.5602859941425,
          35.97220907907634,
          33.095862722644654,
          29.211842347688894,
          24.440987837238193,
          30.90533034334619,
          35.05303671528657,
          42.36613409557477,
          33.04204273574946,
          41.13623936244797,
          45.53601351957606,
          28.39725168408535,
          29.885679409929885,
          45.015523438543326,
          44.15108196789493,
          27.801314635792806,
          44.35901506095494,
          35.968536127757574,
          29.28429202132688,
          34.18092182473414,
          28.09527181256987,
          33.786715674353495,
          42.026245118451264,
          39.92120534944202,
          39.310910188594846,
          39.314107653721635,
          30.533648395548127,
          37.60984750376103,
          40.969721620456085,
          29.354157045898905,
          42.677862025566824,
          31.77842546761216,
          37.182699785599915,
          25.03939136956968,
          33.49591229420647,
          35.33686049604968,
          39.04921500788117,
          33.344434806394574,
          32.26038500513685,
          28.02238742309531,
          33.12214773825009,
          41.155890310303526,
          41.284564033024665,
          43.66823641241167,
          42.48108659032069,
          47.3648636479171,
          34.37007937826368,
          27.528849462811102,
          37.906193298759746,
          33.236938743124064,
          24.421106943596232,
          39.49660514770083,
          40.75658147145622,
          30.995506086192822,
          36.369051454075695,
          42.48442721635659,
          34.69681958506559,
          37.25772447772483,
          39.10939897829912,
          39.41370164983317,
          35.821566928200156,
          41.040145359772175,
          31.14345476299229,
          34.80397846729,
          30.951699107519527,
          38.58260131099984,
          33.89109581065916,
          36.55084656895597,
          42.45084867835296,
          46.76070444427256,
          32.21566081088264,
          40.82133595235846,
          40.2659068594084,
          35.281543554682834,
          36.63517194640663,
          42.13486901252235,
          39.28279650174482,
          31.06488119736701,
          49.38569929081638,
          30.400215373966205,
          32.63714914110987,
          42.142537114494225,
          29.365362859782504,
          37.440066035730155,
          40.95377658784427,
          44.81635402809357,
          31.735158735454085,
          33.191566926161066,
          32.53541103412765,
          36.20945111680737,
          27.99339590915367,
          28.283225918221554,
          40.42645184697481,
          38.052249590431934,
          42.424332796959604,
          36.05321929806943,
          29.615803324472736,
          32.04431469139713,
          35.18337738754038,
          38.23095396289024,
          25.490403680168882,
          27.09258406570877,
          38.52145222451415,
          39.40598567221617,
          35.435073338695894,
          28.439164070810477,
          34.965996997708054,
          36.517293821737944,
          33.960962404474415,
          31.206342236696624,
          45.81522431568141,
          31.33332393832874,
          36.60164124764665,
          40.0266763002383,
          30.90374801755482,
          42.79709002528326,
          31.840049904312945,
          39.369607271271995,
          44.49554680329552,
          35.94314750038819,
          27.583487067698517,
          28.144021160912438,
          34.64178702673235,
          44.332651319433275,
          41.38882938955943,
          36.16849980181217,
          32.24752464403049,
          40.15496483459542,
          35.53710376344712,
          32.28055087305225,
          32.226719629791724,
          35.09808708669237,
          37.5741289298423,
          42.38849464381691,
          41.76245892840652,
          38.65571348108699,
          40.76375208618552,
          37.0549792183287,
          34.70278891794612,
          30.105533956462967,
          37.942523057745625,
          31.914004305980313,
          36.21604711220801,
          43.48607045141071,
          38.63075924568995,
          42.883476705904584,
          38.21733733219234,
          35.71212689591434,
          33.936948177135605,
          38.009033661150276,
          35.38393907378649,
          34.14947328809937,
          39.061541663324434,
          33.0763289125581,
          47.188523912365575,
          41.72440380687158,
          29.40177231338307,
          30.057799705352487,
          37.008022589896534,
          35.796553267512046,
          41.12371605202887,
          28.753840733168513,
          38.359562805313494,
          29.293471050821474,
          34.52322648106181,
          42.183045561884676,
          47.0313387336707,
          34.75756792047578,
          27.834335550020857,
          32.69536323505527,
          43.11456698545876,
          30.621448701823738,
          38.38637315695823,
          40.4058594826058,
          34.25688439452134,
          38.67332746184764,
          34.76287630810248,
          32.75614280237999,
          34.31782091732402,
          32.74445326774581,
          30.768376222887177,
          38.610251907822324,
          26.149898837426484,
          30.365976873995884,
          37.222238584860506,
          31.403727839495886,
          36.96141595846991,
          36.00518898286758,
          37.98736855738769,
          48.07917264492205,
          33.197170418393696,
          43.62214149419332,
          40.37879559799182,
          36.211362015448394,
          32.06813037375713,
          36.037033117165834,
          45.2340837104208,
          37.538028271757796,
          35.03398377654609,
          40.671145591759874,
          40.794108749939134,
          43.24351651023588,
          45.63652944020885,
          36.210219885396825,
          38.06354215252755,
          41.329428721438575,
          28.54345500243644,
          43.73028124722229,
          32.242824923973544,
          38.42024261386258,
          39.09532135361621,
          45.271997754031894,
          30.686152932107177,
          37.116911665607766,
          35.262335196998656,
          40.252151506457,
          35.22036607675966,
          38.89922928863905,
          35.31254829514776,
          37.801781642198115,
          39.59435788198951,
          24.422212819396723,
          44.08419973280768,
          40.54856902596796,
          37.75432318264959,
          34.41512766545668,
          37.112150372878446,
          34.26976234557944,
          35.028468912639084,
          34.27702272486271,
          42.53231459916434,
          49.625393704913805,
          26.599922050180584,
          44.96315640028268,
          40.022316292011425,
          37.00484183184586,
          30.595079177098548,
          34.21278384744671,
          33.96279263545271,
          41.3715881028803,
          34.9795968525988,
          40.291808732748294,
          29.911191693746122,
          36.36955367803941,
          40.19754144598124,
          43.64716252275497,
          40.9098060738729,
          35.49751823010622,
          36.71114282813715,
          44.56317414986056,
          25.937917829499977,
          39.512414440747676,
          24.605751959258182,
          40.457887446248414,
          33.32022520591126,
          32.89984785995933,
          40.11606863206882,
          39.98259763488107,
          35.07795964519128,
          40.84555476206134,
          31.484864726120616,
          37.45771920322495,
          33.52068780855147,
          36.457836956075575,
          30.981056087774608,
          41.94755549422702,
          34.76443068850378,
          30.834998041286024,
          44.57953262592752,
          31.642677049277125,
          40.871230081589104,
          37.06956483549066,
          42.48844691251046,
          40.31955486786399,
          34.136695863408576,
          36.34395275143894,
          32.80779476447444,
          36.27559560518393,
          31.80895056367169,
          31.327987897991754,
          46.29865393802735,
          37.46770980276458,
          34.54422828349183,
          37.45291470996871,
          35.36992724859439,
          32.66210903517868,
          37.18737712309959,
          32.245126946097244,
          39.65503433629832,
          43.35092401111907,
          31.998435211902635,
          28.725795016476674,
          34.22722355039863,
          33.877223202244025,
          37.312202205429806,
          34.11223451285217,
          33.06025631420976,
          42.55118112670856,
          36.349928380538834,
          26.448173481122772,
          29.284632649708097,
          29.82146832292401,
          41.60496566436492,
          41.331357104560695,
          29.525616917888037,
          30.90580039850266,
          40.46920434899211,
          46.74293139229693,
          29.445030246430303,
          33.2482320012621,
          33.92144181287635,
          38.29293681839137,
          42.5765751110377,
          36.89044928397061,
          40.305532377034645,
          32.05370214283908,
          42.29408006386877,
          36.848312130918714,
          41.368226170426944,
          50.46160765775833,
          37.329309291020614,
          38.01240611836839,
          41.59492425428541,
          36.00551619850878,
          40.71382534027447,
          38.299026534853574,
          34.1024065838606,
          28.99933147067825,
          45.34088120726224,
          42.093061709490975,
          40.498161489765295,
          44.1992756255704,
          36.39600112542798,
          31.415889682471676,
          32.381249093036,
          33.59195932969283,
          40.79995622184044,
          36.116754010286186,
          33.75412512612694,
          42.48851157275839,
          37.36436995456144,
          44.163834866709486,
          33.52677457914107,
          38.17378561259429,
          33.06651966385665,
          35.40916443789853,
          40.395805577928336,
          39.250809593884185,
          33.66090940154495,
          34.01455703949023,
          41.80922068304522,
          34.71348137251609,
          36.807484503887615,
          34.12788107529187,
          37.95529615249157,
          41.61713001553006,
          50.13589435721382,
          45.449483965904825,
          30.873778070950205,
          43.682179810709414,
          36.4913529412429,
          40.89083371563505,
          36.484904337937884,
          33.19974099602368,
          37.26129752939767,
          39.62726845328716,
          38.58568695347391,
          35.87575605086993,
          32.44587528804334,
          31.921315122283254,
          33.612258731752235,
          33.24905059990045,
          47.273325038468585,
          35.538311893136715,
          34.612476940765205,
          40.696870792915746,
          40.591075925385084,
          32.69976200623688,
          30.540383746444373,
          36.10909575598013,
          30.394137285498118,
          32.93001531330648,
          44.058449519802565,
          40.592792117381855,
          28.002834885175226,
          33.628103215563456,
          42.544465278441905,
          37.71065060851272,
          41.452128205836054,
          30.895013564004334,
          33.34606342152139,
          48.728156109546156,
          34.4369778478996,
          32.79473931273773,
          40.88106289472408,
          33.95215405155899,
          38.57105830238956,
          39.29690102538665,
          39.78269836427616,
          47.12600139644785,
          34.81407944064063,
          25.400392159673263,
          35.985657167223856,
          40.53645378970883,
          38.99475939365071,
          29.28692184443923,
          41.153356815652565,
          37.667415768322286,
          36.961174942515875,
          55.36193058243068,
          42.18479708557619,
          27.518360993823613,
          41.05488626869796,
          35.626300173063804,
          27.333545291180982,
          39.9550812871258,
          29.949158483656493,
          34.737103541841435,
          36.80062558790914,
          45.78180885985875,
          35.160517269592646,
          45.41995614671226,
          24.672846768216395,
          34.500770263891475,
          33.255990291496964,
          46.788141432401225,
          34.24191895367008,
          51.030303534109166,
          44.56758071044159,
          43.07553841729373,
          40.78421503645194,
          37.11326165820174,
          44.95283926451389,
          36.843230448409706,
          33.80902254849471,
          40.936446155272755,
          37.195682283405816,
          26.91404466251153,
          34.589917299460154,
          37.864786927721994,
          37.94908222419665,
          37.17490909723985,
          36.70879750467408,
          42.76755806715873,
          49.51893830959559,
          38.63436606896243,
          30.440830091877846,
          42.495975396330756,
          39.84543189027098,
          35.19668471986748,
          34.955763883341575,
          34.64309103072768,
          37.99379194530465,
          33.26183602549796,
          38.053106676057624,
          36.66945629423121,
          42.92059017988534,
          42.48800854655642,
          32.414747566968195,
          39.77201466230424,
          42.57320115603546,
          36.6803755447412,
          33.678558094769514,
          35.84222310505435,
          43.441304164506924,
          47.53379318445681,
          36.30809582638387,
          35.517512562045965,
          32.40351616813489,
          38.3610322292152,
          46.637940302487266,
          33.25438089177873,
          41.39215232262769,
          34.81728329859181,
          34.36745993241381,
          47.907515501147614,
          40.02703797951483,
          41.572722132389394,
          36.1912019399268,
          34.756100219422166,
          40.171532451913045,
          37.43757460337613,
          37.11450098542945,
          44.97238994234753,
          37.20741481671734,
          43.13167592753493,
          40.40348614757929,
          28.936943301888647,
          39.38179709749593,
          35.241306759216656,
          38.5012011320346,
          29.030172993939587,
          43.79528830437759,
          35.157231822861505,
          40.769657359377284,
          35.63010717765633,
          29.85549695711909,
          32.31135668522434,
          32.765476968924226,
          40.15376635550471,
          42.83209815862829,
          34.49503661889636,
          41.20417015708465,
          41.93232219386483,
          35.77135736890827,
          34.80387828863351,
          36.27703322071733,
          39.80108998670801,
          34.62558366446316,
          45.654117782590156,
          35.97052940838903,
          31.484071010638477,
          26.226615416677745,
          43.04589976520097,
          36.235120726524514,
          38.5834643463412,
          42.02821407196581,
          41.35699728528449,
          43.4404570334322,
          33.59831598024395,
          39.863527745233036,
          34.34707473663965,
          37.09024045498473,
          36.865339217137574,
          39.51218801959119,
          37.71406394452762,
          36.22074916242285,
          37.44713780603285,
          33.241056650070725,
          39.543941869407966,
          44.46981701675349,
          34.103294305623194,
          46.467273391432535,
          37.07135217451357,
          35.35001114848095,
          42.67180941755204,
          35.1935501497014,
          40.569359621640366,
          35.7706670199935,
          40.574089936768516,
          33.457962392070584,
          39.58544478797008,
          27.19909380057769,
          34.51262682929673,
          40.56666857813144,
          40.89254588429974,
          47.30646378197511,
          43.91996773903673,
          34.120414568156505,
          38.77449314467966,
          41.35065025943381,
          37.12158834323551,
          35.518470753879555,
          29.260135638733253,
          27.248367794609457,
          39.37055022396963,
          30.917599630111685,
          28.551076147536634,
          36.55117783313459,
          30.524136157533075,
          36.95444757020344,
          34.314763292969495,
          33.319646936469475,
          38.583969534229624,
          45.89500703207378,
          38.984099242151466,
          42.333263510837156,
          46.192751651139844,
          39.736132152676284,
          41.17275164674871,
          36.47796460399132,
          44.079223705832234,
          29.145300091260488,
          34.58117085852686,
          34.88324890133779,
          32.36628548635785,
          48.944183360506614,
          40.68097982259001,
          33.02650290562004,
          24.68966634038958,
          40.310742782748946,
          30.767946088892455,
          42.36228695261247,
          37.990903610176574,
          37.13230036469137,
          41.94193916849566,
          48.64249932934496,
          43.4778004050318,
          34.34572377028478,
          43.194126077636795,
          40.478276777920534,
          39.42154607931299,
          29.922324054461786,
          32.8410272052366,
          32.554109096558,
          36.645366460788466,
          42.29370210965006,
          35.05696035061123,
          33.723811979677016,
          33.49562040389208,
          41.43564074467126,
          37.50718531642267,
          49.17277120654506,
          34.82782595858112,
          34.55321209718147,
          33.84599370674268,
          29.93699538733822,
          31.87124393607792,
          29.731735082936297,
          35.45661275179329,
          41.69807469907959,
          44.0662617004871,
          34.68001368896665,
          42.08765024441602,
          34.14124896998535,
          32.728050148351805,
          35.702721557564864,
          34.517687876038345,
          28.47525934392691,
          39.31170362597414,
          30.543231603474652,
          35.25069101197504,
          34.20409207658187,
          36.154422608453174,
          46.117004548727564,
          35.231567399905394,
          34.366050095685814,
          32.37117861364006,
          41.1467507476497,
          37.07549446817943,
          44.58347555507652,
          46.59411589863415,
          41.50978292068084,
          43.34724547991874,
          30.837557241938647,
          31.345414533306368,
          44.486534379491076,
          36.374805637758406,
          34.668348514167306,
          35.25215109728831,
          39.01652343275161,
          42.62889074140854,
          39.30671119447646,
          29.297342216290524,
          34.654133892005575,
          40.622636620647654,
          30.480480348661068,
          42.37445023183644,
          30.3493322616211,
          32.350996010184055,
          32.74338757351791,
          31.816546391779017,
          46.037330220813956,
          28.778325316283944,
          35.191511808955376,
          38.0888528018022,
          36.59011198426706,
          42.711585952197126,
          49.121610510368235,
          34.00593619082327,
          45.50947707464662,
          29.243764646097315,
          34.859207881721055,
          46.072211500670456,
          45.207125311325306,
          35.120936213046164,
          37.65173666264722,
          36.37364220454699,
          37.30378891255221,
          35.195015709777785,
          30.71465015509388,
          33.47444537885593,
          38.47795708262977,
          46.64912624018654,
          35.51915291314536,
          35.505811158450065,
          37.953046688597176,
          30.170877514799827,
          34.324810186564406,
          43.77692648855319,
          35.809087427747315,
          37.04458619090942,
          40.75334268943356,
          37.57806949830076,
          38.218984068932045,
          46.716026479273985,
          45.342599326346715,
          33.71691903684616,
          37.15760678769253,
          41.15528222713464,
          35.50756679811192,
          44.453698184055725,
          32.18039746100023,
          36.38120343793363,
          39.06761987237166,
          43.492226198896084,
          41.65015833276552,
          33.35670158737822,
          38.339814745215584,
          41.82368885401074,
          33.76759944620909,
          36.939857238167264,
          31.1458614834282,
          43.24452637636021,
          34.51511493530514,
          29.435218056626766,
          42.745254051539455,
          36.2356381083992,
          35.627148441257454,
          41.23048199523796,
          44.72677779076115,
          33.999325895476105,
          31.925331555780087,
          39.65864656740174,
          30.94987382017811,
          40.14880993702924,
          30.507377550266327,
          35.27587560515844,
          32.9341362023218,
          37.320257268660775,
          39.82413421673408,
          35.72104947574945,
          36.55666462318455,
          35.99111020714952,
          26.08196483487237,
          38.47142933376991,
          37.650694709237165,
          30.762361977848677,
          34.21302289081407,
          39.518558108735334,
          34.38614434413756,
          40.26775932689261,
          32.40754054915943,
          35.677072571885176,
          42.08704211339615,
          33.36598708248188,
          29.897648380386464,
          42.07714902232297,
          38.84575065294134,
          32.26934953846291,
          41.91728883146087,
          24.039886065376947,
          35.61463517711759,
          33.59048141451533,
          29.601153462403758,
          41.762771346941264,
          35.71391128711618,
          44.35609647573561,
          33.77547940942913,
          28.949751206896256,
          43.75633556449235,
          35.045856789961235,
          27.52324227441025,
          35.10325530401184,
          38.23901314455333,
          34.105953456633415,
          32.53174356320996,
          37.92091225671221,
          44.96641895472522,
          33.33676505262478,
          39.81158195704125,
          36.901868004285674,
          38.788683952580726,
          35.70723805850538,
          41.255927220993,
          39.93429223067679,
          32.44371138018356,
          38.77865359069878,
          46.73313485359252,
          35.85711456722592,
          38.21510798840283,
          38.87687447945589,
          37.14537331412853,
          39.37809417809912,
          28.5840017028535,
          40.11746056186736,
          29.856934067633567,
          26.642471360232953,
          35.89176118329055,
          35.55930461049018,
          32.55954341648916,
          43.2251257581166,
          34.226308403060195,
          36.991963125928656,
          36.086245245810986,
          44.94900410210109,
          46.519572742792334,
          40.601263620866426,
          29.303883834478892,
          31.53615092447485,
          47.4119879573875,
          38.4589123560375,
          33.90635204548968,
          26.287379113700645,
          37.81785879417521,
          37.54021501860353,
          42.50698924708472,
          30.346637500779764,
          40.56848714232979,
          36.3354522371109,
          29.78543670775689,
          27.756632260148685,
          34.08483421188797,
          32.95193700927518,
          39.93445718966849,
          36.1754147751064,
          40.592789941047144,
          33.88635723946003,
          45.649497867101275,
          37.187487265079135,
          28.60917796187931,
          31.640307432901515,
          35.309019259786595,
          47.95378946120442,
          36.51296577104036,
          35.65421165303042,
          40.59701146712868,
          35.051889740927855,
          30.302981775133535,
          40.291650940452115,
          38.06292151162496,
          27.953002242066802,
          35.260289561941164,
          44.00123131503745,
          45.76860070147453,
          33.42835272404741,
          31.905240906164327,
          30.572423276940565,
          40.959100449621076,
          34.853420969936394,
          33.35500583395971,
          42.09414239811415,
          38.00598485759737,
          19.25671006627525,
          40.760926941944255,
          34.86786080278628,
          40.86570628233004,
          21.738494370862806,
          39.54168465374089,
          28.33969340076105,
          28.36632543718973,
          41.26556693410622,
          34.9500167723166,
          25.815617209061823,
          46.27343285497409,
          44.38447789219119,
          31.31744209852923,
          36.23859233613195,
          41.012739964826864,
          30.812017914378373,
          46.734242411254215,
          39.70729212712687,
          28.56520506550814,
          43.77953713307459,
          34.883388923583546,
          38.17795673483851,
          31.25593173295752,
          38.36575609285742,
          31.211044709206014,
          31.88764825760427,
          34.64041107957553,
          50.073039781187816,
          34.524192451356356,
          40.75260797821962,
          36.56395405417285,
          36.447712120654955,
          31.001098531206626,
          31.161687847939724,
          46.68834861119848,
          30.969248810731678,
          34.40816557337904,
          38.02665367545896,
          39.779914520145574,
          31.648329980593765,
          45.16648947534097,
          38.69074542820355,
          39.637967328000016,
          26.465444308101283,
          34.35878042662681,
          42.3942050533898,
          37.69044391844419,
          34.86511485452421,
          44.3581084948766,
          40.0420466321063,
          34.543144707759325,
          38.701945065765756,
          32.08483226718134,
          40.14211884463359,
          36.01672372594408,
          36.42996832837424,
          37.458471622669066,
          41.05372183307051,
          39.90401678569904,
          45.79197102951069,
          40.14032667118508,
          41.025502378892504,
          41.061310935445604,
          34.526482085104476,
          31.962665550631257,
          40.60011111613435,
          31.028863617486962,
          38.24662905555653,
          38.06904702297612,
          28.908354916042107,
          38.55624917166816,
          35.42561714473778,
          32.096107219591886,
          35.16547536890949,
          30.95524739075633,
          48.732609150044425,
          32.80442416380933,
          26.323534573514177,
          42.60158566740577,
          39.881560058257776,
          40.59487882491567,
          38.49983252057398,
          33.562716005359135
         ],
         "xbins": {
          "end": 55,
          "size": 5,
          "start": 20
         }
        }
       ],
       "layout": {
        "template": {
         "data": {
          "bar": [
           {
            "error_x": {
             "color": "#2a3f5f"
            },
            "error_y": {
             "color": "#2a3f5f"
            },
            "marker": {
             "line": {
              "color": "#E5ECF6",
              "width": 0.5
             }
            },
            "type": "bar"
           }
          ],
          "barpolar": [
           {
            "marker": {
             "line": {
              "color": "#E5ECF6",
              "width": 0.5
             }
            },
            "type": "barpolar"
           }
          ],
          "carpet": [
           {
            "aaxis": {
             "endlinecolor": "#2a3f5f",
             "gridcolor": "white",
             "linecolor": "white",
             "minorgridcolor": "white",
             "startlinecolor": "#2a3f5f"
            },
            "baxis": {
             "endlinecolor": "#2a3f5f",
             "gridcolor": "white",
             "linecolor": "white",
             "minorgridcolor": "white",
             "startlinecolor": "#2a3f5f"
            },
            "type": "carpet"
           }
          ],
          "choropleth": [
           {
            "colorbar": {
             "outlinewidth": 0,
             "ticks": ""
            },
            "type": "choropleth"
           }
          ],
          "contour": [
           {
            "colorbar": {
             "outlinewidth": 0,
             "ticks": ""
            },
            "colorscale": [
             [
              0,
              "#0d0887"
             ],
             [
              0.1111111111111111,
              "#46039f"
             ],
             [
              0.2222222222222222,
              "#7201a8"
             ],
             [
              0.3333333333333333,
              "#9c179e"
             ],
             [
              0.4444444444444444,
              "#bd3786"
             ],
             [
              0.5555555555555556,
              "#d8576b"
             ],
             [
              0.6666666666666666,
              "#ed7953"
             ],
             [
              0.7777777777777778,
              "#fb9f3a"
             ],
             [
              0.8888888888888888,
              "#fdca26"
             ],
             [
              1,
              "#f0f921"
             ]
            ],
            "type": "contour"
           }
          ],
          "contourcarpet": [
           {
            "colorbar": {
             "outlinewidth": 0,
             "ticks": ""
            },
            "type": "contourcarpet"
           }
          ],
          "heatmap": [
           {
            "colorbar": {
             "outlinewidth": 0,
             "ticks": ""
            },
            "colorscale": [
             [
              0,
              "#0d0887"
             ],
             [
              0.1111111111111111,
              "#46039f"
             ],
             [
              0.2222222222222222,
              "#7201a8"
             ],
             [
              0.3333333333333333,
              "#9c179e"
             ],
             [
              0.4444444444444444,
              "#bd3786"
             ],
             [
              0.5555555555555556,
              "#d8576b"
             ],
             [
              0.6666666666666666,
              "#ed7953"
             ],
             [
              0.7777777777777778,
              "#fb9f3a"
             ],
             [
              0.8888888888888888,
              "#fdca26"
             ],
             [
              1,
              "#f0f921"
             ]
            ],
            "type": "heatmap"
           }
          ],
          "heatmapgl": [
           {
            "colorbar": {
             "outlinewidth": 0,
             "ticks": ""
            },
            "colorscale": [
             [
              0,
              "#0d0887"
             ],
             [
              0.1111111111111111,
              "#46039f"
             ],
             [
              0.2222222222222222,
              "#7201a8"
             ],
             [
              0.3333333333333333,
              "#9c179e"
             ],
             [
              0.4444444444444444,
              "#bd3786"
             ],
             [
              0.5555555555555556,
              "#d8576b"
             ],
             [
              0.6666666666666666,
              "#ed7953"
             ],
             [
              0.7777777777777778,
              "#fb9f3a"
             ],
             [
              0.8888888888888888,
              "#fdca26"
             ],
             [
              1,
              "#f0f921"
             ]
            ],
            "type": "heatmapgl"
           }
          ],
          "histogram": [
           {
            "marker": {
             "colorbar": {
              "outlinewidth": 0,
              "ticks": ""
             }
            },
            "type": "histogram"
           }
          ],
          "histogram2d": [
           {
            "colorbar": {
             "outlinewidth": 0,
             "ticks": ""
            },
            "colorscale": [
             [
              0,
              "#0d0887"
             ],
             [
              0.1111111111111111,
              "#46039f"
             ],
             [
              0.2222222222222222,
              "#7201a8"
             ],
             [
              0.3333333333333333,
              "#9c179e"
             ],
             [
              0.4444444444444444,
              "#bd3786"
             ],
             [
              0.5555555555555556,
              "#d8576b"
             ],
             [
              0.6666666666666666,
              "#ed7953"
             ],
             [
              0.7777777777777778,
              "#fb9f3a"
             ],
             [
              0.8888888888888888,
              "#fdca26"
             ],
             [
              1,
              "#f0f921"
             ]
            ],
            "type": "histogram2d"
           }
          ],
          "histogram2dcontour": [
           {
            "colorbar": {
             "outlinewidth": 0,
             "ticks": ""
            },
            "colorscale": [
             [
              0,
              "#0d0887"
             ],
             [
              0.1111111111111111,
              "#46039f"
             ],
             [
              0.2222222222222222,
              "#7201a8"
             ],
             [
              0.3333333333333333,
              "#9c179e"
             ],
             [
              0.4444444444444444,
              "#bd3786"
             ],
             [
              0.5555555555555556,
              "#d8576b"
             ],
             [
              0.6666666666666666,
              "#ed7953"
             ],
             [
              0.7777777777777778,
              "#fb9f3a"
             ],
             [
              0.8888888888888888,
              "#fdca26"
             ],
             [
              1,
              "#f0f921"
             ]
            ],
            "type": "histogram2dcontour"
           }
          ],
          "mesh3d": [
           {
            "colorbar": {
             "outlinewidth": 0,
             "ticks": ""
            },
            "type": "mesh3d"
           }
          ],
          "parcoords": [
           {
            "line": {
             "colorbar": {
              "outlinewidth": 0,
              "ticks": ""
             }
            },
            "type": "parcoords"
           }
          ],
          "pie": [
           {
            "automargin": true,
            "type": "pie"
           }
          ],
          "scatter": [
           {
            "marker": {
             "colorbar": {
              "outlinewidth": 0,
              "ticks": ""
             }
            },
            "type": "scatter"
           }
          ],
          "scatter3d": [
           {
            "line": {
             "colorbar": {
              "outlinewidth": 0,
              "ticks": ""
             }
            },
            "marker": {
             "colorbar": {
              "outlinewidth": 0,
              "ticks": ""
             }
            },
            "type": "scatter3d"
           }
          ],
          "scattercarpet": [
           {
            "marker": {
             "colorbar": {
              "outlinewidth": 0,
              "ticks": ""
             }
            },
            "type": "scattercarpet"
           }
          ],
          "scattergeo": [
           {
            "marker": {
             "colorbar": {
              "outlinewidth": 0,
              "ticks": ""
             }
            },
            "type": "scattergeo"
           }
          ],
          "scattergl": [
           {
            "marker": {
             "colorbar": {
              "outlinewidth": 0,
              "ticks": ""
             }
            },
            "type": "scattergl"
           }
          ],
          "scattermapbox": [
           {
            "marker": {
             "colorbar": {
              "outlinewidth": 0,
              "ticks": ""
             }
            },
            "type": "scattermapbox"
           }
          ],
          "scatterpolar": [
           {
            "marker": {
             "colorbar": {
              "outlinewidth": 0,
              "ticks": ""
             }
            },
            "type": "scatterpolar"
           }
          ],
          "scatterpolargl": [
           {
            "marker": {
             "colorbar": {
              "outlinewidth": 0,
              "ticks": ""
             }
            },
            "type": "scatterpolargl"
           }
          ],
          "scatterternary": [
           {
            "marker": {
             "colorbar": {
              "outlinewidth": 0,
              "ticks": ""
             }
            },
            "type": "scatterternary"
           }
          ],
          "surface": [
           {
            "colorbar": {
             "outlinewidth": 0,
             "ticks": ""
            },
            "colorscale": [
             [
              0,
              "#0d0887"
             ],
             [
              0.1111111111111111,
              "#46039f"
             ],
             [
              0.2222222222222222,
              "#7201a8"
             ],
             [
              0.3333333333333333,
              "#9c179e"
             ],
             [
              0.4444444444444444,
              "#bd3786"
             ],
             [
              0.5555555555555556,
              "#d8576b"
             ],
             [
              0.6666666666666666,
              "#ed7953"
             ],
             [
              0.7777777777777778,
              "#fb9f3a"
             ],
             [
              0.8888888888888888,
              "#fdca26"
             ],
             [
              1,
              "#f0f921"
             ]
            ],
            "type": "surface"
           }
          ],
          "table": [
           {
            "cells": {
             "fill": {
              "color": "#EBF0F8"
             },
             "line": {
              "color": "white"
             }
            },
            "header": {
             "fill": {
              "color": "#C8D4E3"
             },
             "line": {
              "color": "white"
             }
            },
            "type": "table"
           }
          ]
         },
         "layout": {
          "annotationdefaults": {
           "arrowcolor": "#2a3f5f",
           "arrowhead": 0,
           "arrowwidth": 1
          },
          "coloraxis": {
           "colorbar": {
            "outlinewidth": 0,
            "ticks": ""
           }
          },
          "colorscale": {
           "diverging": [
            [
             0,
             "#8e0152"
            ],
            [
             0.1,
             "#c51b7d"
            ],
            [
             0.2,
             "#de77ae"
            ],
            [
             0.3,
             "#f1b6da"
            ],
            [
             0.4,
             "#fde0ef"
            ],
            [
             0.5,
             "#f7f7f7"
            ],
            [
             0.6,
             "#e6f5d0"
            ],
            [
             0.7,
             "#b8e186"
            ],
            [
             0.8,
             "#7fbc41"
            ],
            [
             0.9,
             "#4d9221"
            ],
            [
             1,
             "#276419"
            ]
           ],
           "sequential": [
            [
             0,
             "#0d0887"
            ],
            [
             0.1111111111111111,
             "#46039f"
            ],
            [
             0.2222222222222222,
             "#7201a8"
            ],
            [
             0.3333333333333333,
             "#9c179e"
            ],
            [
             0.4444444444444444,
             "#bd3786"
            ],
            [
             0.5555555555555556,
             "#d8576b"
            ],
            [
             0.6666666666666666,
             "#ed7953"
            ],
            [
             0.7777777777777778,
             "#fb9f3a"
            ],
            [
             0.8888888888888888,
             "#fdca26"
            ],
            [
             1,
             "#f0f921"
            ]
           ],
           "sequentialminus": [
            [
             0,
             "#0d0887"
            ],
            [
             0.1111111111111111,
             "#46039f"
            ],
            [
             0.2222222222222222,
             "#7201a8"
            ],
            [
             0.3333333333333333,
             "#9c179e"
            ],
            [
             0.4444444444444444,
             "#bd3786"
            ],
            [
             0.5555555555555556,
             "#d8576b"
            ],
            [
             0.6666666666666666,
             "#ed7953"
            ],
            [
             0.7777777777777778,
             "#fb9f3a"
            ],
            [
             0.8888888888888888,
             "#fdca26"
            ],
            [
             1,
             "#f0f921"
            ]
           ]
          },
          "colorway": [
           "#636efa",
           "#EF553B",
           "#00cc96",
           "#ab63fa",
           "#FFA15A",
           "#19d3f3",
           "#FF6692",
           "#B6E880",
           "#FF97FF",
           "#FECB52"
          ],
          "font": {
           "color": "#2a3f5f"
          },
          "geo": {
           "bgcolor": "white",
           "lakecolor": "white",
           "landcolor": "#E5ECF6",
           "showlakes": true,
           "showland": true,
           "subunitcolor": "white"
          },
          "hoverlabel": {
           "align": "left"
          },
          "hovermode": "closest",
          "mapbox": {
           "style": "light"
          },
          "paper_bgcolor": "white",
          "plot_bgcolor": "#E5ECF6",
          "polar": {
           "angularaxis": {
            "gridcolor": "white",
            "linecolor": "white",
            "ticks": ""
           },
           "bgcolor": "#E5ECF6",
           "radialaxis": {
            "gridcolor": "white",
            "linecolor": "white",
            "ticks": ""
           }
          },
          "scene": {
           "xaxis": {
            "backgroundcolor": "#E5ECF6",
            "gridcolor": "white",
            "gridwidth": 2,
            "linecolor": "white",
            "showbackground": true,
            "ticks": "",
            "zerolinecolor": "white"
           },
           "yaxis": {
            "backgroundcolor": "#E5ECF6",
            "gridcolor": "white",
            "gridwidth": 2,
            "linecolor": "white",
            "showbackground": true,
            "ticks": "",
            "zerolinecolor": "white"
           },
           "zaxis": {
            "backgroundcolor": "#E5ECF6",
            "gridcolor": "white",
            "gridwidth": 2,
            "linecolor": "white",
            "showbackground": true,
            "ticks": "",
            "zerolinecolor": "white"
           }
          },
          "shapedefaults": {
           "line": {
            "color": "#2a3f5f"
           }
          },
          "ternary": {
           "aaxis": {
            "gridcolor": "white",
            "linecolor": "white",
            "ticks": ""
           },
           "baxis": {
            "gridcolor": "white",
            "linecolor": "white",
            "ticks": ""
           },
           "bgcolor": "#E5ECF6",
           "caxis": {
            "gridcolor": "white",
            "linecolor": "white",
            "ticks": ""
           }
          },
          "title": {
           "x": 0.05
          },
          "xaxis": {
           "automargin": true,
           "gridcolor": "white",
           "linecolor": "white",
           "ticks": "",
           "title": {
            "standoff": 15
           },
           "zerolinecolor": "white",
           "zerolinewidth": 2
          },
          "yaxis": {
           "automargin": true,
           "gridcolor": "white",
           "linecolor": "white",
           "ticks": "",
           "title": {
            "standoff": 15
           },
           "zerolinecolor": "white",
           "zerolinewidth": 2
          }
         }
        }
       }
      },
      "text/html": [
       "<div>\n",
       "        \n",
       "        \n",
       "            <div id=\"a5e272a6-9e2e-4293-a8b9-d1f593c4b991\" class=\"plotly-graph-div\" style=\"height:525px; width:100%;\"></div>\n",
       "            <script type=\"text/javascript\">\n",
       "                require([\"plotly\"], function(Plotly) {\n",
       "                    window.PLOTLYENV=window.PLOTLYENV || {};\n",
       "                    \n",
       "                if (document.getElementById(\"a5e272a6-9e2e-4293-a8b9-d1f593c4b991\")) {\n",
       "                    Plotly.newPlot(\n",
       "                        'a5e272a6-9e2e-4293-a8b9-d1f593c4b991',\n",
       "                        [{\"type\": \"histogram\", \"x\": [42.52426206893501, 46.35528268574335, 37.5074545665322, 39.123708804794326, 41.31886151341567, 32.27939085869403, 45.27544160293596, 30.55614046703365, 45.953041183453074, 35.24515974039784, 38.32709847489056, 28.564947093179555, 44.04423453379684, 38.4191502802255, 50.23848119526044, 44.077064370571584, 32.55587977413053, 38.970012523813985, 38.75631320054394, 33.64405724339092, 35.69654723139398, 34.78889988982626, 37.338394198478284, 40.44880167224062, 28.358533420552543, 41.86984553256084, 40.69051806939942, 25.823769656922853, 34.07803714374221, 36.22775813007948, 29.333792548331687, 32.77734166726072, 32.118041796017074, 33.120943740867496, 42.6397694514374, 36.35026880126054, 46.099470379795164, 42.27459174104761, 29.537873699817503, 36.439022584749225, 35.80976602173238, 44.8674213498555, 40.93465619792409, 36.86623229790198, 36.92193054157042, 29.282377213355797, 43.75464069021829, 41.78374851884056, 35.29666364946593, 41.08516446857486, 43.721755742310755, 43.93680035862467, 31.527032846929078, 33.3093071316654, 42.03857964151684, 44.26983583755137, 41.43914918820036, 42.210367193934275, 40.661541645059664, 35.3998251614026, 38.9397975165264, 35.77019131443997, 30.343313908070456, 43.239541093215784, 41.042748347862705, 26.28910856348833, 38.511408358817285, 34.243132702797034, 35.96704337851249, 29.141915965250227, 36.564683587979374, 36.505775638544705, 43.0023236027909, 34.576515250284835, 42.74518378554396, 31.670657499430437, 36.765329037274824, 34.87146491746295, 37.498824317529056, 37.421480451157905, 35.676146124338246, 25.691478476374137, 35.497893451976346, 31.782535754436847, 34.40090194318192, 36.886661496949046, 39.61057258105764, 36.706985717505695, 38.86388703926542, 34.83445033989322, 35.248383473195126, 23.926629214469465, 44.86643562011963, 35.916195683495914, 31.954302950186385, 40.908683928258625, 30.902225629983803, 29.824035393796258, 48.258986857438344, 28.44274795007917, 34.93640638260653, 33.84239214438597, 46.5767623588656, 37.65092792911139, 37.73533031992829, 40.40092549654824, 39.228138199529326, 32.217791723327686, 41.207961217746984, 36.320977353145594, 33.68255380404269, 35.20495486955245, 42.87651425103135, 42.903110112466514, 36.05226867557011, 38.03435403703601, 32.52335207544961, 34.51143546930019, 32.39271250548581, 36.456715551626864, 49.94719100768134, 38.292862773578236, 46.215190191109016, 34.125273304135575, 35.157071723019754, 42.911453756198895, 44.6398107174261, 30.43135651475782, 41.48376250252895, 40.61750337850332, 38.546165422838925, 38.52981996078952, 31.114828798654266, 29.72088590763707, 35.254028853251334, 48.95432275515803, 38.10975231295296, 34.985675043289596, 45.924676552670974, 36.44156126213823, 38.69544008139962, 26.56697165741162, 38.06174936283039, 38.31326283299348, 32.77930385832777, 41.12317853302754, 32.46574188696634, 38.71327788429673, 48.3501375869495, 46.27369737558131, 50.816653937768, 33.09401876188457, 29.950928530837718, 41.10123995792653, 32.74551984938875, 40.280064940268325, 34.46783773196628, 28.65927119189534, 36.53570330689541, 44.35514574176301, 41.73271507059395, 26.318774524993394, 39.634833529741634, 33.62425458199406, 44.66977697924145, 35.86017380829108, 40.40384892897065, 27.072728028985367, 34.58795678258567, 40.17717610292539, 38.11953774547207, 33.76370283764246, 46.24203051487926, 42.93377369359759, 38.02472510019409, 33.72555554354828, 44.52443030025856, 33.15004135455476, 44.7977264429224, 27.298360975526734, 38.449432461120146, 32.71779803578814, 29.906739858263606, 29.44965413527693, 31.369555063309914, 35.534278132556594, 31.805475219581993, 33.31511285312195, 39.86962324730283, 31.56262051793885, 32.469960314941936, 32.513339190941736, 40.191336641029395, 29.276439360372844, 38.001755905869864, 40.97646978639284, 38.69446411144578, 35.42954586915303, 33.56458874666903, 38.24555406876486, 29.067930793572415, 30.047201287360224, 42.85495067922242, 32.09548286105826, 48.455726396769855, 36.31911635263451, 30.86769789006662, 29.799620583019585, 40.452434412651456, 35.95866960668285, 38.68368063278962, 46.36659581476212, 30.561403202676257, 30.61664132363691, 29.48670466665543, 38.92409433158932, 33.04637644409247, 43.45959911661634, 35.20395658743604, 40.28277189304966, 48.66096904847102, 31.16384109662945, 29.72542208375929, 35.51154769652012, 27.241118867907502, 39.15313295637893, 34.185236424841385, 36.765379820527755, 43.2516249283937, 45.40074947980104, 38.37359996007259, 47.14727912567039, 42.71377834605479, 34.13003807091018, 36.07083997391537, 33.970870626198746, 44.151306843273304, 34.0281289325537, 41.437901930667216, 30.745139522758446, 38.57707110190952, 27.130248276759072, 36.362853178635724, 34.43791738041532, 37.91365022297896, 33.942174607493364, 35.07560692749866, 30.141242583542944, 37.354911338002125, 34.80331013064745, 29.87696293817538, 38.15454215403868, 37.535026158930314, 35.37603672367998, 45.31017105018539, 42.27450028419796, 29.276398882115082, 37.22474309597881, 33.945478863485064, 32.74391892884825, 43.83141591259445, 35.782137561633796, 30.336047704148974, 33.16531713415275, 41.004224908350515, 45.38374016811877, 23.3800974698562, 46.03230319367881, 29.45894363320735, 39.83161273747446, 40.230050999976285, 32.59444446632065, 35.6072403134449, 41.9358180990618, 42.040898742340346, 31.245964467737505, 40.321020307658884, 39.9073637342907, 35.43567792838077, 37.15564302400835, 36.3006288401984, 38.19752519119201, 41.15466236577547, 35.76153980029939, 35.77235339148294, 29.50588124515122, 30.582320007904453, 42.32223634751525, 24.48061844964356, 36.36760073132838, 34.95535868960666, 42.72566756216206, 41.48371814494863, 27.841379233175232, 37.257597811520256, 38.690030940519726, 34.187746385103395, 38.49080218370148, 31.088021354836183, 49.63832207401995, 33.13138886311778, 30.836914129792316, 39.31493326666226, 47.02756125774673, 49.065442839923314, 39.717375327068794, 44.555840077964675, 41.31690492780834, 34.280058508213415, 41.29606235287053, 36.11071057670683, 38.28501471665322, 30.57365732456354, 36.77266170416066, 37.584910003975004, 45.33186925602363, 29.050709692894245, 36.75204177057074, 29.699578829602377, 25.19046568440624, 44.6557605278888, 32.04379833526758, 44.724787957720224, 40.84795290174965, 38.45617819126385, 46.38021259807848, 28.003493029883163, 42.09851574238698, 33.89769189107017, 36.2703589849068, 36.67093495325378, 38.28690788810583, 33.758381170749615, 31.52614160714763, 32.63959822740353, 42.83499528587794, 25.297562081951025, 37.88503645894518, 30.41264354045482, 32.40555660334697, 45.81547227012875, 46.13364939253406, 30.00377995417367, 42.61330726414545, 35.219334213824446, 36.75635664091841, 44.35452764708328, 32.501480710252714, 36.88902352533525, 28.75220578437953, 42.70680571087705, 28.606743498814616, 35.8709385450873, 35.50249574857466, 29.748329785480294, 41.974218861844385, 34.92414037314384, 39.2702754926023, 33.62586180596383, 43.21823192857356, 38.327157489734084, 33.23515089884545, 24.675041311434637, 37.984668560612455, 36.400656005287345, 35.9352660159144, 33.767658025302545, 34.48718817502022, 31.785603653576782, 37.3843822344654, 38.80214084251461, 43.660150579639804, 33.64098801747698, 36.90216754765262, 36.70444506476416, 40.39541554325293, 45.56361533666349, 40.475741378639995, 38.80443572672064, 31.980620418397475, 31.462380731477303, 45.95116644855971, 47.2229832167732, 29.519799157989418, 31.301437767391775, 42.173157012453686, 34.43679909081827, 35.28789180953074, 39.39220965445753, 40.36464005520133, 40.43464444706472, 32.93739691876638, 25.897125839184138, 31.046955375289357, 38.4089467770252, 25.443950465785758, 39.59772586110166, 45.178572438634, 39.79404610798983, 37.67170918067506, 29.604088923080653, 35.970570862756915, 36.852962377739985, 31.922773425224406, 35.74932119735226, 36.524332768729, 34.82291025056289, 39.50747611488603, 46.32570398401534, 30.163303765679842, 29.405215870362788, 37.77631540421577, 35.15080192983442, 40.0789923918091, 40.15268769049031, 37.025515354084824, 39.050076724071396, 36.13969778474307, 29.655959277002154, 36.703810154739834, 31.681661276154188, 31.461575691935565, 29.47257605168858, 40.2500236730884, 43.40434026628686, 42.180857338177994, 42.29539659980479, 44.36678153060925, 39.381859475691556, 36.977002631536415, 35.78875303086582, 27.651857822836945, 45.028508977598115, 37.72269345404371, 47.289629525586065, 33.70385695403361, 39.58881452691463, 27.890954688403017, 32.85790253741439, 34.87719577964967, 43.588927572307604, 39.167367090526405, 38.17060825731319, 31.373199486286037, 40.66174844191838, 34.13548541634582, 41.72419451403034, 32.41430629928584, 40.60971930331221, 36.20527558422087, 34.991016252721565, 47.34341646312693, 29.224060476341045, 41.94197207183376, 35.57544623868877, 25.115153477684352, 30.813091824547293, 40.82741457826145, 40.99232322358522, 36.44161458147032, 37.853675750834824, 44.93463631210443, 36.7817720185227, 42.79357724521933, 32.13497217743017, 30.188914184176312, 41.782937525834214, 43.62014331333477, 28.594498335423463, 40.666258093839915, 35.71552573591669, 49.28220069549665, 32.34984019923398, 30.715952063518294, 45.34125116934898, 43.1803383934669, 28.539020965734437, 34.47188846217773, 34.07843204885851, 32.006345108969555, 33.174534973009315, 32.704197255750316, 32.75838201984956, 36.895670373078545, 33.43932896186997, 36.76157669738638, 31.035570870009487, 26.85215013865103, 41.088331413128415, 33.59140885747548, 33.785154405579725, 35.578029181100234, 40.95732743288736, 32.97470251768677, 37.427818165030445, 39.760602051393775, 42.15839687451379, 32.93093683560227, 37.47918790985448, 45.02184356674494, 38.92271656077971, 42.97160213112974, 37.001414393260454, 33.2080509318265, 40.14729385938774, 44.15302440102915, 45.56593236889599, 39.13185557486573, 34.347739659091836, 35.42265496714145, 37.3297394752352, 27.87736557535952, 28.969893389212846, 33.585998156960784, 31.749776531151525, 35.58401780125733, 33.322847295388854, 39.17638221339406, 38.58111412431924, 33.859795287131014, 38.82508081966909, 32.06984741017968, 37.06490741975696, 30.35359043881948, 39.90083023882314, 37.505028825591424, 37.78375158507689, 38.71248033139771, 30.522733603975524, 24.34336990836634, 35.06397503386257, 37.437913606668886, 46.064102894579506, 37.16792310732506, 32.355942377664064, 37.074351685745185, 34.524476524992224, 32.83604971327294, 40.414603179080466, 36.6264996797851, 44.741325626030395, 42.54386498700397, 28.584765420778172, 41.24210368083327, 38.88318372432934, 33.65119541029965, 39.677721173121846, 38.355278642270214, 32.15895290298101, 35.247015756522735, 28.20865366207173, 41.70619113173787, 36.83221514056511, 38.227273048046634, 29.786288750857096, 37.10848406314157, 35.672715901842174, 40.90042376356829, 44.8602743260072, 34.66094389539404, 36.59079074716574, 35.08723410312356, 33.85252293578256, 35.382209369154644, 42.63417847155201, 41.75542019182814, 38.739051187799674, 36.051258710479516, 37.47181401505462, 38.60156694255279, 36.50107384689959, 23.225389581434957, 40.7521779755044, 39.70735525477841, 38.98437797248131, 31.688173204221677, 45.68656993278275, 34.188179507381406, 40.65844013915209, 44.689214057832515, 32.64629625712429, 29.837133170879575, 31.459388600934187, 30.71066337803825, 33.67913817700148, 42.259017595532804, 33.1888933759136, 36.85298607405804, 34.37727762751785, 34.718478848104716, 30.413621581196157, 33.05574966421358, 34.83287314607625, 31.004886164529566, 33.279968630603975, 39.00422840589897, 38.00754203478374, 42.81693978166889, 40.52526818339165, 33.11468093228947, 38.20409412302033, 35.79247372774506, 44.616980928623015, 35.71939700234756, 40.78980906477165, 31.40872698681068, 30.679975306087176, 31.34596539780535, 36.110613954432125, 38.92269523324431, 35.06832679910335, 34.81813201871425, 33.678422987788956, 46.97254959445407, 31.39339304752243, 30.44300659542396, 37.916842657356575, 26.383461695055615, 38.15725917370802, 45.19516771800908, 39.148577725807584, 34.24662131806069, 39.918947911512824, 29.879974120665423, 27.74918415359356, 42.43053528851398, 49.52291572296659, 31.511154195218715, 40.20284526347246, 32.94603790500109, 37.14324419608272, 33.20052254976645, 36.1449048318992, 32.52419426278909, 38.369485939297974, 38.566454645750014, 45.6488803717176, 40.706335093014566, 31.704705260133533, 36.63388369003883, 38.27481944915007, 34.45680614585896, 37.927900357479594, 44.80870859274491, 44.34928551166996, 40.10954345016686, 50.77186519167403, 32.743235678501414, 38.97577023166476, 45.26904331556399, 45.23752042929095, 33.58750488795764, 45.58274407046163, 40.79411730838199, 33.19126967560385, 38.655378013059206, 32.69077014931471, 33.17174177556189, 35.69498352698496, 35.93540676203078, 31.03743579558271, 34.788533313698466, 33.227032558517955, 28.376506333509862, 34.301646279301046, 38.28599010444619, 42.51000020454667, 30.01300785916871, 36.39389944475955, 23.983903116716824, 26.65953763647402, 37.936532216575614, 35.17441844244566, 40.43018875649413, 41.268954484648596, 36.22354463084709, 42.03964514232404, 40.799042308327316, 44.37963069789415, 30.270611654170057, 50.137677427514745, 42.76328952196211, 27.288971861843898, 38.208588953458225, 37.27120995662676, 33.52814844559259, 35.8568142119902, 40.949237040106226, 39.91175315936285, 30.62780745108799, 43.283865167632655, 38.06702029150658, 43.544022783871526, 30.044328711799047, 47.36693872671989, 46.23264354777056, 39.41291160878692, 34.14125619358631, 32.15994444208925, 40.01355248433991, 32.23714379399714, 39.069821425678576, 31.05897682775876, 40.18637681436704, 37.90541798462934, 41.61563755426306, 34.40666486991661, 30.28499265496636, 32.38709462885494, 27.378567879842212, 39.42978628377027, 42.7157133540826, 37.38750785430291, 44.19075754652435, 28.72013640001703, 40.044283588404866, 35.21337605982206, 29.871635275405342, 35.31814439613061, 33.71035760303777, 46.2087818465285, 37.90762327196946, 47.915197192301335, 29.48818718044702, 40.79317734724577, 36.38223827629707, 32.119932967280036, 27.533042365371873, 36.54452147801235, 42.05150478636419, 33.10345810427948, 46.13927179982652, 38.39826783842738, 47.42808399325104, 30.414549091045945, 37.10358544008626, 37.75539406452992, 28.301976105024444, 39.51897320810619, 40.16956958432359, 36.21962014741496, 37.75266917271352, 32.11056763715378, 40.97332229512085, 31.57040252319348, 44.683554837222516, 31.40950135561702, 41.6327893291985, 39.44447824233231, 32.0450066450915, 32.55624673349177, 31.0501403038134, 40.31207490012786, 37.84534153919655, 40.1338110113091, 25.639196182368277, 40.799896966263546, 30.11630100092868, 33.554360820998575, 35.52587919649349, 33.47539741360464, 25.774808642982663, 46.84155034376907, 34.520131431308855, 37.616776001818266, 31.670599231462194, 41.00613783626375, 36.46420033990231, 43.62674012868052, 36.138624013499616, 32.71276829185564, 40.422446689646726, 30.339096814105332, 40.472768316589594, 36.27396960891348, 33.21049201857815, 42.67130288566681, 38.19169494882797, 33.01958445652987, 40.602592343114196, 37.1558414346971, 45.702047907682804, 39.95459422475842, 30.717160095970037, 32.987756779468896, 29.092365805751612, 35.14401388672386, 35.42537820963668, 36.008851564845905, 38.813841055127895, 30.660513264441036, 40.59598116762549, 36.78381996360252, 37.450927531009796, 42.75321364072814, 37.70036505299157, 27.609383246803013, 31.548555072443026, 35.53062742044579, 38.030267063397424, 38.48106112455799, 40.31995333149344, 40.568184754371124, 35.204360845652985, 40.72478701371058, 34.19958736752341, 37.06679562634109, 43.974259592068265, 40.02502784845572, 38.15759174700298, 36.273077493722596, 37.67352363391976, 40.70100798536945, 34.077972976542064, 36.52330369795342, 35.83656579920885, 40.66240793857978, 34.57605214705905, 39.43738033649759, 37.73232114654952, 35.77161227714961, 36.28990623597581, 31.06558540929609, 40.14657495798147, 41.407929623904494, 32.06397794487623, 32.720815386569356, 38.465670551877594, 26.83480904041551, 31.548517518307705, 44.57725404197003, 28.813422457514513, 32.75391998656373, 27.835445494378952, 44.495355478172385, 42.20911302354456, 43.70562068647711, 43.721404782230024, 32.51626035798781, 33.65722329394562, 34.112872712507354, 43.86396080465108, 38.844727251610465, 46.289956393356796, 31.73169328762108, 31.000069096627488, 41.48984259363914, 39.027330696507654, 43.74809474184883, 33.68910982833733, 27.525837850045463, 30.58939289040798, 35.454437126882596, 37.787790395453, 40.63461545874789, 36.51973003030831, 36.4828893200715, 43.32555098242103, 38.12894900243036, 42.95028019764752, 43.00114879188003, 39.49108417572998, 34.27440623210037, 29.00278055389811, 40.205434369138274, 39.834478013411044, 38.501028575256605, 36.37366927528389, 29.966910168931427, 30.925802876052433, 38.74551926299908, 45.85725625935203, 36.43609369661925, 31.067493524566345, 35.29332355141195, 37.58104194612269, 34.615320658456284, 39.16209936863383, 37.30326088094503, 42.39259334259386, 36.16448573552862, 32.28225512426223, 34.609090510806396, 34.86570338364654, 40.77446552373487, 40.62994822746403, 32.28547392960355, 24.61234143110007, 41.72133965580006, 42.34033507815294, 28.750019870689155, 29.292107570632105, 45.029965123146795, 31.633254027047364, 30.03724884764245, 43.84578549584874, 41.139360833478484, 35.744532389533894, 38.57788796821592, 34.17454471334707, 42.537727227615655, 31.978281456355234, 30.334274423171763, 31.589494961156444, 34.85174722182629, 49.705367895347536, 34.426733888448034, 44.79774129464368, 40.549458456279645, 31.36312491733389, 43.7219635665082, 33.42181953154071, 33.26590959998375, 29.25898944795484, 40.14032096675646, 50.50266572369085, 40.18149084771836, 35.978711527072676, 43.318107944429, 43.605047211093435, 38.72711920948595, 35.19612147729524, 41.55485498930516, 43.429042980490465, 34.037007956060265, 29.701613787008828, 37.38268653613529, 26.550293407853584, 35.3085733532037, 40.34601173398398, 32.52869165931233, 30.334471457470556, 45.72376795368243, 30.884329636780798, 36.1318406732476, 38.14007745159615, 39.81963024358728, 37.09658422631671, 38.58710301126213, 44.58796005264385, 35.58942188139949, 40.326729552297635, 41.31755168309488, 49.211615315681186, 37.613936455130236, 38.140657247630365, 24.13418138698137, 34.40641594777974, 34.718597041829746, 44.589750626413576, 36.42807628715051, 29.441372154347587, 35.88560326086977, 41.0429454026137, 46.72410272915088, 38.10399048045096, 26.88566855034882, 25.859108908486967, 33.984190179086326, 36.26081526250836, 32.253362246180394, 41.95742506188024, 36.08110008875019, 38.42161909582026, 37.19325502718911, 39.203951560531046, 32.27490385637958, 44.36296183723113, 27.768450602473592, 39.21607815139144, 32.473817450818906, 32.456146361668914, 30.57742667904684, 44.22849766828286, 42.504308238620816, 37.010938399316764, 34.904356564797546, 36.28698783616751, 27.586954641060395, 32.381263553668774, 32.03666530171597, 38.162924830852205, 38.9516121674246, 30.522762899651553, 39.01624570676257, 30.629209506334476, 39.893292022135654, 27.4154334430855, 32.4925616447545, 46.073897834196515, 43.66147230324921, 40.33387893199411, 37.04480230835198, 31.206123798865647, 30.315963523302912, 40.04797667904906, 27.848080817872827, 45.077438739429134, 35.38177530561219, 46.5223251131733, 30.57198815779884, 40.601279266544715, 28.877849746552084, 38.12252670290631, 35.38712916272062, 44.39480200441518, 33.776573596864345, 39.29493235388841, 45.587624645235906, 44.29048736491671, 38.002706587677146, 28.362922426795045, 39.38783269978859, 34.587247651032655, 33.271465403845006, 38.66730655459789, 36.69641628256227, 31.89894941623694, 35.012217656590785, 33.42062434878961, 37.46534630313985, 39.17184185891844, 39.107654374586986, 35.616620538764025, 36.552561674019884, 39.46998288430507, 33.70389392971878, 36.10324607869274, 40.85021086926355, 35.58281715716623, 40.902924455316096, 28.491291241202738, 40.435780189732434, 37.77944868259706, 38.565459941451664, 38.80960461643897, 38.173035922115915, 40.12311951181686, 30.10819472053298, 34.37123985792802, 44.05790454139785, 33.27713171225636, 36.73547763797896, 33.24851643816177, 46.23813092737644, 36.91498555308907, 38.537192562076, 36.77377539667324, 33.041575272302566, 37.76666149474176, 40.49437838613449, 36.63964863852122, 39.68601535150048, 41.304575245829206, 38.95952476742004, 27.932205345163986, 32.818006951682456, 26.02668817189252, 31.34778507977996, 35.45814956773309, 27.271895553247337, 41.09684835815434, 35.39945898678782, 32.519369174509, 44.3239701379549, 33.93325271858264, 36.95902293292464, 30.272610273907546, 32.34495814173263, 35.72900263242748, 35.258171458655404, 35.94345801684349, 32.328535620077865, 36.67198273684419, 43.59434452091605, 44.44216307115418, 41.72839268814944, 36.68114008483943, 34.618634822064635, 27.65111516480791, 25.10899315869794, 32.75394073581204, 38.21386167433556, 38.5602859941425, 35.97220907907634, 33.095862722644654, 29.211842347688894, 24.440987837238193, 30.90533034334619, 35.05303671528657, 42.36613409557477, 33.04204273574946, 41.13623936244797, 45.53601351957606, 28.39725168408535, 29.885679409929885, 45.015523438543326, 44.15108196789493, 27.801314635792806, 44.35901506095494, 35.968536127757574, 29.28429202132688, 34.18092182473414, 28.09527181256987, 33.786715674353495, 42.026245118451264, 39.92120534944202, 39.310910188594846, 39.314107653721635, 30.533648395548127, 37.60984750376103, 40.969721620456085, 29.354157045898905, 42.677862025566824, 31.77842546761216, 37.182699785599915, 25.03939136956968, 33.49591229420647, 35.33686049604968, 39.04921500788117, 33.344434806394574, 32.26038500513685, 28.02238742309531, 33.12214773825009, 41.155890310303526, 41.284564033024665, 43.66823641241167, 42.48108659032069, 47.3648636479171, 34.37007937826368, 27.528849462811102, 37.906193298759746, 33.236938743124064, 24.421106943596232, 39.49660514770083, 40.75658147145622, 30.995506086192822, 36.369051454075695, 42.48442721635659, 34.69681958506559, 37.25772447772483, 39.10939897829912, 39.41370164983317, 35.821566928200156, 41.040145359772175, 31.14345476299229, 34.80397846729, 30.951699107519527, 38.58260131099984, 33.89109581065916, 36.55084656895597, 42.45084867835296, 46.76070444427256, 32.21566081088264, 40.82133595235846, 40.2659068594084, 35.281543554682834, 36.63517194640663, 42.13486901252235, 39.28279650174482, 31.06488119736701, 49.38569929081638, 30.400215373966205, 32.63714914110987, 42.142537114494225, 29.365362859782504, 37.440066035730155, 40.95377658784427, 44.81635402809357, 31.735158735454085, 33.191566926161066, 32.53541103412765, 36.20945111680737, 27.99339590915367, 28.283225918221554, 40.42645184697481, 38.052249590431934, 42.424332796959604, 36.05321929806943, 29.615803324472736, 32.04431469139713, 35.18337738754038, 38.23095396289024, 25.490403680168882, 27.09258406570877, 38.52145222451415, 39.40598567221617, 35.435073338695894, 28.439164070810477, 34.965996997708054, 36.517293821737944, 33.960962404474415, 31.206342236696624, 45.81522431568141, 31.33332393832874, 36.60164124764665, 40.0266763002383, 30.90374801755482, 42.79709002528326, 31.840049904312945, 39.369607271271995, 44.49554680329552, 35.94314750038819, 27.583487067698517, 28.144021160912438, 34.64178702673235, 44.332651319433275, 41.38882938955943, 36.16849980181217, 32.24752464403049, 40.15496483459542, 35.53710376344712, 32.28055087305225, 32.226719629791724, 35.09808708669237, 37.5741289298423, 42.38849464381691, 41.76245892840652, 38.65571348108699, 40.76375208618552, 37.0549792183287, 34.70278891794612, 30.105533956462967, 37.942523057745625, 31.914004305980313, 36.21604711220801, 43.48607045141071, 38.63075924568995, 42.883476705904584, 38.21733733219234, 35.71212689591434, 33.936948177135605, 38.009033661150276, 35.38393907378649, 34.14947328809937, 39.061541663324434, 33.0763289125581, 47.188523912365575, 41.72440380687158, 29.40177231338307, 30.057799705352487, 37.008022589896534, 35.796553267512046, 41.12371605202887, 28.753840733168513, 38.359562805313494, 29.293471050821474, 34.52322648106181, 42.183045561884676, 47.0313387336707, 34.75756792047578, 27.834335550020857, 32.69536323505527, 43.11456698545876, 30.621448701823738, 38.38637315695823, 40.4058594826058, 34.25688439452134, 38.67332746184764, 34.76287630810248, 32.75614280237999, 34.31782091732402, 32.74445326774581, 30.768376222887177, 38.610251907822324, 26.149898837426484, 30.365976873995884, 37.222238584860506, 31.403727839495886, 36.96141595846991, 36.00518898286758, 37.98736855738769, 48.07917264492205, 33.197170418393696, 43.62214149419332, 40.37879559799182, 36.211362015448394, 32.06813037375713, 36.037033117165834, 45.2340837104208, 37.538028271757796, 35.03398377654609, 40.671145591759874, 40.794108749939134, 43.24351651023588, 45.63652944020885, 36.210219885396825, 38.06354215252755, 41.329428721438575, 28.54345500243644, 43.73028124722229, 32.242824923973544, 38.42024261386258, 39.09532135361621, 45.271997754031894, 30.686152932107177, 37.116911665607766, 35.262335196998656, 40.252151506457, 35.22036607675966, 38.89922928863905, 35.31254829514776, 37.801781642198115, 39.59435788198951, 24.422212819396723, 44.08419973280768, 40.54856902596796, 37.75432318264959, 34.41512766545668, 37.112150372878446, 34.26976234557944, 35.028468912639084, 34.27702272486271, 42.53231459916434, 49.625393704913805, 26.599922050180584, 44.96315640028268, 40.022316292011425, 37.00484183184586, 30.595079177098548, 34.21278384744671, 33.96279263545271, 41.3715881028803, 34.9795968525988, 40.291808732748294, 29.911191693746122, 36.36955367803941, 40.19754144598124, 43.64716252275497, 40.9098060738729, 35.49751823010622, 36.71114282813715, 44.56317414986056, 25.937917829499977, 39.512414440747676, 24.605751959258182, 40.457887446248414, 33.32022520591126, 32.89984785995933, 40.11606863206882, 39.98259763488107, 35.07795964519128, 40.84555476206134, 31.484864726120616, 37.45771920322495, 33.52068780855147, 36.457836956075575, 30.981056087774608, 41.94755549422702, 34.76443068850378, 30.834998041286024, 44.57953262592752, 31.642677049277125, 40.871230081589104, 37.06956483549066, 42.48844691251046, 40.31955486786399, 34.136695863408576, 36.34395275143894, 32.80779476447444, 36.27559560518393, 31.80895056367169, 31.327987897991754, 46.29865393802735, 37.46770980276458, 34.54422828349183, 37.45291470996871, 35.36992724859439, 32.66210903517868, 37.18737712309959, 32.245126946097244, 39.65503433629832, 43.35092401111907, 31.998435211902635, 28.725795016476674, 34.22722355039863, 33.877223202244025, 37.312202205429806, 34.11223451285217, 33.06025631420976, 42.55118112670856, 36.349928380538834, 26.448173481122772, 29.284632649708097, 29.82146832292401, 41.60496566436492, 41.331357104560695, 29.525616917888037, 30.90580039850266, 40.46920434899211, 46.74293139229693, 29.445030246430303, 33.2482320012621, 33.92144181287635, 38.29293681839137, 42.5765751110377, 36.89044928397061, 40.305532377034645, 32.05370214283908, 42.29408006386877, 36.848312130918714, 41.368226170426944, 50.46160765775833, 37.329309291020614, 38.01240611836839, 41.59492425428541, 36.00551619850878, 40.71382534027447, 38.299026534853574, 34.1024065838606, 28.99933147067825, 45.34088120726224, 42.093061709490975, 40.498161489765295, 44.1992756255704, 36.39600112542798, 31.415889682471676, 32.381249093036, 33.59195932969283, 40.79995622184044, 36.116754010286186, 33.75412512612694, 42.48851157275839, 37.36436995456144, 44.163834866709486, 33.52677457914107, 38.17378561259429, 33.06651966385665, 35.40916443789853, 40.395805577928336, 39.250809593884185, 33.66090940154495, 34.01455703949023, 41.80922068304522, 34.71348137251609, 36.807484503887615, 34.12788107529187, 37.95529615249157, 41.61713001553006, 50.13589435721382, 45.449483965904825, 30.873778070950205, 43.682179810709414, 36.4913529412429, 40.89083371563505, 36.484904337937884, 33.19974099602368, 37.26129752939767, 39.62726845328716, 38.58568695347391, 35.87575605086993, 32.44587528804334, 31.921315122283254, 33.612258731752235, 33.24905059990045, 47.273325038468585, 35.538311893136715, 34.612476940765205, 40.696870792915746, 40.591075925385084, 32.69976200623688, 30.540383746444373, 36.10909575598013, 30.394137285498118, 32.93001531330648, 44.058449519802565, 40.592792117381855, 28.002834885175226, 33.628103215563456, 42.544465278441905, 37.71065060851272, 41.452128205836054, 30.895013564004334, 33.34606342152139, 48.728156109546156, 34.4369778478996, 32.79473931273773, 40.88106289472408, 33.95215405155899, 38.57105830238956, 39.29690102538665, 39.78269836427616, 47.12600139644785, 34.81407944064063, 25.400392159673263, 35.985657167223856, 40.53645378970883, 38.99475939365071, 29.28692184443923, 41.153356815652565, 37.667415768322286, 36.961174942515875, 55.36193058243068, 42.18479708557619, 27.518360993823613, 41.05488626869796, 35.626300173063804, 27.333545291180982, 39.9550812871258, 29.949158483656493, 34.737103541841435, 36.80062558790914, 45.78180885985875, 35.160517269592646, 45.41995614671226, 24.672846768216395, 34.500770263891475, 33.255990291496964, 46.788141432401225, 34.24191895367008, 51.030303534109166, 44.56758071044159, 43.07553841729373, 40.78421503645194, 37.11326165820174, 44.95283926451389, 36.843230448409706, 33.80902254849471, 40.936446155272755, 37.195682283405816, 26.91404466251153, 34.589917299460154, 37.864786927721994, 37.94908222419665, 37.17490909723985, 36.70879750467408, 42.76755806715873, 49.51893830959559, 38.63436606896243, 30.440830091877846, 42.495975396330756, 39.84543189027098, 35.19668471986748, 34.955763883341575, 34.64309103072768, 37.99379194530465, 33.26183602549796, 38.053106676057624, 36.66945629423121, 42.92059017988534, 42.48800854655642, 32.414747566968195, 39.77201466230424, 42.57320115603546, 36.6803755447412, 33.678558094769514, 35.84222310505435, 43.441304164506924, 47.53379318445681, 36.30809582638387, 35.517512562045965, 32.40351616813489, 38.3610322292152, 46.637940302487266, 33.25438089177873, 41.39215232262769, 34.81728329859181, 34.36745993241381, 47.907515501147614, 40.02703797951483, 41.572722132389394, 36.1912019399268, 34.756100219422166, 40.171532451913045, 37.43757460337613, 37.11450098542945, 44.97238994234753, 37.20741481671734, 43.13167592753493, 40.40348614757929, 28.936943301888647, 39.38179709749593, 35.241306759216656, 38.5012011320346, 29.030172993939587, 43.79528830437759, 35.157231822861505, 40.769657359377284, 35.63010717765633, 29.85549695711909, 32.31135668522434, 32.765476968924226, 40.15376635550471, 42.83209815862829, 34.49503661889636, 41.20417015708465, 41.93232219386483, 35.77135736890827, 34.80387828863351, 36.27703322071733, 39.80108998670801, 34.62558366446316, 45.654117782590156, 35.97052940838903, 31.484071010638477, 26.226615416677745, 43.04589976520097, 36.235120726524514, 38.5834643463412, 42.02821407196581, 41.35699728528449, 43.4404570334322, 33.59831598024395, 39.863527745233036, 34.34707473663965, 37.09024045498473, 36.865339217137574, 39.51218801959119, 37.71406394452762, 36.22074916242285, 37.44713780603285, 33.241056650070725, 39.543941869407966, 44.46981701675349, 34.103294305623194, 46.467273391432535, 37.07135217451357, 35.35001114848095, 42.67180941755204, 35.1935501497014, 40.569359621640366, 35.7706670199935, 40.574089936768516, 33.457962392070584, 39.58544478797008, 27.19909380057769, 34.51262682929673, 40.56666857813144, 40.89254588429974, 47.30646378197511, 43.91996773903673, 34.120414568156505, 38.77449314467966, 41.35065025943381, 37.12158834323551, 35.518470753879555, 29.260135638733253, 27.248367794609457, 39.37055022396963, 30.917599630111685, 28.551076147536634, 36.55117783313459, 30.524136157533075, 36.95444757020344, 34.314763292969495, 33.319646936469475, 38.583969534229624, 45.89500703207378, 38.984099242151466, 42.333263510837156, 46.192751651139844, 39.736132152676284, 41.17275164674871, 36.47796460399132, 44.079223705832234, 29.145300091260488, 34.58117085852686, 34.88324890133779, 32.36628548635785, 48.944183360506614, 40.68097982259001, 33.02650290562004, 24.68966634038958, 40.310742782748946, 30.767946088892455, 42.36228695261247, 37.990903610176574, 37.13230036469137, 41.94193916849566, 48.64249932934496, 43.4778004050318, 34.34572377028478, 43.194126077636795, 40.478276777920534, 39.42154607931299, 29.922324054461786, 32.8410272052366, 32.554109096558, 36.645366460788466, 42.29370210965006, 35.05696035061123, 33.723811979677016, 33.49562040389208, 41.43564074467126, 37.50718531642267, 49.17277120654506, 34.82782595858112, 34.55321209718147, 33.84599370674268, 29.93699538733822, 31.87124393607792, 29.731735082936297, 35.45661275179329, 41.69807469907959, 44.0662617004871, 34.68001368896665, 42.08765024441602, 34.14124896998535, 32.728050148351805, 35.702721557564864, 34.517687876038345, 28.47525934392691, 39.31170362597414, 30.543231603474652, 35.25069101197504, 34.20409207658187, 36.154422608453174, 46.117004548727564, 35.231567399905394, 34.366050095685814, 32.37117861364006, 41.1467507476497, 37.07549446817943, 44.58347555507652, 46.59411589863415, 41.50978292068084, 43.34724547991874, 30.837557241938647, 31.345414533306368, 44.486534379491076, 36.374805637758406, 34.668348514167306, 35.25215109728831, 39.01652343275161, 42.62889074140854, 39.30671119447646, 29.297342216290524, 34.654133892005575, 40.622636620647654, 30.480480348661068, 42.37445023183644, 30.3493322616211, 32.350996010184055, 32.74338757351791, 31.816546391779017, 46.037330220813956, 28.778325316283944, 35.191511808955376, 38.0888528018022, 36.59011198426706, 42.711585952197126, 49.121610510368235, 34.00593619082327, 45.50947707464662, 29.243764646097315, 34.859207881721055, 46.072211500670456, 45.207125311325306, 35.120936213046164, 37.65173666264722, 36.37364220454699, 37.30378891255221, 35.195015709777785, 30.71465015509388, 33.47444537885593, 38.47795708262977, 46.64912624018654, 35.51915291314536, 35.505811158450065, 37.953046688597176, 30.170877514799827, 34.324810186564406, 43.77692648855319, 35.809087427747315, 37.04458619090942, 40.75334268943356, 37.57806949830076, 38.218984068932045, 46.716026479273985, 45.342599326346715, 33.71691903684616, 37.15760678769253, 41.15528222713464, 35.50756679811192, 44.453698184055725, 32.18039746100023, 36.38120343793363, 39.06761987237166, 43.492226198896084, 41.65015833276552, 33.35670158737822, 38.339814745215584, 41.82368885401074, 33.76759944620909, 36.939857238167264, 31.1458614834282, 43.24452637636021, 34.51511493530514, 29.435218056626766, 42.745254051539455, 36.2356381083992, 35.627148441257454, 41.23048199523796, 44.72677779076115, 33.999325895476105, 31.925331555780087, 39.65864656740174, 30.94987382017811, 40.14880993702924, 30.507377550266327, 35.27587560515844, 32.9341362023218, 37.320257268660775, 39.82413421673408, 35.72104947574945, 36.55666462318455, 35.99111020714952, 26.08196483487237, 38.47142933376991, 37.650694709237165, 30.762361977848677, 34.21302289081407, 39.518558108735334, 34.38614434413756, 40.26775932689261, 32.40754054915943, 35.677072571885176, 42.08704211339615, 33.36598708248188, 29.897648380386464, 42.07714902232297, 38.84575065294134, 32.26934953846291, 41.91728883146087, 24.039886065376947, 35.61463517711759, 33.59048141451533, 29.601153462403758, 41.762771346941264, 35.71391128711618, 44.35609647573561, 33.77547940942913, 28.949751206896256, 43.75633556449235, 35.045856789961235, 27.52324227441025, 35.10325530401184, 38.23901314455333, 34.105953456633415, 32.53174356320996, 37.92091225671221, 44.96641895472522, 33.33676505262478, 39.81158195704125, 36.901868004285674, 38.788683952580726, 35.70723805850538, 41.255927220993, 39.93429223067679, 32.44371138018356, 38.77865359069878, 46.73313485359252, 35.85711456722592, 38.21510798840283, 38.87687447945589, 37.14537331412853, 39.37809417809912, 28.5840017028535, 40.11746056186736, 29.856934067633567, 26.642471360232953, 35.89176118329055, 35.55930461049018, 32.55954341648916, 43.2251257581166, 34.226308403060195, 36.991963125928656, 36.086245245810986, 44.94900410210109, 46.519572742792334, 40.601263620866426, 29.303883834478892, 31.53615092447485, 47.4119879573875, 38.4589123560375, 33.90635204548968, 26.287379113700645, 37.81785879417521, 37.54021501860353, 42.50698924708472, 30.346637500779764, 40.56848714232979, 36.3354522371109, 29.78543670775689, 27.756632260148685, 34.08483421188797, 32.95193700927518, 39.93445718966849, 36.1754147751064, 40.592789941047144, 33.88635723946003, 45.649497867101275, 37.187487265079135, 28.60917796187931, 31.640307432901515, 35.309019259786595, 47.95378946120442, 36.51296577104036, 35.65421165303042, 40.59701146712868, 35.051889740927855, 30.302981775133535, 40.291650940452115, 38.06292151162496, 27.953002242066802, 35.260289561941164, 44.00123131503745, 45.76860070147453, 33.42835272404741, 31.905240906164327, 30.572423276940565, 40.959100449621076, 34.853420969936394, 33.35500583395971, 42.09414239811415, 38.00598485759737, 19.25671006627525, 40.760926941944255, 34.86786080278628, 40.86570628233004, 21.738494370862806, 39.54168465374089, 28.33969340076105, 28.36632543718973, 41.26556693410622, 34.9500167723166, 25.815617209061823, 46.27343285497409, 44.38447789219119, 31.31744209852923, 36.23859233613195, 41.012739964826864, 30.812017914378373, 46.734242411254215, 39.70729212712687, 28.56520506550814, 43.77953713307459, 34.883388923583546, 38.17795673483851, 31.25593173295752, 38.36575609285742, 31.211044709206014, 31.88764825760427, 34.64041107957553, 50.073039781187816, 34.524192451356356, 40.75260797821962, 36.56395405417285, 36.447712120654955, 31.001098531206626, 31.161687847939724, 46.68834861119848, 30.969248810731678, 34.40816557337904, 38.02665367545896, 39.779914520145574, 31.648329980593765, 45.16648947534097, 38.69074542820355, 39.637967328000016, 26.465444308101283, 34.35878042662681, 42.3942050533898, 37.69044391844419, 34.86511485452421, 44.3581084948766, 40.0420466321063, 34.543144707759325, 38.701945065765756, 32.08483226718134, 40.14211884463359, 36.01672372594408, 36.42996832837424, 37.458471622669066, 41.05372183307051, 39.90401678569904, 45.79197102951069, 40.14032667118508, 41.025502378892504, 41.061310935445604, 34.526482085104476, 31.962665550631257, 40.60011111613435, 31.028863617486962, 38.24662905555653, 38.06904702297612, 28.908354916042107, 38.55624917166816, 35.42561714473778, 32.096107219591886, 35.16547536890949, 30.95524739075633, 48.732609150044425, 32.80442416380933, 26.323534573514177, 42.60158566740577, 39.881560058257776, 40.59487882491567, 38.49983252057398, 33.562716005359135], \"xbins\": {\"end\": 55, \"size\": 5, \"start\": 20}}],\n",
       "                        {\"template\": {\"data\": {\"bar\": [{\"error_x\": {\"color\": \"#2a3f5f\"}, \"error_y\": {\"color\": \"#2a3f5f\"}, \"marker\": {\"line\": {\"color\": \"#E5ECF6\", \"width\": 0.5}}, \"type\": \"bar\"}], \"barpolar\": [{\"marker\": {\"line\": {\"color\": \"#E5ECF6\", \"width\": 0.5}}, \"type\": \"barpolar\"}], \"carpet\": [{\"aaxis\": {\"endlinecolor\": \"#2a3f5f\", \"gridcolor\": \"white\", \"linecolor\": \"white\", \"minorgridcolor\": \"white\", \"startlinecolor\": \"#2a3f5f\"}, \"baxis\": {\"endlinecolor\": \"#2a3f5f\", \"gridcolor\": \"white\", \"linecolor\": \"white\", \"minorgridcolor\": \"white\", \"startlinecolor\": \"#2a3f5f\"}, \"type\": \"carpet\"}], \"choropleth\": [{\"colorbar\": {\"outlinewidth\": 0, \"ticks\": \"\"}, \"type\": \"choropleth\"}], \"contour\": [{\"colorbar\": {\"outlinewidth\": 0, \"ticks\": \"\"}, \"colorscale\": [[0.0, \"#0d0887\"], [0.1111111111111111, \"#46039f\"], [0.2222222222222222, \"#7201a8\"], [0.3333333333333333, \"#9c179e\"], [0.4444444444444444, \"#bd3786\"], [0.5555555555555556, \"#d8576b\"], [0.6666666666666666, \"#ed7953\"], [0.7777777777777778, \"#fb9f3a\"], [0.8888888888888888, \"#fdca26\"], [1.0, \"#f0f921\"]], \"type\": \"contour\"}], \"contourcarpet\": [{\"colorbar\": {\"outlinewidth\": 0, \"ticks\": \"\"}, \"type\": \"contourcarpet\"}], \"heatmap\": [{\"colorbar\": {\"outlinewidth\": 0, \"ticks\": \"\"}, \"colorscale\": [[0.0, \"#0d0887\"], [0.1111111111111111, \"#46039f\"], [0.2222222222222222, \"#7201a8\"], [0.3333333333333333, \"#9c179e\"], [0.4444444444444444, \"#bd3786\"], [0.5555555555555556, \"#d8576b\"], [0.6666666666666666, \"#ed7953\"], [0.7777777777777778, \"#fb9f3a\"], [0.8888888888888888, \"#fdca26\"], [1.0, \"#f0f921\"]], \"type\": \"heatmap\"}], \"heatmapgl\": [{\"colorbar\": {\"outlinewidth\": 0, \"ticks\": \"\"}, \"colorscale\": [[0.0, \"#0d0887\"], [0.1111111111111111, \"#46039f\"], [0.2222222222222222, \"#7201a8\"], [0.3333333333333333, \"#9c179e\"], [0.4444444444444444, \"#bd3786\"], [0.5555555555555556, \"#d8576b\"], [0.6666666666666666, \"#ed7953\"], [0.7777777777777778, \"#fb9f3a\"], [0.8888888888888888, \"#fdca26\"], [1.0, \"#f0f921\"]], \"type\": \"heatmapgl\"}], \"histogram\": [{\"marker\": {\"colorbar\": {\"outlinewidth\": 0, \"ticks\": \"\"}}, \"type\": \"histogram\"}], \"histogram2d\": [{\"colorbar\": {\"outlinewidth\": 0, \"ticks\": \"\"}, \"colorscale\": [[0.0, \"#0d0887\"], [0.1111111111111111, \"#46039f\"], [0.2222222222222222, \"#7201a8\"], [0.3333333333333333, \"#9c179e\"], [0.4444444444444444, \"#bd3786\"], [0.5555555555555556, \"#d8576b\"], [0.6666666666666666, \"#ed7953\"], [0.7777777777777778, \"#fb9f3a\"], [0.8888888888888888, \"#fdca26\"], [1.0, \"#f0f921\"]], \"type\": \"histogram2d\"}], \"histogram2dcontour\": [{\"colorbar\": {\"outlinewidth\": 0, \"ticks\": \"\"}, \"colorscale\": [[0.0, \"#0d0887\"], [0.1111111111111111, \"#46039f\"], [0.2222222222222222, \"#7201a8\"], [0.3333333333333333, \"#9c179e\"], [0.4444444444444444, \"#bd3786\"], [0.5555555555555556, \"#d8576b\"], [0.6666666666666666, \"#ed7953\"], [0.7777777777777778, \"#fb9f3a\"], [0.8888888888888888, \"#fdca26\"], [1.0, \"#f0f921\"]], \"type\": \"histogram2dcontour\"}], \"mesh3d\": [{\"colorbar\": {\"outlinewidth\": 0, \"ticks\": \"\"}, \"type\": \"mesh3d\"}], \"parcoords\": [{\"line\": {\"colorbar\": {\"outlinewidth\": 0, \"ticks\": \"\"}}, \"type\": \"parcoords\"}], \"pie\": [{\"automargin\": true, \"type\": \"pie\"}], \"scatter\": [{\"marker\": {\"colorbar\": {\"outlinewidth\": 0, \"ticks\": \"\"}}, \"type\": \"scatter\"}], \"scatter3d\": [{\"line\": {\"colorbar\": {\"outlinewidth\": 0, \"ticks\": \"\"}}, \"marker\": {\"colorbar\": {\"outlinewidth\": 0, \"ticks\": \"\"}}, \"type\": \"scatter3d\"}], \"scattercarpet\": [{\"marker\": {\"colorbar\": {\"outlinewidth\": 0, \"ticks\": \"\"}}, \"type\": \"scattercarpet\"}], \"scattergeo\": [{\"marker\": {\"colorbar\": {\"outlinewidth\": 0, \"ticks\": \"\"}}, \"type\": \"scattergeo\"}], \"scattergl\": [{\"marker\": {\"colorbar\": {\"outlinewidth\": 0, \"ticks\": \"\"}}, \"type\": \"scattergl\"}], \"scattermapbox\": [{\"marker\": {\"colorbar\": {\"outlinewidth\": 0, \"ticks\": \"\"}}, \"type\": \"scattermapbox\"}], \"scatterpolar\": [{\"marker\": {\"colorbar\": {\"outlinewidth\": 0, \"ticks\": \"\"}}, \"type\": \"scatterpolar\"}], \"scatterpolargl\": [{\"marker\": {\"colorbar\": {\"outlinewidth\": 0, \"ticks\": \"\"}}, \"type\": \"scatterpolargl\"}], \"scatterternary\": [{\"marker\": {\"colorbar\": {\"outlinewidth\": 0, \"ticks\": \"\"}}, \"type\": \"scatterternary\"}], \"surface\": [{\"colorbar\": {\"outlinewidth\": 0, \"ticks\": \"\"}, \"colorscale\": [[0.0, \"#0d0887\"], [0.1111111111111111, \"#46039f\"], [0.2222222222222222, \"#7201a8\"], [0.3333333333333333, \"#9c179e\"], [0.4444444444444444, \"#bd3786\"], [0.5555555555555556, \"#d8576b\"], [0.6666666666666666, \"#ed7953\"], [0.7777777777777778, \"#fb9f3a\"], [0.8888888888888888, \"#fdca26\"], [1.0, \"#f0f921\"]], \"type\": \"surface\"}], \"table\": [{\"cells\": {\"fill\": {\"color\": \"#EBF0F8\"}, \"line\": {\"color\": \"white\"}}, \"header\": {\"fill\": {\"color\": \"#C8D4E3\"}, \"line\": {\"color\": \"white\"}}, \"type\": \"table\"}]}, \"layout\": {\"annotationdefaults\": {\"arrowcolor\": \"#2a3f5f\", \"arrowhead\": 0, \"arrowwidth\": 1}, \"coloraxis\": {\"colorbar\": {\"outlinewidth\": 0, \"ticks\": \"\"}}, \"colorscale\": {\"diverging\": [[0, \"#8e0152\"], [0.1, \"#c51b7d\"], [0.2, \"#de77ae\"], [0.3, \"#f1b6da\"], [0.4, \"#fde0ef\"], [0.5, \"#f7f7f7\"], [0.6, \"#e6f5d0\"], [0.7, \"#b8e186\"], [0.8, \"#7fbc41\"], [0.9, \"#4d9221\"], [1, \"#276419\"]], \"sequential\": [[0.0, \"#0d0887\"], [0.1111111111111111, \"#46039f\"], [0.2222222222222222, \"#7201a8\"], [0.3333333333333333, \"#9c179e\"], [0.4444444444444444, \"#bd3786\"], [0.5555555555555556, \"#d8576b\"], [0.6666666666666666, \"#ed7953\"], [0.7777777777777778, \"#fb9f3a\"], [0.8888888888888888, \"#fdca26\"], [1.0, \"#f0f921\"]], \"sequentialminus\": [[0.0, \"#0d0887\"], [0.1111111111111111, \"#46039f\"], [0.2222222222222222, \"#7201a8\"], [0.3333333333333333, \"#9c179e\"], [0.4444444444444444, \"#bd3786\"], [0.5555555555555556, \"#d8576b\"], [0.6666666666666666, \"#ed7953\"], [0.7777777777777778, \"#fb9f3a\"], [0.8888888888888888, \"#fdca26\"], [1.0, \"#f0f921\"]]}, \"colorway\": [\"#636efa\", \"#EF553B\", \"#00cc96\", \"#ab63fa\", \"#FFA15A\", \"#19d3f3\", \"#FF6692\", \"#B6E880\", \"#FF97FF\", \"#FECB52\"], \"font\": {\"color\": \"#2a3f5f\"}, \"geo\": {\"bgcolor\": \"white\", \"lakecolor\": \"white\", \"landcolor\": \"#E5ECF6\", \"showlakes\": true, \"showland\": true, \"subunitcolor\": \"white\"}, \"hoverlabel\": {\"align\": \"left\"}, \"hovermode\": \"closest\", \"mapbox\": {\"style\": \"light\"}, \"paper_bgcolor\": \"white\", \"plot_bgcolor\": \"#E5ECF6\", \"polar\": {\"angularaxis\": {\"gridcolor\": \"white\", \"linecolor\": \"white\", \"ticks\": \"\"}, \"bgcolor\": \"#E5ECF6\", \"radialaxis\": {\"gridcolor\": \"white\", \"linecolor\": \"white\", \"ticks\": \"\"}}, \"scene\": {\"xaxis\": {\"backgroundcolor\": \"#E5ECF6\", \"gridcolor\": \"white\", \"gridwidth\": 2, \"linecolor\": \"white\", \"showbackground\": true, \"ticks\": \"\", \"zerolinecolor\": \"white\"}, \"yaxis\": {\"backgroundcolor\": \"#E5ECF6\", \"gridcolor\": \"white\", \"gridwidth\": 2, \"linecolor\": \"white\", \"showbackground\": true, \"ticks\": \"\", \"zerolinecolor\": \"white\"}, \"zaxis\": {\"backgroundcolor\": \"#E5ECF6\", \"gridcolor\": \"white\", \"gridwidth\": 2, \"linecolor\": \"white\", \"showbackground\": true, \"ticks\": \"\", \"zerolinecolor\": \"white\"}}, \"shapedefaults\": {\"line\": {\"color\": \"#2a3f5f\"}}, \"ternary\": {\"aaxis\": {\"gridcolor\": \"white\", \"linecolor\": \"white\", \"ticks\": \"\"}, \"baxis\": {\"gridcolor\": \"white\", \"linecolor\": \"white\", \"ticks\": \"\"}, \"bgcolor\": \"#E5ECF6\", \"caxis\": {\"gridcolor\": \"white\", \"linecolor\": \"white\", \"ticks\": \"\"}}, \"title\": {\"x\": 0.05}, \"xaxis\": {\"automargin\": true, \"gridcolor\": \"white\", \"linecolor\": \"white\", \"ticks\": \"\", \"title\": {\"standoff\": 15}, \"zerolinecolor\": \"white\", \"zerolinewidth\": 2}, \"yaxis\": {\"automargin\": true, \"gridcolor\": \"white\", \"linecolor\": \"white\", \"ticks\": \"\", \"title\": {\"standoff\": 15}, \"zerolinecolor\": \"white\", \"zerolinewidth\": 2}}}},\n",
       "                        {\"responsive\": true}\n",
       "                    ).then(function(){\n",
       "                            \n",
       "var gd = document.getElementById('a5e272a6-9e2e-4293-a8b9-d1f593c4b991');\n",
       "var x = new MutationObserver(function (mutations, observer) {{\n",
       "        var display = window.getComputedStyle(gd).display;\n",
       "        if (!display || display === 'none') {{\n",
       "            console.log([gd, 'removed!']);\n",
       "            Plotly.purge(gd);\n",
       "            observer.disconnect();\n",
       "        }}\n",
       "}});\n",
       "\n",
       "// Listen for the removal of the full notebook cells\n",
       "var notebookContainer = gd.closest('#notebook-container');\n",
       "if (notebookContainer) {{\n",
       "    x.observe(notebookContainer, {childList: true});\n",
       "}}\n",
       "\n",
       "// Listen for the clearing of the current output cell\n",
       "var outputEl = gd.closest('.output');\n",
       "if (outputEl) {{\n",
       "    x.observe(outputEl, {childList: true});\n",
       "}}\n",
       "\n",
       "                        })\n",
       "                };\n",
       "                });\n",
       "            </script>\n",
       "        </div>"
      ]
     },
     "metadata": {},
     "output_type": "display_data"
    }
   ],
   "source": [
    "fig = go.Figure(go.Histogram(x=quantity['PASTA'], xbins={\"start\":20, \"end\":55, \"size\":5}))\n",
    "fig.show()\n",
    "# https://www.jianshu.com/p/4f4daf47cc85 plotly参数详解"
   ]
  },
  {
   "cell_type": "code",
   "execution_count": 32,
   "metadata": {
    "scrolled": true
   },
   "outputs": [
    {
     "data": {
      "text/html": [
       "<div>\n",
       "<style scoped>\n",
       "    .dataframe tbody tr th:only-of-type {\n",
       "        vertical-align: middle;\n",
       "    }\n",
       "\n",
       "    .dataframe tbody tr th {\n",
       "        vertical-align: top;\n",
       "    }\n",
       "\n",
       "    .dataframe thead th {\n",
       "        text-align: right;\n",
       "    }\n",
       "</style>\n",
       "<table border=\"1\" class=\"dataframe\">\n",
       "  <thead>\n",
       "    <tr style=\"text-align: right;\">\n",
       "      <th></th>\n",
       "      <th>HHID</th>\n",
       "      <th>TIME</th>\n",
       "      <th>PASTA</th>\n",
       "      <th>EXPOS</th>\n",
       "      <th>AGE</th>\n",
       "      <th>INCOME</th>\n",
       "      <th>AREA</th>\n",
       "    </tr>\n",
       "  </thead>\n",
       "  <tbody>\n",
       "    <tr>\n",
       "      <th>0</th>\n",
       "      <td>1</td>\n",
       "      <td>1</td>\n",
       "      <td>0.939444</td>\n",
       "      <td>1</td>\n",
       "      <td>61.710758</td>\n",
       "      <td>25186.798772</td>\n",
       "      <td>3</td>\n",
       "    </tr>\n",
       "    <tr>\n",
       "      <th>1</th>\n",
       "      <td>1</td>\n",
       "      <td>2</td>\n",
       "      <td>2.560969</td>\n",
       "      <td>2</td>\n",
       "      <td>61.710758</td>\n",
       "      <td>25186.798772</td>\n",
       "      <td>3</td>\n",
       "    </tr>\n",
       "    <tr>\n",
       "      <th>2</th>\n",
       "      <td>1</td>\n",
       "      <td>3</td>\n",
       "      <td>0.901123</td>\n",
       "      <td>0</td>\n",
       "      <td>61.710758</td>\n",
       "      <td>25186.798772</td>\n",
       "      <td>3</td>\n",
       "    </tr>\n",
       "    <tr>\n",
       "      <th>3</th>\n",
       "      <td>1</td>\n",
       "      <td>4</td>\n",
       "      <td>1.916530</td>\n",
       "      <td>1</td>\n",
       "      <td>61.710758</td>\n",
       "      <td>25186.798772</td>\n",
       "      <td>3</td>\n",
       "    </tr>\n",
       "    <tr>\n",
       "      <th>4</th>\n",
       "      <td>1</td>\n",
       "      <td>5</td>\n",
       "      <td>1.548751</td>\n",
       "      <td>0</td>\n",
       "      <td>61.710758</td>\n",
       "      <td>25186.798772</td>\n",
       "      <td>3</td>\n",
       "    </tr>\n",
       "  </tbody>\n",
       "</table>\n",
       "</div>"
      ],
      "text/plain": [
       "   HHID  TIME     PASTA  EXPOS        AGE        INCOME  AREA\n",
       "0     1     1  0.939444      1  61.710758  25186.798772     3\n",
       "1     1     2  2.560969      2  61.710758  25186.798772     3\n",
       "2     1     3  0.901123      0  61.710758  25186.798772     3\n",
       "3     1     4  1.916530      1  61.710758  25186.798772     3\n",
       "4     1     5  1.548751      0  61.710758  25186.798772     3"
      ]
     },
     "execution_count": 32,
     "metadata": {},
     "output_type": "execute_result"
    }
   ],
   "source": [
    "df.head()"
   ]
  },
  {
   "cell_type": "markdown",
   "metadata": {},
   "source": [
    "# 8.Which of the following graphs reports the correct time series of the overall total purchase of pasta? (Sum the purchases by time units and plot the quantity by time unit.)"
   ]
  },
  {
   "cell_type": "code",
   "execution_count": 95,
   "metadata": {
    "scrolled": true
   },
   "outputs": [
    {
     "data": {
      "application/vnd.plotly.v1+json": {
       "config": {
        "plotlyServerURL": "https://plot.ly"
       },
       "data": [
        {
         "mode": "markers",
         "type": "scatter",
         "x": [
          1,
          2,
          3,
          4,
          5,
          6,
          7,
          8,
          9,
          10,
          11,
          12,
          13,
          14,
          15,
          16,
          17,
          18,
          19,
          20
         ],
         "y": [
          3705.7411578875294,
          3599.028147875406,
          3699.5177622811707,
          3612.204636220981,
          3760.6959098122597,
          3668.2753701181136,
          3702.510260878444,
          3677.773211428394,
          3648.582795941561,
          3728.2837012948808,
          3694.632177155858,
          3612.4707254047635,
          3717.2972171837723,
          3577.707838941692,
          3713.876669877314,
          3665.2142650138185,
          3791.0810826306333,
          3695.177017161133,
          3708.9597415329754,
          3682.751853124486
         ]
        }
       ],
       "layout": {
        "template": {
         "data": {
          "bar": [
           {
            "error_x": {
             "color": "#2a3f5f"
            },
            "error_y": {
             "color": "#2a3f5f"
            },
            "marker": {
             "line": {
              "color": "#E5ECF6",
              "width": 0.5
             }
            },
            "type": "bar"
           }
          ],
          "barpolar": [
           {
            "marker": {
             "line": {
              "color": "#E5ECF6",
              "width": 0.5
             }
            },
            "type": "barpolar"
           }
          ],
          "carpet": [
           {
            "aaxis": {
             "endlinecolor": "#2a3f5f",
             "gridcolor": "white",
             "linecolor": "white",
             "minorgridcolor": "white",
             "startlinecolor": "#2a3f5f"
            },
            "baxis": {
             "endlinecolor": "#2a3f5f",
             "gridcolor": "white",
             "linecolor": "white",
             "minorgridcolor": "white",
             "startlinecolor": "#2a3f5f"
            },
            "type": "carpet"
           }
          ],
          "choropleth": [
           {
            "colorbar": {
             "outlinewidth": 0,
             "ticks": ""
            },
            "type": "choropleth"
           }
          ],
          "contour": [
           {
            "colorbar": {
             "outlinewidth": 0,
             "ticks": ""
            },
            "colorscale": [
             [
              0,
              "#0d0887"
             ],
             [
              0.1111111111111111,
              "#46039f"
             ],
             [
              0.2222222222222222,
              "#7201a8"
             ],
             [
              0.3333333333333333,
              "#9c179e"
             ],
             [
              0.4444444444444444,
              "#bd3786"
             ],
             [
              0.5555555555555556,
              "#d8576b"
             ],
             [
              0.6666666666666666,
              "#ed7953"
             ],
             [
              0.7777777777777778,
              "#fb9f3a"
             ],
             [
              0.8888888888888888,
              "#fdca26"
             ],
             [
              1,
              "#f0f921"
             ]
            ],
            "type": "contour"
           }
          ],
          "contourcarpet": [
           {
            "colorbar": {
             "outlinewidth": 0,
             "ticks": ""
            },
            "type": "contourcarpet"
           }
          ],
          "heatmap": [
           {
            "colorbar": {
             "outlinewidth": 0,
             "ticks": ""
            },
            "colorscale": [
             [
              0,
              "#0d0887"
             ],
             [
              0.1111111111111111,
              "#46039f"
             ],
             [
              0.2222222222222222,
              "#7201a8"
             ],
             [
              0.3333333333333333,
              "#9c179e"
             ],
             [
              0.4444444444444444,
              "#bd3786"
             ],
             [
              0.5555555555555556,
              "#d8576b"
             ],
             [
              0.6666666666666666,
              "#ed7953"
             ],
             [
              0.7777777777777778,
              "#fb9f3a"
             ],
             [
              0.8888888888888888,
              "#fdca26"
             ],
             [
              1,
              "#f0f921"
             ]
            ],
            "type": "heatmap"
           }
          ],
          "heatmapgl": [
           {
            "colorbar": {
             "outlinewidth": 0,
             "ticks": ""
            },
            "colorscale": [
             [
              0,
              "#0d0887"
             ],
             [
              0.1111111111111111,
              "#46039f"
             ],
             [
              0.2222222222222222,
              "#7201a8"
             ],
             [
              0.3333333333333333,
              "#9c179e"
             ],
             [
              0.4444444444444444,
              "#bd3786"
             ],
             [
              0.5555555555555556,
              "#d8576b"
             ],
             [
              0.6666666666666666,
              "#ed7953"
             ],
             [
              0.7777777777777778,
              "#fb9f3a"
             ],
             [
              0.8888888888888888,
              "#fdca26"
             ],
             [
              1,
              "#f0f921"
             ]
            ],
            "type": "heatmapgl"
           }
          ],
          "histogram": [
           {
            "marker": {
             "colorbar": {
              "outlinewidth": 0,
              "ticks": ""
             }
            },
            "type": "histogram"
           }
          ],
          "histogram2d": [
           {
            "colorbar": {
             "outlinewidth": 0,
             "ticks": ""
            },
            "colorscale": [
             [
              0,
              "#0d0887"
             ],
             [
              0.1111111111111111,
              "#46039f"
             ],
             [
              0.2222222222222222,
              "#7201a8"
             ],
             [
              0.3333333333333333,
              "#9c179e"
             ],
             [
              0.4444444444444444,
              "#bd3786"
             ],
             [
              0.5555555555555556,
              "#d8576b"
             ],
             [
              0.6666666666666666,
              "#ed7953"
             ],
             [
              0.7777777777777778,
              "#fb9f3a"
             ],
             [
              0.8888888888888888,
              "#fdca26"
             ],
             [
              1,
              "#f0f921"
             ]
            ],
            "type": "histogram2d"
           }
          ],
          "histogram2dcontour": [
           {
            "colorbar": {
             "outlinewidth": 0,
             "ticks": ""
            },
            "colorscale": [
             [
              0,
              "#0d0887"
             ],
             [
              0.1111111111111111,
              "#46039f"
             ],
             [
              0.2222222222222222,
              "#7201a8"
             ],
             [
              0.3333333333333333,
              "#9c179e"
             ],
             [
              0.4444444444444444,
              "#bd3786"
             ],
             [
              0.5555555555555556,
              "#d8576b"
             ],
             [
              0.6666666666666666,
              "#ed7953"
             ],
             [
              0.7777777777777778,
              "#fb9f3a"
             ],
             [
              0.8888888888888888,
              "#fdca26"
             ],
             [
              1,
              "#f0f921"
             ]
            ],
            "type": "histogram2dcontour"
           }
          ],
          "mesh3d": [
           {
            "colorbar": {
             "outlinewidth": 0,
             "ticks": ""
            },
            "type": "mesh3d"
           }
          ],
          "parcoords": [
           {
            "line": {
             "colorbar": {
              "outlinewidth": 0,
              "ticks": ""
             }
            },
            "type": "parcoords"
           }
          ],
          "pie": [
           {
            "automargin": true,
            "type": "pie"
           }
          ],
          "scatter": [
           {
            "marker": {
             "colorbar": {
              "outlinewidth": 0,
              "ticks": ""
             }
            },
            "type": "scatter"
           }
          ],
          "scatter3d": [
           {
            "line": {
             "colorbar": {
              "outlinewidth": 0,
              "ticks": ""
             }
            },
            "marker": {
             "colorbar": {
              "outlinewidth": 0,
              "ticks": ""
             }
            },
            "type": "scatter3d"
           }
          ],
          "scattercarpet": [
           {
            "marker": {
             "colorbar": {
              "outlinewidth": 0,
              "ticks": ""
             }
            },
            "type": "scattercarpet"
           }
          ],
          "scattergeo": [
           {
            "marker": {
             "colorbar": {
              "outlinewidth": 0,
              "ticks": ""
             }
            },
            "type": "scattergeo"
           }
          ],
          "scattergl": [
           {
            "marker": {
             "colorbar": {
              "outlinewidth": 0,
              "ticks": ""
             }
            },
            "type": "scattergl"
           }
          ],
          "scattermapbox": [
           {
            "marker": {
             "colorbar": {
              "outlinewidth": 0,
              "ticks": ""
             }
            },
            "type": "scattermapbox"
           }
          ],
          "scatterpolar": [
           {
            "marker": {
             "colorbar": {
              "outlinewidth": 0,
              "ticks": ""
             }
            },
            "type": "scatterpolar"
           }
          ],
          "scatterpolargl": [
           {
            "marker": {
             "colorbar": {
              "outlinewidth": 0,
              "ticks": ""
             }
            },
            "type": "scatterpolargl"
           }
          ],
          "scatterternary": [
           {
            "marker": {
             "colorbar": {
              "outlinewidth": 0,
              "ticks": ""
             }
            },
            "type": "scatterternary"
           }
          ],
          "surface": [
           {
            "colorbar": {
             "outlinewidth": 0,
             "ticks": ""
            },
            "colorscale": [
             [
              0,
              "#0d0887"
             ],
             [
              0.1111111111111111,
              "#46039f"
             ],
             [
              0.2222222222222222,
              "#7201a8"
             ],
             [
              0.3333333333333333,
              "#9c179e"
             ],
             [
              0.4444444444444444,
              "#bd3786"
             ],
             [
              0.5555555555555556,
              "#d8576b"
             ],
             [
              0.6666666666666666,
              "#ed7953"
             ],
             [
              0.7777777777777778,
              "#fb9f3a"
             ],
             [
              0.8888888888888888,
              "#fdca26"
             ],
             [
              1,
              "#f0f921"
             ]
            ],
            "type": "surface"
           }
          ],
          "table": [
           {
            "cells": {
             "fill": {
              "color": "#EBF0F8"
             },
             "line": {
              "color": "white"
             }
            },
            "header": {
             "fill": {
              "color": "#C8D4E3"
             },
             "line": {
              "color": "white"
             }
            },
            "type": "table"
           }
          ]
         },
         "layout": {
          "annotationdefaults": {
           "arrowcolor": "#2a3f5f",
           "arrowhead": 0,
           "arrowwidth": 1
          },
          "coloraxis": {
           "colorbar": {
            "outlinewidth": 0,
            "ticks": ""
           }
          },
          "colorscale": {
           "diverging": [
            [
             0,
             "#8e0152"
            ],
            [
             0.1,
             "#c51b7d"
            ],
            [
             0.2,
             "#de77ae"
            ],
            [
             0.3,
             "#f1b6da"
            ],
            [
             0.4,
             "#fde0ef"
            ],
            [
             0.5,
             "#f7f7f7"
            ],
            [
             0.6,
             "#e6f5d0"
            ],
            [
             0.7,
             "#b8e186"
            ],
            [
             0.8,
             "#7fbc41"
            ],
            [
             0.9,
             "#4d9221"
            ],
            [
             1,
             "#276419"
            ]
           ],
           "sequential": [
            [
             0,
             "#0d0887"
            ],
            [
             0.1111111111111111,
             "#46039f"
            ],
            [
             0.2222222222222222,
             "#7201a8"
            ],
            [
             0.3333333333333333,
             "#9c179e"
            ],
            [
             0.4444444444444444,
             "#bd3786"
            ],
            [
             0.5555555555555556,
             "#d8576b"
            ],
            [
             0.6666666666666666,
             "#ed7953"
            ],
            [
             0.7777777777777778,
             "#fb9f3a"
            ],
            [
             0.8888888888888888,
             "#fdca26"
            ],
            [
             1,
             "#f0f921"
            ]
           ],
           "sequentialminus": [
            [
             0,
             "#0d0887"
            ],
            [
             0.1111111111111111,
             "#46039f"
            ],
            [
             0.2222222222222222,
             "#7201a8"
            ],
            [
             0.3333333333333333,
             "#9c179e"
            ],
            [
             0.4444444444444444,
             "#bd3786"
            ],
            [
             0.5555555555555556,
             "#d8576b"
            ],
            [
             0.6666666666666666,
             "#ed7953"
            ],
            [
             0.7777777777777778,
             "#fb9f3a"
            ],
            [
             0.8888888888888888,
             "#fdca26"
            ],
            [
             1,
             "#f0f921"
            ]
           ]
          },
          "colorway": [
           "#636efa",
           "#EF553B",
           "#00cc96",
           "#ab63fa",
           "#FFA15A",
           "#19d3f3",
           "#FF6692",
           "#B6E880",
           "#FF97FF",
           "#FECB52"
          ],
          "font": {
           "color": "#2a3f5f"
          },
          "geo": {
           "bgcolor": "white",
           "lakecolor": "white",
           "landcolor": "#E5ECF6",
           "showlakes": true,
           "showland": true,
           "subunitcolor": "white"
          },
          "hoverlabel": {
           "align": "left"
          },
          "hovermode": "closest",
          "mapbox": {
           "style": "light"
          },
          "paper_bgcolor": "white",
          "plot_bgcolor": "#E5ECF6",
          "polar": {
           "angularaxis": {
            "gridcolor": "white",
            "linecolor": "white",
            "ticks": ""
           },
           "bgcolor": "#E5ECF6",
           "radialaxis": {
            "gridcolor": "white",
            "linecolor": "white",
            "ticks": ""
           }
          },
          "scene": {
           "xaxis": {
            "backgroundcolor": "#E5ECF6",
            "gridcolor": "white",
            "gridwidth": 2,
            "linecolor": "white",
            "showbackground": true,
            "ticks": "",
            "zerolinecolor": "white"
           },
           "yaxis": {
            "backgroundcolor": "#E5ECF6",
            "gridcolor": "white",
            "gridwidth": 2,
            "linecolor": "white",
            "showbackground": true,
            "ticks": "",
            "zerolinecolor": "white"
           },
           "zaxis": {
            "backgroundcolor": "#E5ECF6",
            "gridcolor": "white",
            "gridwidth": 2,
            "linecolor": "white",
            "showbackground": true,
            "ticks": "",
            "zerolinecolor": "white"
           }
          },
          "shapedefaults": {
           "line": {
            "color": "#2a3f5f"
           }
          },
          "ternary": {
           "aaxis": {
            "gridcolor": "white",
            "linecolor": "white",
            "ticks": ""
           },
           "baxis": {
            "gridcolor": "white",
            "linecolor": "white",
            "ticks": ""
           },
           "bgcolor": "#E5ECF6",
           "caxis": {
            "gridcolor": "white",
            "linecolor": "white",
            "ticks": ""
           }
          },
          "title": {
           "x": 0.05
          },
          "xaxis": {
           "automargin": true,
           "gridcolor": "white",
           "linecolor": "white",
           "ticks": "",
           "title": {
            "standoff": 15
           },
           "zerolinecolor": "white",
           "zerolinewidth": 2
          },
          "yaxis": {
           "automargin": true,
           "gridcolor": "white",
           "linecolor": "white",
           "ticks": "",
           "title": {
            "standoff": 15
           },
           "zerolinecolor": "white",
           "zerolinewidth": 2
          }
         }
        },
        "width": 600
       }
      },
      "text/html": [
       "<div>\n",
       "        \n",
       "        \n",
       "            <div id=\"4e22398a-60b7-4cd3-9033-95154eabac6c\" class=\"plotly-graph-div\" style=\"height:525px; width:600px;\"></div>\n",
       "            <script type=\"text/javascript\">\n",
       "                require([\"plotly\"], function(Plotly) {\n",
       "                    window.PLOTLYENV=window.PLOTLYENV || {};\n",
       "                    \n",
       "                if (document.getElementById(\"4e22398a-60b7-4cd3-9033-95154eabac6c\")) {\n",
       "                    Plotly.newPlot(\n",
       "                        '4e22398a-60b7-4cd3-9033-95154eabac6c',\n",
       "                        [{\"mode\": \"markers\", \"type\": \"scatter\", \"x\": [1, 2, 3, 4, 5, 6, 7, 8, 9, 10, 11, 12, 13, 14, 15, 16, 17, 18, 19, 20], \"y\": [3705.7411578875294, 3599.028147875406, 3699.5177622811707, 3612.204636220981, 3760.6959098122597, 3668.2753701181136, 3702.510260878444, 3677.773211428394, 3648.582795941561, 3728.2837012948808, 3694.632177155858, 3612.4707254047635, 3717.2972171837723, 3577.707838941692, 3713.876669877314, 3665.2142650138185, 3791.0810826306333, 3695.177017161133, 3708.9597415329754, 3682.751853124486]}],\n",
       "                        {\"template\": {\"data\": {\"bar\": [{\"error_x\": {\"color\": \"#2a3f5f\"}, \"error_y\": {\"color\": \"#2a3f5f\"}, \"marker\": {\"line\": {\"color\": \"#E5ECF6\", \"width\": 0.5}}, \"type\": \"bar\"}], \"barpolar\": [{\"marker\": {\"line\": {\"color\": \"#E5ECF6\", \"width\": 0.5}}, \"type\": \"barpolar\"}], \"carpet\": [{\"aaxis\": {\"endlinecolor\": \"#2a3f5f\", \"gridcolor\": \"white\", \"linecolor\": \"white\", \"minorgridcolor\": \"white\", \"startlinecolor\": \"#2a3f5f\"}, \"baxis\": {\"endlinecolor\": \"#2a3f5f\", \"gridcolor\": \"white\", \"linecolor\": \"white\", \"minorgridcolor\": \"white\", \"startlinecolor\": \"#2a3f5f\"}, \"type\": \"carpet\"}], \"choropleth\": [{\"colorbar\": {\"outlinewidth\": 0, \"ticks\": \"\"}, \"type\": \"choropleth\"}], \"contour\": [{\"colorbar\": {\"outlinewidth\": 0, \"ticks\": \"\"}, \"colorscale\": [[0.0, \"#0d0887\"], [0.1111111111111111, \"#46039f\"], [0.2222222222222222, \"#7201a8\"], [0.3333333333333333, \"#9c179e\"], [0.4444444444444444, \"#bd3786\"], [0.5555555555555556, \"#d8576b\"], [0.6666666666666666, \"#ed7953\"], [0.7777777777777778, \"#fb9f3a\"], [0.8888888888888888, \"#fdca26\"], [1.0, \"#f0f921\"]], \"type\": \"contour\"}], \"contourcarpet\": [{\"colorbar\": {\"outlinewidth\": 0, \"ticks\": \"\"}, \"type\": \"contourcarpet\"}], \"heatmap\": [{\"colorbar\": {\"outlinewidth\": 0, \"ticks\": \"\"}, \"colorscale\": [[0.0, \"#0d0887\"], [0.1111111111111111, \"#46039f\"], [0.2222222222222222, \"#7201a8\"], [0.3333333333333333, \"#9c179e\"], [0.4444444444444444, \"#bd3786\"], [0.5555555555555556, \"#d8576b\"], [0.6666666666666666, \"#ed7953\"], [0.7777777777777778, \"#fb9f3a\"], [0.8888888888888888, \"#fdca26\"], [1.0, \"#f0f921\"]], \"type\": \"heatmap\"}], \"heatmapgl\": [{\"colorbar\": {\"outlinewidth\": 0, \"ticks\": \"\"}, \"colorscale\": [[0.0, \"#0d0887\"], [0.1111111111111111, \"#46039f\"], [0.2222222222222222, \"#7201a8\"], [0.3333333333333333, \"#9c179e\"], [0.4444444444444444, \"#bd3786\"], [0.5555555555555556, \"#d8576b\"], [0.6666666666666666, \"#ed7953\"], [0.7777777777777778, \"#fb9f3a\"], [0.8888888888888888, \"#fdca26\"], [1.0, \"#f0f921\"]], \"type\": \"heatmapgl\"}], \"histogram\": [{\"marker\": {\"colorbar\": {\"outlinewidth\": 0, \"ticks\": \"\"}}, \"type\": \"histogram\"}], \"histogram2d\": [{\"colorbar\": {\"outlinewidth\": 0, \"ticks\": \"\"}, \"colorscale\": [[0.0, \"#0d0887\"], [0.1111111111111111, \"#46039f\"], [0.2222222222222222, \"#7201a8\"], [0.3333333333333333, \"#9c179e\"], [0.4444444444444444, \"#bd3786\"], [0.5555555555555556, \"#d8576b\"], [0.6666666666666666, \"#ed7953\"], [0.7777777777777778, \"#fb9f3a\"], [0.8888888888888888, \"#fdca26\"], [1.0, \"#f0f921\"]], \"type\": \"histogram2d\"}], \"histogram2dcontour\": [{\"colorbar\": {\"outlinewidth\": 0, \"ticks\": \"\"}, \"colorscale\": [[0.0, \"#0d0887\"], [0.1111111111111111, \"#46039f\"], [0.2222222222222222, \"#7201a8\"], [0.3333333333333333, \"#9c179e\"], [0.4444444444444444, \"#bd3786\"], [0.5555555555555556, \"#d8576b\"], [0.6666666666666666, \"#ed7953\"], [0.7777777777777778, \"#fb9f3a\"], [0.8888888888888888, \"#fdca26\"], [1.0, \"#f0f921\"]], \"type\": \"histogram2dcontour\"}], \"mesh3d\": [{\"colorbar\": {\"outlinewidth\": 0, \"ticks\": \"\"}, \"type\": \"mesh3d\"}], \"parcoords\": [{\"line\": {\"colorbar\": {\"outlinewidth\": 0, \"ticks\": \"\"}}, \"type\": \"parcoords\"}], \"pie\": [{\"automargin\": true, \"type\": \"pie\"}], \"scatter\": [{\"marker\": {\"colorbar\": {\"outlinewidth\": 0, \"ticks\": \"\"}}, \"type\": \"scatter\"}], \"scatter3d\": [{\"line\": {\"colorbar\": {\"outlinewidth\": 0, \"ticks\": \"\"}}, \"marker\": {\"colorbar\": {\"outlinewidth\": 0, \"ticks\": \"\"}}, \"type\": \"scatter3d\"}], \"scattercarpet\": [{\"marker\": {\"colorbar\": {\"outlinewidth\": 0, \"ticks\": \"\"}}, \"type\": \"scattercarpet\"}], \"scattergeo\": [{\"marker\": {\"colorbar\": {\"outlinewidth\": 0, \"ticks\": \"\"}}, \"type\": \"scattergeo\"}], \"scattergl\": [{\"marker\": {\"colorbar\": {\"outlinewidth\": 0, \"ticks\": \"\"}}, \"type\": \"scattergl\"}], \"scattermapbox\": [{\"marker\": {\"colorbar\": {\"outlinewidth\": 0, \"ticks\": \"\"}}, \"type\": \"scattermapbox\"}], \"scatterpolar\": [{\"marker\": {\"colorbar\": {\"outlinewidth\": 0, \"ticks\": \"\"}}, \"type\": \"scatterpolar\"}], \"scatterpolargl\": [{\"marker\": {\"colorbar\": {\"outlinewidth\": 0, \"ticks\": \"\"}}, \"type\": \"scatterpolargl\"}], \"scatterternary\": [{\"marker\": {\"colorbar\": {\"outlinewidth\": 0, \"ticks\": \"\"}}, \"type\": \"scatterternary\"}], \"surface\": [{\"colorbar\": {\"outlinewidth\": 0, \"ticks\": \"\"}, \"colorscale\": [[0.0, \"#0d0887\"], [0.1111111111111111, \"#46039f\"], [0.2222222222222222, \"#7201a8\"], [0.3333333333333333, \"#9c179e\"], [0.4444444444444444, \"#bd3786\"], [0.5555555555555556, \"#d8576b\"], [0.6666666666666666, \"#ed7953\"], [0.7777777777777778, \"#fb9f3a\"], [0.8888888888888888, \"#fdca26\"], [1.0, \"#f0f921\"]], \"type\": \"surface\"}], \"table\": [{\"cells\": {\"fill\": {\"color\": \"#EBF0F8\"}, \"line\": {\"color\": \"white\"}}, \"header\": {\"fill\": {\"color\": \"#C8D4E3\"}, \"line\": {\"color\": \"white\"}}, \"type\": \"table\"}]}, \"layout\": {\"annotationdefaults\": {\"arrowcolor\": \"#2a3f5f\", \"arrowhead\": 0, \"arrowwidth\": 1}, \"coloraxis\": {\"colorbar\": {\"outlinewidth\": 0, \"ticks\": \"\"}}, \"colorscale\": {\"diverging\": [[0, \"#8e0152\"], [0.1, \"#c51b7d\"], [0.2, \"#de77ae\"], [0.3, \"#f1b6da\"], [0.4, \"#fde0ef\"], [0.5, \"#f7f7f7\"], [0.6, \"#e6f5d0\"], [0.7, \"#b8e186\"], [0.8, \"#7fbc41\"], [0.9, \"#4d9221\"], [1, \"#276419\"]], \"sequential\": [[0.0, \"#0d0887\"], [0.1111111111111111, \"#46039f\"], [0.2222222222222222, \"#7201a8\"], [0.3333333333333333, \"#9c179e\"], [0.4444444444444444, \"#bd3786\"], [0.5555555555555556, \"#d8576b\"], [0.6666666666666666, \"#ed7953\"], [0.7777777777777778, \"#fb9f3a\"], [0.8888888888888888, \"#fdca26\"], [1.0, \"#f0f921\"]], \"sequentialminus\": [[0.0, \"#0d0887\"], [0.1111111111111111, \"#46039f\"], [0.2222222222222222, \"#7201a8\"], [0.3333333333333333, \"#9c179e\"], [0.4444444444444444, \"#bd3786\"], [0.5555555555555556, \"#d8576b\"], [0.6666666666666666, \"#ed7953\"], [0.7777777777777778, \"#fb9f3a\"], [0.8888888888888888, \"#fdca26\"], [1.0, \"#f0f921\"]]}, \"colorway\": [\"#636efa\", \"#EF553B\", \"#00cc96\", \"#ab63fa\", \"#FFA15A\", \"#19d3f3\", \"#FF6692\", \"#B6E880\", \"#FF97FF\", \"#FECB52\"], \"font\": {\"color\": \"#2a3f5f\"}, \"geo\": {\"bgcolor\": \"white\", \"lakecolor\": \"white\", \"landcolor\": \"#E5ECF6\", \"showlakes\": true, \"showland\": true, \"subunitcolor\": \"white\"}, \"hoverlabel\": {\"align\": \"left\"}, \"hovermode\": \"closest\", \"mapbox\": {\"style\": \"light\"}, \"paper_bgcolor\": \"white\", \"plot_bgcolor\": \"#E5ECF6\", \"polar\": {\"angularaxis\": {\"gridcolor\": \"white\", \"linecolor\": \"white\", \"ticks\": \"\"}, \"bgcolor\": \"#E5ECF6\", \"radialaxis\": {\"gridcolor\": \"white\", \"linecolor\": \"white\", \"ticks\": \"\"}}, \"scene\": {\"xaxis\": {\"backgroundcolor\": \"#E5ECF6\", \"gridcolor\": \"white\", \"gridwidth\": 2, \"linecolor\": \"white\", \"showbackground\": true, \"ticks\": \"\", \"zerolinecolor\": \"white\"}, \"yaxis\": {\"backgroundcolor\": \"#E5ECF6\", \"gridcolor\": \"white\", \"gridwidth\": 2, \"linecolor\": \"white\", \"showbackground\": true, \"ticks\": \"\", \"zerolinecolor\": \"white\"}, \"zaxis\": {\"backgroundcolor\": \"#E5ECF6\", \"gridcolor\": \"white\", \"gridwidth\": 2, \"linecolor\": \"white\", \"showbackground\": true, \"ticks\": \"\", \"zerolinecolor\": \"white\"}}, \"shapedefaults\": {\"line\": {\"color\": \"#2a3f5f\"}}, \"ternary\": {\"aaxis\": {\"gridcolor\": \"white\", \"linecolor\": \"white\", \"ticks\": \"\"}, \"baxis\": {\"gridcolor\": \"white\", \"linecolor\": \"white\", \"ticks\": \"\"}, \"bgcolor\": \"#E5ECF6\", \"caxis\": {\"gridcolor\": \"white\", \"linecolor\": \"white\", \"ticks\": \"\"}}, \"title\": {\"x\": 0.05}, \"xaxis\": {\"automargin\": true, \"gridcolor\": \"white\", \"linecolor\": \"white\", \"ticks\": \"\", \"title\": {\"standoff\": 15}, \"zerolinecolor\": \"white\", \"zerolinewidth\": 2}, \"yaxis\": {\"automargin\": true, \"gridcolor\": \"white\", \"linecolor\": \"white\", \"ticks\": \"\", \"title\": {\"standoff\": 15}, \"zerolinecolor\": \"white\", \"zerolinewidth\": 2}}}, \"width\": 600},\n",
       "                        {\"responsive\": true}\n",
       "                    ).then(function(){\n",
       "                            \n",
       "var gd = document.getElementById('4e22398a-60b7-4cd3-9033-95154eabac6c');\n",
       "var x = new MutationObserver(function (mutations, observer) {{\n",
       "        var display = window.getComputedStyle(gd).display;\n",
       "        if (!display || display === 'none') {{\n",
       "            console.log([gd, 'removed!']);\n",
       "            Plotly.purge(gd);\n",
       "            observer.disconnect();\n",
       "        }}\n",
       "}});\n",
       "\n",
       "// Listen for the removal of the full notebook cells\n",
       "var notebookContainer = gd.closest('#notebook-container');\n",
       "if (notebookContainer) {{\n",
       "    x.observe(notebookContainer, {childList: true});\n",
       "}}\n",
       "\n",
       "// Listen for the clearing of the current output cell\n",
       "var outputEl = gd.closest('.output');\n",
       "if (outputEl) {{\n",
       "    x.observe(outputEl, {childList: true});\n",
       "}}\n",
       "\n",
       "                        })\n",
       "                };\n",
       "                });\n",
       "            </script>\n",
       "        </div>"
      ]
     },
     "metadata": {},
     "output_type": "display_data"
    }
   ],
   "source": [
    "# 与正确答案的图形不一样，不知道为什么\n",
    "t_q = df[['TIME', 'PASTA']].groupby(\"TIME\").agg(np.sum)\n",
    "\n",
    "t_q.reset_index(inplace=True)\n",
    "\n",
    "fig = go.Figure(go.Scatter(x=t_q['TIME'], y=t_q['PASTA'], mode='markers'))\n",
    "fig.update_layout(width=600)\n",
    "fig.show()"
   ]
  },
  {
   "cell_type": "code",
   "execution_count": 101,
   "metadata": {},
   "outputs": [
    {
     "data": {
      "text/html": [
       "<div>\n",
       "<style scoped>\n",
       "    .dataframe tbody tr th:only-of-type {\n",
       "        vertical-align: middle;\n",
       "    }\n",
       "\n",
       "    .dataframe tbody tr th {\n",
       "        vertical-align: top;\n",
       "    }\n",
       "\n",
       "    .dataframe thead th {\n",
       "        text-align: right;\n",
       "    }\n",
       "</style>\n",
       "<table border=\"1\" class=\"dataframe\">\n",
       "  <thead>\n",
       "    <tr style=\"text-align: right;\">\n",
       "      <th></th>\n",
       "      <th>TIME</th>\n",
       "      <th>PASTA</th>\n",
       "    </tr>\n",
       "  </thead>\n",
       "  <tbody>\n",
       "    <tr>\n",
       "      <th>0</th>\n",
       "      <td>1</td>\n",
       "      <td>3705.741158</td>\n",
       "    </tr>\n",
       "    <tr>\n",
       "      <th>1</th>\n",
       "      <td>2</td>\n",
       "      <td>3599.028148</td>\n",
       "    </tr>\n",
       "    <tr>\n",
       "      <th>2</th>\n",
       "      <td>3</td>\n",
       "      <td>3699.517762</td>\n",
       "    </tr>\n",
       "    <tr>\n",
       "      <th>3</th>\n",
       "      <td>4</td>\n",
       "      <td>3612.204636</td>\n",
       "    </tr>\n",
       "    <tr>\n",
       "      <th>4</th>\n",
       "      <td>5</td>\n",
       "      <td>3760.695910</td>\n",
       "    </tr>\n",
       "    <tr>\n",
       "      <th>5</th>\n",
       "      <td>6</td>\n",
       "      <td>3668.275370</td>\n",
       "    </tr>\n",
       "    <tr>\n",
       "      <th>6</th>\n",
       "      <td>7</td>\n",
       "      <td>3702.510261</td>\n",
       "    </tr>\n",
       "    <tr>\n",
       "      <th>7</th>\n",
       "      <td>8</td>\n",
       "      <td>3677.773211</td>\n",
       "    </tr>\n",
       "    <tr>\n",
       "      <th>8</th>\n",
       "      <td>9</td>\n",
       "      <td>3648.582796</td>\n",
       "    </tr>\n",
       "    <tr>\n",
       "      <th>9</th>\n",
       "      <td>10</td>\n",
       "      <td>3728.283701</td>\n",
       "    </tr>\n",
       "    <tr>\n",
       "      <th>10</th>\n",
       "      <td>11</td>\n",
       "      <td>3694.632177</td>\n",
       "    </tr>\n",
       "    <tr>\n",
       "      <th>11</th>\n",
       "      <td>12</td>\n",
       "      <td>3612.470725</td>\n",
       "    </tr>\n",
       "    <tr>\n",
       "      <th>12</th>\n",
       "      <td>13</td>\n",
       "      <td>3717.297217</td>\n",
       "    </tr>\n",
       "    <tr>\n",
       "      <th>13</th>\n",
       "      <td>14</td>\n",
       "      <td>3577.707839</td>\n",
       "    </tr>\n",
       "    <tr>\n",
       "      <th>14</th>\n",
       "      <td>15</td>\n",
       "      <td>3713.876670</td>\n",
       "    </tr>\n",
       "    <tr>\n",
       "      <th>15</th>\n",
       "      <td>16</td>\n",
       "      <td>3665.214265</td>\n",
       "    </tr>\n",
       "    <tr>\n",
       "      <th>16</th>\n",
       "      <td>17</td>\n",
       "      <td>3791.081083</td>\n",
       "    </tr>\n",
       "    <tr>\n",
       "      <th>17</th>\n",
       "      <td>18</td>\n",
       "      <td>3695.177017</td>\n",
       "    </tr>\n",
       "    <tr>\n",
       "      <th>18</th>\n",
       "      <td>19</td>\n",
       "      <td>3708.959742</td>\n",
       "    </tr>\n",
       "    <tr>\n",
       "      <th>19</th>\n",
       "      <td>20</td>\n",
       "      <td>3682.751853</td>\n",
       "    </tr>\n",
       "  </tbody>\n",
       "</table>\n",
       "</div>"
      ],
      "text/plain": [
       "    TIME        PASTA\n",
       "0      1  3705.741158\n",
       "1      2  3599.028148\n",
       "2      3  3699.517762\n",
       "3      4  3612.204636\n",
       "4      5  3760.695910\n",
       "5      6  3668.275370\n",
       "6      7  3702.510261\n",
       "7      8  3677.773211\n",
       "8      9  3648.582796\n",
       "9     10  3728.283701\n",
       "10    11  3694.632177\n",
       "11    12  3612.470725\n",
       "12    13  3717.297217\n",
       "13    14  3577.707839\n",
       "14    15  3713.876670\n",
       "15    16  3665.214265\n",
       "16    17  3791.081083\n",
       "17    18  3695.177017\n",
       "18    19  3708.959742\n",
       "19    20  3682.751853"
      ]
     },
     "execution_count": 101,
     "metadata": {},
     "output_type": "execute_result"
    }
   ],
   "source": [
    "t_q"
   ]
  },
  {
   "cell_type": "code",
   "execution_count": null,
   "metadata": {},
   "outputs": [],
   "source": []
  }
 ],
 "metadata": {
  "kernelspec": {
   "display_name": "Python 3",
   "language": "python",
   "name": "python3"
  },
  "language_info": {
   "codemirror_mode": {
    "name": "ipython",
    "version": 3
   },
   "file_extension": ".py",
   "mimetype": "text/x-python",
   "name": "python",
   "nbconvert_exporter": "python",
   "pygments_lexer": "ipython3",
   "version": "3.7.4"
  }
 },
 "nbformat": 4,
 "nbformat_minor": 2
}
